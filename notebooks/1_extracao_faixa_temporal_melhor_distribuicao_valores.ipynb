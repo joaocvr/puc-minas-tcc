{
 "cells": [
  {
   "cell_type": "markdown",
   "metadata": {},
   "source": [
    "# Etapa 1: Identificação da faixa temporal com melhor distribuição de valores"
   ]
  },
  {
   "cell_type": "markdown",
   "metadata": {},
   "source": [
    "## 1. Importando libs"
   ]
  },
  {
   "cell_type": "code",
   "execution_count": 3,
   "metadata": {},
   "outputs": [],
   "source": [
    "import pandas as pd\n",
    "import zipfile"
   ]
  },
  {
   "cell_type": "markdown",
   "metadata": {},
   "source": [
    "## 2. Carregando o dataframe com todos os dados de todos os países e da faixa temporal de anos."
   ]
  },
  {
   "cell_type": "code",
   "execution_count": 4,
   "metadata": {},
   "outputs": [
    {
     "name": "stdout",
     "output_type": "stream",
     "text": [
      "Abrindo o arquivo EdStatsData.csv\n",
      "Arquivo 'EdStatsData.csv' carregado com sucesso.\n"
     ]
    }
   ],
   "source": [
    "zf = zipfile.ZipFile('../data/Edstats_csv.zip')\n",
    "text_files = zf.infolist()\n",
    "df_todos_paises = pd.DataFrame()\n",
    "for csv_file in text_files:        \n",
    "    if csv_file.filename == 'EdStatsData.csv':\n",
    "        print(\"Abrindo o arquivo\",csv_file.filename)\n",
    "        df_todos_paises = pd.read_csv(zf.open(csv_file.filename))\n",
    "        break\n",
    "\n",
    "if df_todos_paises.empty:\n",
    "    exit(\"Erro ao ler o arquivo 'EdStatsData.csv' que fica dentro do 'Edstats_csv.zip' na pasta 'data'.\")\n",
    "else:\n",
    "    print(\"Arquivo 'EdStatsData.csv' carregado com sucesso.\")"
   ]
  },
  {
   "cell_type": "markdown",
   "metadata": {},
   "source": [
    "## 3. Separando dados referentes ao Brasil.\n",
    "O Brasil será o país selecionado, no trabalho de conclusão de curso, como referência para comparações, análises e previsões. Logo, é pertinente que uma faixa temporal seja escolhida de acordo com os seus dados."
   ]
  },
  {
   "cell_type": "code",
   "execution_count": 5,
   "metadata": {},
   "outputs": [],
   "source": [
    "df_brasil = df_todos_paises.loc[df_todos_paises['Country Name'].isin(['Brazil'])]\n",
    "df_brasil.index = range(df_brasil.shape[0])"
   ]
  },
  {
   "cell_type": "markdown",
   "metadata": {},
   "source": [
    "## 4. Selecionar as linhas referentes aos indicadores relevantes ao tema e objetivos do trabalho de conclusão de curso.\n",
    "Previamente, de acordo com o tema e os objetivos do trabalho de conclusão de curso, foram selecionados indicadores para responder questionamentos e realizar análise e previsões. Sendo esses considerados os indicadores relevantes."
   ]
  },
  {
   "cell_type": "code",
   "execution_count": 6,
   "metadata": {
    "scrolled": true
   },
   "outputs": [
    {
     "name": "stdout",
     "output_type": "stream",
     "text": [
      "A coluna de testes será a de 2013 e o intervalo de anos será entre 1998 a 2012\n"
     ]
    }
   ],
   "source": [
    "df_indicadores_relevantes = pd.read_csv('../data/codigos_indicadores_relevantes.csv')\n",
    "\n",
    "df_indicadores_relevantes.columns = ['Indicator Code']\n",
    "\n",
    "df_faixa_temporal_indicadores_relevantes_brasil = df_brasil.loc[df_brasil['Indicator Code'].isin(df_indicadores_relevantes['Indicator Code'])]\n",
    "\n",
    "df_faixa_temporal_indicadores_relevantes_brasil = df_faixa_temporal_indicadores_relevantes_brasil.drop(['Country Name', 'Country Code', 'Indicator Name', 'Indicator Code'], axis=1)\n",
    "\n",
    "df_faixa_temporal_indicadores_relevantes_brasil.index = range(df_faixa_temporal_indicadores_relevantes_brasil.shape[0])\n",
    "\n",
    "df_faixa_temporal_indicadores_relevantes_brasil.fillna(0, inplace = True)\n",
    "\n",
    "df_anos_com_dados_vazios = df_faixa_temporal_indicadores_relevantes_brasil.loc[:, df_faixa_temporal_indicadores_relevantes_brasil.isin([0]).mean() >= .6]\n",
    "\n",
    "df_intervalo_anos_preenchidos = df_faixa_temporal_indicadores_relevantes_brasil.drop(list(df_anos_com_dados_vazios.columns), axis=1)\n",
    "\n",
    "if (df_intervalo_anos_preenchidos['2013'].mean().round(2) > df_intervalo_anos_preenchidos['2014'].mean().round(2)):\n",
    "       \n",
    "    anos = pd.Series(list(df_intervalo_anos_preenchidos))\n",
    "    anos.name = 'Year'\n",
    "    anos.drop(index = [16]).to_csv('../data/lista_anos.csv', index = False)\n",
    "    \n",
    "    print('A coluna de testes será a de 2013 e o intervalo de anos será entre 1998 a 2012')\n",
    "    \n",
    "else:\n",
    "    print('A coluna de testes será a de 2014 e o intervalo de anos será entre 1998 a 2013')"
   ]
  }
 ],
 "metadata": {
  "kernelspec": {
   "display_name": "Python 3",
   "language": "python",
   "name": "python3"
  },
  "language_info": {
   "codemirror_mode": {
    "name": "ipython",
    "version": 3
   },
   "file_extension": ".py",
   "mimetype": "text/x-python",
   "name": "python",
   "nbconvert_exporter": "python",
   "pygments_lexer": "ipython3",
   "version": "3.8.2"
  }
 },
 "nbformat": 4,
 "nbformat_minor": 4
}
