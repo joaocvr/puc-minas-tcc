{
 "cells": [
  {
   "cell_type": "markdown",
   "metadata": {},
   "source": [
    "# Etapa 1: Identificação da faixa temporal com melhor distribuição de valores"
   ]
  },
  {
   "cell_type": "markdown",
   "metadata": {},
   "source": [
    "## 1. Importando libs"
   ]
  },
  {
   "cell_type": "code",
   "execution_count": 22,
   "metadata": {},
   "outputs": [],
   "source": [
    "import pandas as pd\n",
    "import zipfile"
   ]
  },
  {
   "cell_type": "markdown",
   "metadata": {},
   "source": [
    "## 2. Carregando o dataframe com todos os dados de todos os países e da faixa temporal de anos."
   ]
  },
  {
   "cell_type": "code",
   "execution_count": 23,
   "metadata": {},
   "outputs": [
    {
     "name": "stdout",
     "output_type": "stream",
     "text": [
      "Abrindo o arquivo EdStatsData.csv\n",
      "Arquivo 'EdStatsData.csv' carregado com sucesso.\n"
     ]
    }
   ],
   "source": [
    "zf = zipfile.ZipFile('../data/Edstats_csv.zip')\n",
    "text_files = zf.infolist()\n",
    "df_todos_paises = pd.DataFrame()\n",
    "for csv_file in text_files:        \n",
    "    if csv_file.filename == 'EdStatsData.csv':\n",
    "        print(\"Abrindo o arquivo\",csv_file.filename)\n",
    "        df_todos_paises = pd.read_csv(zf.open(csv_file.filename))\n",
    "        break\n",
    "\n",
    "if df_todos_paises.empty:\n",
    "    exit(\"Erro ao ler o arquivo 'EdStatsData.csv' que fica dentro do 'Edstats_csv.zip' na pasta 'data'.\")\n",
    "else:\n",
    "    print(\"Arquivo 'EdStatsData.csv' carregado com sucesso.\")"
   ]
  },
  {
   "cell_type": "markdown",
   "metadata": {},
   "source": [
    "## 3. Separando dados referentes ao Brasil.\n",
    "O Brasil será o país selecionado, no trabalho de conclusão de curso, como referência para comparações, análises e previsões. Logo, é pertinente que uma faixa temporal seja escolhida de acordo com os seus dados."
   ]
  },
  {
   "cell_type": "code",
   "execution_count": 46,
   "metadata": {},
   "outputs": [
    {
     "data": {
      "text/html": [
       "<div>\n",
       "<style scoped>\n",
       "    .dataframe tbody tr th:only-of-type {\n",
       "        vertical-align: middle;\n",
       "    }\n",
       "\n",
       "    .dataframe tbody tr th {\n",
       "        vertical-align: top;\n",
       "    }\n",
       "\n",
       "    .dataframe thead th {\n",
       "        text-align: right;\n",
       "    }\n",
       "</style>\n",
       "<table border=\"1\" class=\"dataframe\">\n",
       "  <thead>\n",
       "    <tr style=\"text-align: right;\">\n",
       "      <th></th>\n",
       "      <th>Country Name</th>\n",
       "      <th>Country Code</th>\n",
       "      <th>Indicator Name</th>\n",
       "      <th>Indicator Code</th>\n",
       "      <th>1970</th>\n",
       "      <th>1971</th>\n",
       "      <th>1972</th>\n",
       "      <th>1973</th>\n",
       "      <th>1974</th>\n",
       "      <th>1975</th>\n",
       "      <th>...</th>\n",
       "      <th>2060</th>\n",
       "      <th>2065</th>\n",
       "      <th>2070</th>\n",
       "      <th>2075</th>\n",
       "      <th>2080</th>\n",
       "      <th>2085</th>\n",
       "      <th>2090</th>\n",
       "      <th>2095</th>\n",
       "      <th>2100</th>\n",
       "      <th>Unnamed: 69</th>\n",
       "    </tr>\n",
       "  </thead>\n",
       "  <tbody>\n",
       "    <tr>\n",
       "      <th>0</th>\n",
       "      <td>Brazil</td>\n",
       "      <td>BRA</td>\n",
       "      <td>Adjusted net enrolment rate, lower secondary, ...</td>\n",
       "      <td>UIS.NERA.2</td>\n",
       "      <td>NaN</td>\n",
       "      <td>NaN</td>\n",
       "      <td>NaN</td>\n",
       "      <td>NaN</td>\n",
       "      <td>NaN</td>\n",
       "      <td>NaN</td>\n",
       "      <td>...</td>\n",
       "      <td>NaN</td>\n",
       "      <td>NaN</td>\n",
       "      <td>NaN</td>\n",
       "      <td>NaN</td>\n",
       "      <td>NaN</td>\n",
       "      <td>NaN</td>\n",
       "      <td>NaN</td>\n",
       "      <td>NaN</td>\n",
       "      <td>NaN</td>\n",
       "      <td>NaN</td>\n",
       "    </tr>\n",
       "    <tr>\n",
       "      <th>1</th>\n",
       "      <td>Brazil</td>\n",
       "      <td>BRA</td>\n",
       "      <td>Adjusted net enrolment rate, lower secondary, ...</td>\n",
       "      <td>UIS.NERA.2.F</td>\n",
       "      <td>NaN</td>\n",
       "      <td>NaN</td>\n",
       "      <td>NaN</td>\n",
       "      <td>NaN</td>\n",
       "      <td>NaN</td>\n",
       "      <td>NaN</td>\n",
       "      <td>...</td>\n",
       "      <td>NaN</td>\n",
       "      <td>NaN</td>\n",
       "      <td>NaN</td>\n",
       "      <td>NaN</td>\n",
       "      <td>NaN</td>\n",
       "      <td>NaN</td>\n",
       "      <td>NaN</td>\n",
       "      <td>NaN</td>\n",
       "      <td>NaN</td>\n",
       "      <td>NaN</td>\n",
       "    </tr>\n",
       "    <tr>\n",
       "      <th>2</th>\n",
       "      <td>Brazil</td>\n",
       "      <td>BRA</td>\n",
       "      <td>Adjusted net enrolment rate, lower secondary, ...</td>\n",
       "      <td>UIS.NERA.2.GPI</td>\n",
       "      <td>NaN</td>\n",
       "      <td>NaN</td>\n",
       "      <td>NaN</td>\n",
       "      <td>NaN</td>\n",
       "      <td>NaN</td>\n",
       "      <td>NaN</td>\n",
       "      <td>...</td>\n",
       "      <td>NaN</td>\n",
       "      <td>NaN</td>\n",
       "      <td>NaN</td>\n",
       "      <td>NaN</td>\n",
       "      <td>NaN</td>\n",
       "      <td>NaN</td>\n",
       "      <td>NaN</td>\n",
       "      <td>NaN</td>\n",
       "      <td>NaN</td>\n",
       "      <td>NaN</td>\n",
       "    </tr>\n",
       "    <tr>\n",
       "      <th>3</th>\n",
       "      <td>Brazil</td>\n",
       "      <td>BRA</td>\n",
       "      <td>Adjusted net enrolment rate, lower secondary, ...</td>\n",
       "      <td>UIS.NERA.2.M</td>\n",
       "      <td>NaN</td>\n",
       "      <td>NaN</td>\n",
       "      <td>NaN</td>\n",
       "      <td>NaN</td>\n",
       "      <td>NaN</td>\n",
       "      <td>NaN</td>\n",
       "      <td>...</td>\n",
       "      <td>NaN</td>\n",
       "      <td>NaN</td>\n",
       "      <td>NaN</td>\n",
       "      <td>NaN</td>\n",
       "      <td>NaN</td>\n",
       "      <td>NaN</td>\n",
       "      <td>NaN</td>\n",
       "      <td>NaN</td>\n",
       "      <td>NaN</td>\n",
       "      <td>NaN</td>\n",
       "    </tr>\n",
       "    <tr>\n",
       "      <th>4</th>\n",
       "      <td>Brazil</td>\n",
       "      <td>BRA</td>\n",
       "      <td>Adjusted net enrolment rate, primary, both sex...</td>\n",
       "      <td>SE.PRM.TENR</td>\n",
       "      <td>NaN</td>\n",
       "      <td>NaN</td>\n",
       "      <td>NaN</td>\n",
       "      <td>NaN</td>\n",
       "      <td>NaN</td>\n",
       "      <td>NaN</td>\n",
       "      <td>...</td>\n",
       "      <td>NaN</td>\n",
       "      <td>NaN</td>\n",
       "      <td>NaN</td>\n",
       "      <td>NaN</td>\n",
       "      <td>NaN</td>\n",
       "      <td>NaN</td>\n",
       "      <td>NaN</td>\n",
       "      <td>NaN</td>\n",
       "      <td>NaN</td>\n",
       "      <td>NaN</td>\n",
       "    </tr>\n",
       "  </tbody>\n",
       "</table>\n",
       "<p>5 rows × 70 columns</p>\n",
       "</div>"
      ],
      "text/plain": [
       "  Country Name Country Code  \\\n",
       "0       Brazil          BRA   \n",
       "1       Brazil          BRA   \n",
       "2       Brazil          BRA   \n",
       "3       Brazil          BRA   \n",
       "4       Brazil          BRA   \n",
       "\n",
       "                                      Indicator Name  Indicator Code  1970  \\\n",
       "0  Adjusted net enrolment rate, lower secondary, ...      UIS.NERA.2   NaN   \n",
       "1  Adjusted net enrolment rate, lower secondary, ...    UIS.NERA.2.F   NaN   \n",
       "2  Adjusted net enrolment rate, lower secondary, ...  UIS.NERA.2.GPI   NaN   \n",
       "3  Adjusted net enrolment rate, lower secondary, ...    UIS.NERA.2.M   NaN   \n",
       "4  Adjusted net enrolment rate, primary, both sex...     SE.PRM.TENR   NaN   \n",
       "\n",
       "   1971  1972  1973  1974  1975  ...  2060  2065  2070  2075  2080  2085  \\\n",
       "0   NaN   NaN   NaN   NaN   NaN  ...   NaN   NaN   NaN   NaN   NaN   NaN   \n",
       "1   NaN   NaN   NaN   NaN   NaN  ...   NaN   NaN   NaN   NaN   NaN   NaN   \n",
       "2   NaN   NaN   NaN   NaN   NaN  ...   NaN   NaN   NaN   NaN   NaN   NaN   \n",
       "3   NaN   NaN   NaN   NaN   NaN  ...   NaN   NaN   NaN   NaN   NaN   NaN   \n",
       "4   NaN   NaN   NaN   NaN   NaN  ...   NaN   NaN   NaN   NaN   NaN   NaN   \n",
       "\n",
       "   2090  2095  2100  Unnamed: 69  \n",
       "0   NaN   NaN   NaN          NaN  \n",
       "1   NaN   NaN   NaN          NaN  \n",
       "2   NaN   NaN   NaN          NaN  \n",
       "3   NaN   NaN   NaN          NaN  \n",
       "4   NaN   NaN   NaN          NaN  \n",
       "\n",
       "[5 rows x 70 columns]"
      ]
     },
     "execution_count": 46,
     "metadata": {},
     "output_type": "execute_result"
    }
   ],
   "source": [
    "df_brasil = df_todos_paises.loc[df_todos_paises['Country Name'].isin(['Brazil'])]\n",
    "df_brasil.index = range(df_brasil.shape[0])\n",
    "df_brasil.head()"
   ]
  },
  {
   "cell_type": "markdown",
   "metadata": {},
   "source": [
    "## 4. Selecionar as linhas referentes aos indicadores relevantes ao tema e objetivos do trabalho de conclusão de curso.\n",
    "Previamente, de acordo com o tema e os objetivos do trabalho de conclusão de curso, foram selecionados indicadores para responder questionamentos e realizar análise e previsões. Sendo esses considerados os indicadores relevantes."
   ]
  },
  {
   "cell_type": "code",
   "execution_count": 52,
   "metadata": {
    "scrolled": true
   },
   "outputs": [
    {
     "name": "stdout",
     "output_type": "stream",
     "text": [
      "A coluna de testes será a de 2013 e o intervalo de anos será entre 1998 a 2012\n"
     ]
    }
   ],
   "source": [
    "df_indicadores_relevantes = pd.read_csv('../data/codigos_indicadores_relevantes.csv')\n",
    "\n",
    "df_indicadores_relevantes.columns = ['Indicator Code']\n",
    "\n",
    "df_faixa_temporal_indicadores_relevantes_brasil = df_brasil.loc[df_brasil['Indicator Code'].isin(df_indicadores_relevantes['Indicator Code'])]\n",
    "\n",
    "df_faixa_temporal_indicadores_relevantes_brasil = df_faixa_temporal_indicadores_relevantes_brasil.drop(['Country Name', 'Country Code', 'Indicator Name', 'Indicator Code'], axis=1)\n",
    "\n",
    "df_faixa_temporal_indicadores_relevantes_brasil.index = range(df_faixa_temporal_indicadores_relevantes_brasil.shape[0])\n",
    "\n",
    "df_faixa_temporal_indicadores_relevantes_brasil.fillna(0, inplace = True)\n",
    "\n",
    "df_anos_com_dados_vazios = df_faixa_temporal_indicadores_relevantes_brasil.loc[:, df_faixa_temporal_indicadores_relevantes_brasil.isin([0]).mean() >= .6]\n",
    "\n",
    "df_intervalo_anos_preenchidos = df_faixa_temporal_indicadores_relevantes_brasil.drop(list(df_anos_com_dados_vazios.columns), axis=1)\n",
    "\n",
    "if (df_intervalo_anos_preenchidos['2013'].mean().round(2) > df_intervalo_anos_preenchidos['2014'].mean().round(2)):\n",
    "       \n",
    "    anos = pd.Series(list(df_intervalo_anos_preenchidos))\n",
    "    anos.name = 'Year'\n",
    "    anos.drop(index = [16]).to_csv('../data/lista_anos.csv', index = False)\n",
    "    \n",
    "    print('A coluna de testes será a de 2013 e o intervalo de anos será entre 1998 a 2012')\n",
    "    \n",
    "else:\n",
    "    print('A coluna de testes será a de 2014 e o intervalo de anos será entre 1998 a 2013')"
   ]
  }
 ],
 "metadata": {
  "kernelspec": {
   "display_name": "Python 3",
   "language": "python",
   "name": "python3"
  },
  "language_info": {
   "codemirror_mode": {
    "name": "ipython",
    "version": 3
   },
   "file_extension": ".py",
   "mimetype": "text/x-python",
   "name": "python",
   "nbconvert_exporter": "python",
   "pygments_lexer": "ipython3",
   "version": "3.8.2"
  }
 },
 "nbformat": 4,
 "nbformat_minor": 4
}
