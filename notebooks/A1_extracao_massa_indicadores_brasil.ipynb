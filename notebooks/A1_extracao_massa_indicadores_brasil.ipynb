{
 "cells": [
  {
   "cell_type": "markdown",
   "metadata": {},
   "source": [
    "# Auxiliar 1: Encontrar identificadores com maior frequência de valores preenchidos para o Brasil, entre 1998 a 2013."
   ]
  },
  {
   "cell_type": "markdown",
   "metadata": {},
   "source": [
    "## 1. Importando libs"
   ]
  },
  {
   "cell_type": "code",
   "execution_count": 98,
   "metadata": {},
   "outputs": [],
   "source": [
    "import pandas as pd\n",
    "import zipfile\n",
    "import numpy as np"
   ]
  },
  {
   "cell_type": "markdown",
   "metadata": {},
   "source": [
    "## 2. Carregando o dataframe com todos os dados de todos os países e da faixa temporal de anos."
   ]
  },
  {
   "cell_type": "code",
   "execution_count": 99,
   "metadata": {},
   "outputs": [
    {
     "name": "stdout",
     "output_type": "stream",
     "text": [
      "Abrindo o arquivo EdStatsData.csv\n",
      "Arquivo 'EdStatsData.csv' carregado com sucesso.\n"
     ]
    }
   ],
   "source": [
    "zf = zipfile.ZipFile('../data/Edstats_csv.zip')\n",
    "text_files = zf.infolist()\n",
    "df_todos_paises = pd.DataFrame()\n",
    "for csv_file in text_files:        \n",
    "    if csv_file.filename == 'EdStatsData.csv':\n",
    "        print(\"Abrindo o arquivo\",csv_file.filename)\n",
    "        df_todos_paises = pd.read_csv(zf.open(csv_file.filename))\n",
    "        break\n",
    "\n",
    "if df_todos_paises.empty:\n",
    "    exit(\"Erro ao ler o arquivo 'EdStatsData.csv' que fica dentro do 'Edstats_csv.zip' na pasta 'data'.\")\n",
    "else:\n",
    "    print(\"Arquivo 'EdStatsData.csv' carregado com sucesso.\")"
   ]
  },
  {
   "cell_type": "markdown",
   "metadata": {},
   "source": [
    "## 3. Separando dados referentes ao Brasil.\n",
    "O Brasil será o país selecionado, no trabalho de conclusão de curso, como referência para comparações, análises e previsões. Logo, é pertinente que uma faixa temporal seja escolhida de acordo com os seus dados."
   ]
  },
  {
   "cell_type": "code",
   "execution_count": 100,
   "metadata": {},
   "outputs": [],
   "source": [
    "df_brasil = df_todos_paises.loc[df_todos_paises['Country Name'].isin(['Brazil'])]\n",
    "\n",
    "df_todos_paises_lista_colunas = df_brasil.columns.tolist()\n",
    "ultima_coluna_lixo_massa = df_todos_paises_lista_colunas[len(df_todos_paises_lista_colunas)-1]\n",
    "df_brasil = df_brasil.drop([ultima_coluna_lixo_massa], axis=1)\n",
    "\n",
    "df_brasil.index = range(df_brasil.shape[0])"
   ]
  },
  {
   "cell_type": "markdown",
   "metadata": {},
   "source": [
    "## 4. Selecionar as linhas referentes aos anos de 1998 a 2013 e encontrar os indicadores com mais de 60% de taxa de preenchimento."
   ]
  },
  {
   "cell_type": "code",
   "execution_count": 106,
   "metadata": {
    "scrolled": true
   },
   "outputs": [],
   "source": [
    "for c in df_brasil.columns:\n",
    "    if(df_brasil[c].dtype == np.float64):\n",
    "        coluna_numerica = pd.to_numeric(df_brasil[c].name, errors='coerce')\n",
    "        \n",
    "        if(coluna_numerica < 1998 or coluna_numerica > 2013):\n",
    "            del df_brasil[str(coluna_numerica)]\n",
    "\n",
    "df_massa_selecionada = df_brasil.drop(['Country Code', 'Country Name'], axis = 1)\n",
    "\n",
    "indicadores_relevantes = []\n",
    "for indicador in df_massa_selecionada['Indicator Name']:\n",
    "    df_por_indicador = df_massa_selecionada.loc[df_massa_selecionada['Indicator Name'] == indicador]\n",
    "    codigo_indicador = df_por_indicador['Indicator Code'].iloc[0]\n",
    "    df_por_indicador = df_por_indicador.drop(['Indicator Name', 'Indicator Code'], axis = 1)\n",
    "    media_valores = df_por_indicador.iloc[0].isna().mean()\n",
    "    if media_valores <= 0.3:\n",
    "        indicadores_relevantes.append(indicador + ';' + codigo_indicador + ';' + str(1-media_valores))\n",
    "\n",
    "df_indicadores_relevantes = pd.DataFrame(indicadores_relevantes, columns=['Indicador'], )\n",
    "df_indicadores_relevantes.to_csv('../data/brasil_relevancia_indicadores.csv', index = False)"
   ]
  }
 ],
 "metadata": {
  "kernelspec": {
   "display_name": "Python 3",
   "language": "python",
   "name": "python3"
  },
  "language_info": {
   "codemirror_mode": {
    "name": "ipython",
    "version": 3
   },
   "file_extension": ".py",
   "mimetype": "text/x-python",
   "name": "python",
   "nbconvert_exporter": "python",
   "pygments_lexer": "ipython3",
   "version": "3.8.2"
  }
 },
 "nbformat": 4,
 "nbformat_minor": 4
}
