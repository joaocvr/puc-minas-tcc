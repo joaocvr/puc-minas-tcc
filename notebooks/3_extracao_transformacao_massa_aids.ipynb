{
 "cells": [
  {
   "cell_type": "markdown",
   "metadata": {},
   "source": [
    "# Etapa 3: Extração e transformação para alcançar a massa de dados com indicadores relevantes no período de tempo entre 2010 a 2014 do dataset \"Epidemic transition metrics_Trend of new HIV infections.csv\"."
   ]
  },
  {
   "cell_type": "markdown",
   "metadata": {},
   "source": [
    "## 1. Importando libs"
   ]
  },
  {
   "cell_type": "code",
   "execution_count": 1,
   "metadata": {},
   "outputs": [
    {
     "name": "stdout",
     "output_type": "stream",
     "text": [
      "Requirement already satisfied: pandas in /home/joca/.local/lib/python3.8/site-packages (1.0.5)\n",
      "Requirement already satisfied: numpy>=1.13.3 in /home/joca/.local/lib/python3.8/site-packages (from pandas) (1.19.0)\n",
      "Requirement already satisfied: pytz>=2017.2 in /usr/lib/python3/dist-packages (from pandas) (2019.3)\n",
      "Requirement already satisfied: python-dateutil>=2.6.1 in /usr/lib/python3/dist-packages (from pandas) (2.7.3)\n",
      "Requirement already satisfied: numpy in /home/joca/.local/lib/python3.8/site-packages (1.19.0)\n"
     ]
    }
   ],
   "source": [
    "!pip3 install pandas\n",
    "!pip3 install numpy"
   ]
  },
  {
   "cell_type": "code",
   "execution_count": 2,
   "metadata": {},
   "outputs": [],
   "source": [
    "import pandas as pd\n",
    "import numpy as np"
   ]
  },
  {
   "cell_type": "markdown",
   "metadata": {},
   "source": [
    "## 2. Carregando o dataframe com os dados de todos os países e da faixa temporal."
   ]
  },
  {
   "cell_type": "code",
   "execution_count": 3,
   "metadata": {},
   "outputs": [
    {
     "name": "stdout",
     "output_type": "stream",
     "text": [
      "Arquivo 'df_aids_todos_paises.csv' carregado com sucesso.\n"
     ]
    }
   ],
   "source": [
    "df_aids_todos_paises = pd.read_csv('../data/Epidemic transition metrics_Trend of new HIV infections.csv')\n",
    "\n",
    "if df_aids_todos_paises.empty:\n",
    "    exit(\"Erro ao ler o arquivo 'df_aids_todos_paises.csv' na pasta 'data'.\")\n",
    "else:\n",
    "    print(\"Arquivo 'df_aids_todos_paises.csv' carregado com sucesso.\")"
   ]
  },
  {
   "cell_type": "markdown",
   "metadata": {},
   "source": [
    "## 3. Carregando os países definidos em \"lista_paises_aids.csv\"."
   ]
  },
  {
   "cell_type": "code",
   "execution_count": 4,
   "metadata": {},
   "outputs": [],
   "source": [
    "df_lista_paises = pd.read_csv('../data/lista_paises_aids.csv')"
   ]
  },
  {
   "cell_type": "markdown",
   "metadata": {},
   "source": [
    "## 4. Extraindo e transformando dados referentes aos países previamente definidos para \"massa_bruta_aids.csv\"."
   ]
  },
  {
   "cell_type": "markdown",
   "metadata": {},
   "source": [
    "Seleciona apenas os registros dos países presentes em \"lista_paises_aids.csv\"."
   ]
  },
  {
   "cell_type": "code",
   "execution_count": 5,
   "metadata": {},
   "outputs": [],
   "source": [
    "df_paises_filtrados = df_aids_todos_paises.loc[df_aids_todos_paises['Country'].isin(df_lista_paises['Country Name'])]"
   ]
  },
  {
   "cell_type": "markdown",
   "metadata": {},
   "source": [
    "Recupera os anos a serem utilizados para selecionar a faixa temporal da massa final."
   ]
  },
  {
   "cell_type": "code",
   "execution_count": 6,
   "metadata": {},
   "outputs": [],
   "source": [
    "df_lista_anos = pd.read_csv('../data/lista_anos_aids.csv')\n",
    "menor_ano = df_lista_anos.min()\n",
    "maior_ano = df_lista_anos.max()"
   ]
  },
  {
   "cell_type": "markdown",
   "metadata": {},
   "source": [
    "Aplica as restrições de anos no dataset original e gera um dataframe com apenas as colunas de 2010 a 2014 e o nome do país."
   ]
  },
  {
   "cell_type": "code",
   "execution_count": 7,
   "metadata": {},
   "outputs": [],
   "source": [
    "for c in df_paises_filtrados.columns:\n",
    "    nome_coluna = c.strip(\" \")\n",
    "    if(nome_coluna.isdigit()):\n",
    "        int_nome_coluna = int(nome_coluna)\n",
    "        if(((int_nome_coluna >= menor_ano[0]) and (int_nome_coluna <= maior_ano[0])) == False):\n",
    "            del df_paises_filtrados[c]\n",
    "            \n",
    "    elif nome_coluna != 'Country':\n",
    "        del df_paises_filtrados[c]\n",
    "        \n",
    "df_paises_filtrados.index = range(df_paises_filtrados.shape[0])"
   ]
  },
  {
   "cell_type": "markdown",
   "metadata": {},
   "source": [
    "Transforma os dados das colunas em inteiros. Exemplo: \"<1000\" será transformado em \"999\" ou \">100\" em \"99\"."
   ]
  },
  {
   "cell_type": "code",
   "execution_count": 8,
   "metadata": {},
   "outputs": [],
   "source": [
    "valores = {}\n",
    "for nome_coluna, linha in df_paises_filtrados.items():\n",
    "\n",
    "    if(nome_coluna == 'Country'):\n",
    "        valores[nome_coluna] = linha\n",
    "        continue\n",
    "        \n",
    "    valores_linha = []\n",
    "    for index, item in linha.items():\n",
    "\n",
    "        valor = item.strip(' ')\n",
    "        if(valor.isdigit() == False):\n",
    "            if ('<' in valor):\n",
    "                valor = valor.strip('<')\n",
    "                valor = int(valor) - 1\n",
    "\n",
    "            elif('>' in valor):\n",
    "                valor = valor.strip('>')\n",
    "                valor = int(valor) + 1\n",
    "\n",
    "            elif('...' in valor):\n",
    "                valor = 0\n",
    "\n",
    "            else:\n",
    "                valor = valor.replace(' ', '')\n",
    "\n",
    "        valores_linha.append(valor)\n",
    "    valores[nome_coluna] = valores_linha\n",
    "\n",
    "df_resultado_transformacao = pd.DataFrame(valores)"
   ]
  },
  {
   "cell_type": "markdown",
   "metadata": {},
   "source": [
    "Exporta o conjunto de dados transformado para \"massa_bruta_aids.csv\"."
   ]
  },
  {
   "cell_type": "code",
   "execution_count": 9,
   "metadata": {},
   "outputs": [],
   "source": [
    "df_resultado_transformacao.to_csv('../data/massa_bruta_aids.csv', index = False)"
   ]
  }
 ],
 "metadata": {
  "kernelspec": {
   "display_name": "Python 3",
   "language": "python",
   "name": "python3"
  },
  "language_info": {
   "codemirror_mode": {
    "name": "ipython",
    "version": 3
   },
   "file_extension": ".py",
   "mimetype": "text/x-python",
   "name": "python",
   "nbconvert_exporter": "python",
   "pygments_lexer": "ipython3",
   "version": "3.8.2"
  }
 },
 "nbformat": 4,
 "nbformat_minor": 4
}
