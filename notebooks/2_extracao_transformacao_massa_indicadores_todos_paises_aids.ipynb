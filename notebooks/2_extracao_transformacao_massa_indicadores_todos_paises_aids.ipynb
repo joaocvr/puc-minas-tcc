{
 "cells": [
  {
   "cell_type": "markdown",
   "metadata": {},
   "source": [
    "# Etapa 2: Extração e transformação para alcançar a massa de dados com indicadores relevantes no período de tempo entre 2010 a 2014 do dataset \"EdStatsData.csv\"."
   ]
  },
  {
   "cell_type": "markdown",
   "metadata": {},
   "source": [
    "## 1. Importando libs"
   ]
  },
  {
   "cell_type": "code",
   "execution_count": 1,
   "metadata": {},
   "outputs": [
    {
     "name": "stdout",
     "output_type": "stream",
     "text": [
      "Requirement already satisfied: pandas in /home/joca/.local/lib/python3.8/site-packages (1.0.5)\n",
      "Requirement already satisfied: python-dateutil>=2.6.1 in /usr/lib/python3/dist-packages (from pandas) (2.7.3)\n",
      "Requirement already satisfied: pytz>=2017.2 in /usr/lib/python3/dist-packages (from pandas) (2019.3)\n",
      "Requirement already satisfied: numpy>=1.13.3 in /home/joca/.local/lib/python3.8/site-packages (from pandas) (1.19.0)\n",
      "Requirement already satisfied: numpy in /home/joca/.local/lib/python3.8/site-packages (1.19.0)\n"
     ]
    }
   ],
   "source": [
    "!pip3 install pandas\n",
    "!pip3 install numpy"
   ]
  },
  {
   "cell_type": "code",
   "execution_count": 2,
   "metadata": {},
   "outputs": [],
   "source": [
    "import pandas as pd\n",
    "import numpy as np\n",
    "import zipfile"
   ]
  },
  {
   "cell_type": "markdown",
   "metadata": {},
   "source": [
    "## 2. Carregando o dataframe com os dados de todos os países e da faixa temporal."
   ]
  },
  {
   "cell_type": "code",
   "execution_count": 3,
   "metadata": {},
   "outputs": [
    {
     "name": "stdout",
     "output_type": "stream",
     "text": [
      "Abrindo o arquivo EdStatsData.csv\n",
      "Arquivo 'EdStatsData.csv' carregado com sucesso.\n"
     ]
    }
   ],
   "source": [
    "zf = zipfile.ZipFile('../data/Edstats_csv.zip')\n",
    "text_files = zf.infolist()\n",
    "df_todos_paises = pd.DataFrame()\n",
    "for csv_file in text_files:        \n",
    "    if csv_file.filename == 'EdStatsData.csv':\n",
    "        print(\"Abrindo o arquivo\",csv_file.filename)\n",
    "        df_todos_paises = pd.read_csv(zf.open(csv_file.filename))\n",
    "        break\n",
    "\n",
    "if df_todos_paises.empty:\n",
    "    exit(\"Erro ao ler o arquivo 'EdStatsData.csv' que fica dentro do 'Edstats_csv.zip' na pasta 'data'.\")\n",
    "else:\n",
    "    print(\"Arquivo 'EdStatsData.csv' carregado com sucesso.\")"
   ]
  },
  {
   "cell_type": "markdown",
   "metadata": {},
   "source": [
    "## 3. Organizando nome de países definidos em \"lista_suja_paises\"."
   ]
  },
  {
   "cell_type": "code",
   "execution_count": 4,
   "metadata": {},
   "outputs": [],
   "source": [
    "df_lista_suja_paises = pd.read_csv('../data/lista_suja_paises.csv', sep = ';')\n",
    "\n",
    "df_lista_paises = df_lista_suja_paises.drop_duplicates()\n",
    "\n",
    "df_lista_paises.index = range(df_lista_paises.shape[0])\n",
    "\n",
    "df_lista_paises.to_csv('../data/lista_paises_aids.csv', index = False)"
   ]
  },
  {
   "cell_type": "markdown",
   "metadata": {},
   "source": [
    "## 4. Extraindo e transformando dados referentes aos países definidos para \"massa_bruta_pais_por_indicadores.csv\"."
   ]
  },
  {
   "cell_type": "markdown",
   "metadata": {},
   "source": [
    "Retira a última coluna do dataset \"EdStatsData.csv\" para manter apenas os dados úteis."
   ]
  },
  {
   "cell_type": "code",
   "execution_count": 5,
   "metadata": {},
   "outputs": [],
   "source": [
    "df_todos_paises_lista_colunas = df_todos_paises.columns.tolist()\n",
    "ultima_coluna_lixo_massa = df_todos_paises_lista_colunas[len(df_todos_paises_lista_colunas)-1]\n",
    "df_todos_paises = df_todos_paises.drop([ultima_coluna_lixo_massa], axis=1)"
   ]
  },
  {
   "cell_type": "markdown",
   "metadata": {},
   "source": [
    "Seleciona apenas os registros dos países presentes em \"lista_paises_aids.csv\"."
   ]
  },
  {
   "cell_type": "code",
   "execution_count": 6,
   "metadata": {},
   "outputs": [],
   "source": [
    "df_paises_filtrados = df_todos_paises.loc[df_todos_paises['Country Name'].isin(df_lista_paises['Country Name'])]"
   ]
  },
  {
   "cell_type": "markdown",
   "metadata": {},
   "source": [
    "Escolhe os registros dos indicadores relevantes definidos em \"codigos_indicadores_relevantes_aids.csv\"."
   ]
  },
  {
   "cell_type": "code",
   "execution_count": 7,
   "metadata": {},
   "outputs": [],
   "source": [
    "df_lista_indicadores = pd.read_csv('../data/codigos_indicadores_relevantes_aids.csv')\n",
    "df_paises_filtrados = df_paises_filtrados.loc[df_paises_filtrados['Indicator Code'].isin(df_lista_indicadores['Indicator Code'])]"
   ]
  },
  {
   "cell_type": "markdown",
   "metadata": {},
   "source": [
    "Recupera os anos a serem utilizados para selecionar a faixa temporal da massa final."
   ]
  },
  {
   "cell_type": "code",
   "execution_count": 8,
   "metadata": {},
   "outputs": [],
   "source": [
    "df_lista_anos = pd.read_csv('../data/lista_anos_aids.csv')\n",
    "menor_ano = df_lista_anos.min()\n",
    "maior_ano = df_lista_anos.max()"
   ]
  },
  {
   "cell_type": "markdown",
   "metadata": {},
   "source": [
    "Aplica as restrições selecionadas anteriormente no dataset original e gera um conjunto de dados derivado para ser exportado em \"massa_bruta_pais_por_indicadores_aids.csv\"."
   ]
  },
  {
   "cell_type": "code",
   "execution_count": 9,
   "metadata": {},
   "outputs": [],
   "source": [
    "for c in df_paises_filtrados.columns:\n",
    "    if(df_paises_filtrados[c].dtype == np.float64):\n",
    "        coluna_numerica = pd.to_numeric(df_paises_filtrados[c].name, errors='coerce')\n",
    "        \n",
    "        if(coluna_numerica < menor_ano[0] or coluna_numerica > maior_ano[0]):            \n",
    "            del df_paises_filtrados[str(coluna_numerica)]\n",
    "\n",
    "df_paises_filtrados.index = range(df_paises_filtrados.shape[0])\n",
    "\n",
    "del df_paises_filtrados['Country Code']\n",
    "del df_paises_filtrados['Indicator Name']\n",
    "\n",
    "df_paises_filtrados = df_paises_filtrados.fillna(0)\n",
    "\n",
    "df_paises_filtrados = df_paises_filtrados.round({'2010':2, '2011':2, '2012':2, '2013':2, '2014':2})\n",
    "\n",
    "df_paises_filtrados.to_csv('../data/massa_bruta_pais_por_indicadores_aids.csv', index = False)"
   ]
  }
 ],
 "metadata": {
  "kernelspec": {
   "display_name": "Python 3",
   "language": "python",
   "name": "python3"
  },
  "language_info": {
   "codemirror_mode": {
    "name": "ipython",
    "version": 3
   },
   "file_extension": ".py",
   "mimetype": "text/x-python",
   "name": "python",
   "nbconvert_exporter": "python",
   "pygments_lexer": "ipython3",
   "version": "3.8.2"
  }
 },
 "nbformat": 4,
 "nbformat_minor": 4
}
