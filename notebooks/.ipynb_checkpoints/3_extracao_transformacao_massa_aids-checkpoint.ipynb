{
 "cells": [
  {
   "cell_type": "markdown",
   "metadata": {},
   "source": [
    "# Etapa 3: Extração e transformação para alcançar a massa de dados com indicadores relevantes no período de tempo entre 2010 a 2014 do dataset \"Epidemic transition metrics_Trend of new HIV infections.csv\"."
   ]
  },
  {
   "cell_type": "markdown",
   "metadata": {},
   "source": [
    "## 1. Importando libs"
   ]
  },
  {
   "cell_type": "code",
   "execution_count": 1,
   "metadata": {},
   "outputs": [
    {
     "name": "stdout",
     "output_type": "stream",
     "text": [
      "Requirement already satisfied: pandas in /home/joca/.local/lib/python3.8/site-packages (1.0.5)\n",
      "Requirement already satisfied: python-dateutil>=2.6.1 in /usr/lib/python3/dist-packages (from pandas) (2.7.3)\n",
      "Requirement already satisfied: pytz>=2017.2 in /usr/lib/python3/dist-packages (from pandas) (2019.3)\n",
      "Requirement already satisfied: numpy>=1.13.3 in /home/joca/.local/lib/python3.8/site-packages (from pandas) (1.19.0)\n",
      "Requirement already satisfied: numpy in /home/joca/.local/lib/python3.8/site-packages (1.19.0)\n"
     ]
    }
   ],
   "source": [
    "!pip3 install pandas\n",
    "!pip3 install numpy"
   ]
  },
  {
   "cell_type": "code",
   "execution_count": 2,
   "metadata": {},
   "outputs": [],
   "source": [
    "import pandas as pd\n",
    "import numpy as np"
   ]
  },
  {
   "cell_type": "markdown",
   "metadata": {},
   "source": [
    "## 2. Carregando o dataframe com os dados de todos os países e da faixa temporal."
   ]
  },
  {
   "cell_type": "code",
   "execution_count": 3,
   "metadata": {},
   "outputs": [
    {
     "name": "stdout",
     "output_type": "stream",
     "text": [
      "Arquivo 'df_aids_todos_paises.csv' carregado com sucesso.\n"
     ]
    }
   ],
   "source": [
    "df_aids_todos_paises = pd.read_csv('../data/Epidemic transition metrics_Trend of new HIV infections.csv')\n",
    "\n",
    "if df_aids_todos_paises.empty:\n",
    "    exit(\"Erro ao ler o arquivo 'df_aids_todos_paises.csv' na pasta 'data'.\")\n",
    "else:\n",
    "    print(\"Arquivo 'df_aids_todos_paises.csv' carregado com sucesso.\")"
   ]
  },
  {
   "cell_type": "markdown",
   "metadata": {},
   "source": [
    "## 3. Carregando os países definidos em \"lista_paises_aids.csv\"."
   ]
  },
  {
   "cell_type": "code",
   "execution_count": 4,
   "metadata": {},
   "outputs": [],
   "source": [
    "df_lista_paises = pd.read_csv('../data/lista_paises_aids.csv')"
   ]
  },
  {
   "cell_type": "markdown",
   "metadata": {},
   "source": [
    "## 4. Extraindo e transformando dados referentes aos países previamente definidos para \"massa_bruta_aids.csv\"."
   ]
  },
  {
   "cell_type": "markdown",
   "metadata": {},
   "source": [
    "Seleciona apenas os registros dos países presentes em \"lista_paises_aids.csv\"."
   ]
  },
  {
   "cell_type": "code",
   "execution_count": 5,
   "metadata": {},
   "outputs": [],
   "source": [
    "df_paises_filtrados = df_aids_todos_paises.loc[df_aids_todos_paises['Country'].isin(df_lista_paises['Country Name'])]"
   ]
  },
  {
   "cell_type": "markdown",
   "metadata": {},
   "source": [
    "Recupera os anos a serem utilizados para selecionar a faixa temporal da massa final."
   ]
  },
  {
   "cell_type": "markdown",
   "metadata": {},
   "source": [
    "Transforma os dados das colunas em inteiros. Exemplo: \"<1000\" será transformado em \"999\" ou \">100\" em \"99\"."
   ]
  },
  {
   "cell_type": "code",
   "execution_count": 6,
   "metadata": {},
   "outputs": [],
   "source": [
    "df_lista_anos = pd.read_csv('../data/lista_anos_aids.csv')\n",
    "lista_anos = df_lista_anos['Year'].tolist()"
   ]
  },
  {
   "cell_type": "markdown",
   "metadata": {},
   "source": [
    "Aplica as restrições de anos no dataset original e gera um dataframe com apenas as colunas de 2010 a 2014 e o nome do país."
   ]
  },
  {
   "cell_type": "code",
   "execution_count": 7,
   "metadata": {},
   "outputs": [
    {
     "data": {
      "text/html": [
       "<div>\n",
       "<style scoped>\n",
       "    .dataframe tbody tr th:only-of-type {\n",
       "        vertical-align: middle;\n",
       "    }\n",
       "\n",
       "    .dataframe tbody tr th {\n",
       "        vertical-align: top;\n",
       "    }\n",
       "\n",
       "    .dataframe thead th {\n",
       "        text-align: right;\n",
       "    }\n",
       "</style>\n",
       "<table border=\"1\" class=\"dataframe\">\n",
       "  <thead>\n",
       "    <tr style=\"text-align: right;\">\n",
       "      <th></th>\n",
       "      <th>Country</th>\n",
       "      <th>2010</th>\n",
       "      <th>2010_lower</th>\n",
       "      <th>2010_upper</th>\n",
       "      <th>2011</th>\n",
       "      <th>2011_lower</th>\n",
       "      <th>2011_upper</th>\n",
       "      <th>2012</th>\n",
       "      <th>2012_lower</th>\n",
       "      <th>2012_upper</th>\n",
       "      <th>...</th>\n",
       "      <th>2017</th>\n",
       "      <th>2017_lower</th>\n",
       "      <th>2017_upper</th>\n",
       "      <th>2018</th>\n",
       "      <th>2018_lower</th>\n",
       "      <th>2018_upper</th>\n",
       "      <th>2019</th>\n",
       "      <th>2019_lower</th>\n",
       "      <th>2019_upper</th>\n",
       "      <th>2019.1</th>\n",
       "    </tr>\n",
       "  </thead>\n",
       "  <tbody>\n",
       "    <tr>\n",
       "      <th>0</th>\n",
       "      <td>Afghanistan</td>\n",
       "      <td>999</td>\n",
       "      <td>499</td>\n",
       "      <td>1800</td>\n",
       "      <td>999</td>\n",
       "      <td>499</td>\n",
       "      <td>2000</td>\n",
       "      <td>999</td>\n",
       "      <td>499</td>\n",
       "      <td>2300</td>\n",
       "      <td>...</td>\n",
       "      <td>1300</td>\n",
       "      <td>499</td>\n",
       "      <td>4800</td>\n",
       "      <td>1400</td>\n",
       "      <td>499</td>\n",
       "      <td>5100</td>\n",
       "      <td>1500</td>\n",
       "      <td>499</td>\n",
       "      <td>5500</td>\n",
       "      <td>116</td>\n",
       "    </tr>\n",
       "    <tr>\n",
       "      <th>1</th>\n",
       "      <td>Albania</td>\n",
       "      <td>199</td>\n",
       "      <td>99</td>\n",
       "      <td>199</td>\n",
       "      <td>199</td>\n",
       "      <td>99</td>\n",
       "      <td>199</td>\n",
       "      <td>199</td>\n",
       "      <td>99</td>\n",
       "      <td>499</td>\n",
       "      <td>...</td>\n",
       "      <td>99</td>\n",
       "      <td>99</td>\n",
       "      <td>499</td>\n",
       "      <td>99</td>\n",
       "      <td>99</td>\n",
       "      <td>499</td>\n",
       "      <td>99</td>\n",
       "      <td>99</td>\n",
       "      <td>499</td>\n",
       "      <td>-23</td>\n",
       "    </tr>\n",
       "    <tr>\n",
       "      <th>2</th>\n",
       "      <td>Algeria</td>\n",
       "      <td>1200</td>\n",
       "      <td>999</td>\n",
       "      <td>1700</td>\n",
       "      <td>1300</td>\n",
       "      <td>999</td>\n",
       "      <td>1900</td>\n",
       "      <td>1400</td>\n",
       "      <td>999</td>\n",
       "      <td>2100</td>\n",
       "      <td>...</td>\n",
       "      <td>1900</td>\n",
       "      <td>999</td>\n",
       "      <td>3300</td>\n",
       "      <td>2000</td>\n",
       "      <td>499</td>\n",
       "      <td>3600</td>\n",
       "      <td>2100</td>\n",
       "      <td>499</td>\n",
       "      <td>4100</td>\n",
       "      <td>83</td>\n",
       "    </tr>\n",
       "    <tr>\n",
       "      <th>3</th>\n",
       "      <td>Angola</td>\n",
       "      <td>26000</td>\n",
       "      <td>21000</td>\n",
       "      <td>31000</td>\n",
       "      <td>27000</td>\n",
       "      <td>22000</td>\n",
       "      <td>32000</td>\n",
       "      <td>27000</td>\n",
       "      <td>22000</td>\n",
       "      <td>32000</td>\n",
       "      <td>...</td>\n",
       "      <td>27000</td>\n",
       "      <td>20000</td>\n",
       "      <td>34000</td>\n",
       "      <td>27000</td>\n",
       "      <td>19000</td>\n",
       "      <td>35000</td>\n",
       "      <td>26000</td>\n",
       "      <td>18000</td>\n",
       "      <td>34000</td>\n",
       "      <td>-2</td>\n",
       "    </tr>\n",
       "    <tr>\n",
       "      <th>4</th>\n",
       "      <td>Argentina</td>\n",
       "      <td>5700</td>\n",
       "      <td>4600</td>\n",
       "      <td>7500</td>\n",
       "      <td>6000</td>\n",
       "      <td>4700</td>\n",
       "      <td>7900</td>\n",
       "      <td>6100</td>\n",
       "      <td>4800</td>\n",
       "      <td>7900</td>\n",
       "      <td>...</td>\n",
       "      <td>6100</td>\n",
       "      <td>4400</td>\n",
       "      <td>8200</td>\n",
       "      <td>5700</td>\n",
       "      <td>4100</td>\n",
       "      <td>8100</td>\n",
       "      <td>5900</td>\n",
       "      <td>4300</td>\n",
       "      <td>8500</td>\n",
       "      <td>3</td>\n",
       "    </tr>\n",
       "  </tbody>\n",
       "</table>\n",
       "<p>5 rows × 32 columns</p>\n",
       "</div>"
      ],
      "text/plain": [
       "       Country   2010 2010_lower  2010_upper   2011 2011_lower  2011_upper  \\\n",
       "0  Afghanistan    999        499        1800    999        499        2000   \n",
       "1      Albania    199         99         199    199         99         199   \n",
       "2      Algeria   1200        999        1700   1300        999        1900   \n",
       "3       Angola  26000      21000       31000  27000      22000       32000   \n",
       "4    Argentina   5700       4600        7500   6000       4700        7900   \n",
       "\n",
       "    2012 2012_lower  2012_upper  ...   2017 2017_lower  2017_upper   2018  \\\n",
       "0    999        499        2300  ...   1300        499        4800   1400   \n",
       "1    199         99         499  ...     99         99         499     99   \n",
       "2   1400        999        2100  ...   1900        999        3300   2000   \n",
       "3  27000      22000       32000  ...  27000      20000       34000  27000   \n",
       "4   6100       4800        7900  ...   6100       4400        8200   5700   \n",
       "\n",
       "  2018_lower  2018_upper   2019 2019_lower  2019_upper  2019.1  \n",
       "0        499        5100   1500        499        5500     116  \n",
       "1         99         499     99         99         499     -23  \n",
       "2        499        3600   2100        499        4100      83  \n",
       "3      19000       35000  26000      18000       34000      -2  \n",
       "4       4100        8100   5900       4300        8500       3  \n",
       "\n",
       "[5 rows x 32 columns]"
      ]
     },
     "execution_count": 7,
     "metadata": {},
     "output_type": "execute_result"
    }
   ],
   "source": [
    "nomes_colunas_paises_filtrados = list(df_paises_filtrados.columns.values)\n",
    "\n",
    "valores = {}\n",
    "for nome_coluna, linha in df_paises_filtrados.items():\n",
    "\n",
    "    if(nome_coluna == 'Country'):\n",
    "        valores[nome_coluna] = linha\n",
    "        continue\n",
    "        \n",
    "    valores_linha = []\n",
    "    for index, item in linha.items():\n",
    "\n",
    "        valor = item.strip(' ')\n",
    "        if(valor.isdigit() == False):\n",
    "            if ('<' in valor):\n",
    "                valor = valor.strip('<')\n",
    "                valor = int(valor) - 1\n",
    "\n",
    "            elif('>' in valor):\n",
    "                valor = valor.strip('>')\n",
    "                valor = int(valor) + 1\n",
    "\n",
    "            elif('...' in valor):\n",
    "                valor = 0\n",
    "\n",
    "            else:\n",
    "                valor = valor.replace(' ', '')\n",
    "\n",
    "        valores_linha.append(valor)\n",
    "    valores[nome_coluna] = valores_linha\n",
    "\n",
    "df_resultado_conversao_valores = pd.DataFrame(valores)\n",
    "df_resultado_conversao_valores.head()"
   ]
  },
  {
   "cell_type": "markdown",
   "metadata": {},
   "source": [
    "Seleciona as colunas dentro do intervalo definido em \"df_lista_anos\".\n",
    "As colunas escolhidas terão o ano no seu conteúdo, por exemplo: \"2010\", \"2010_lower\" e \"2010_upper\" referenciam 2010. Logo, seus valores serão convertidos para número e somados para formar uma coluna única, como, por exemplo: \"2010\"."
   ]
  },
  {
   "cell_type": "code",
   "execution_count": 10,
   "metadata": {},
   "outputs": [
    {
     "data": {
      "text/html": [
       "<div>\n",
       "<style scoped>\n",
       "    .dataframe tbody tr th:only-of-type {\n",
       "        vertical-align: middle;\n",
       "    }\n",
       "\n",
       "    .dataframe tbody tr th {\n",
       "        vertical-align: top;\n",
       "    }\n",
       "\n",
       "    .dataframe thead th {\n",
       "        text-align: right;\n",
       "    }\n",
       "</style>\n",
       "<table border=\"1\" class=\"dataframe\">\n",
       "  <thead>\n",
       "    <tr style=\"text-align: right;\">\n",
       "      <th></th>\n",
       "      <th>2010</th>\n",
       "      <th>2011</th>\n",
       "      <th>2012</th>\n",
       "      <th>2013</th>\n",
       "      <th>2014</th>\n",
       "    </tr>\n",
       "  </thead>\n",
       "  <tbody>\n",
       "    <tr>\n",
       "      <th>0</th>\n",
       "      <td>3298</td>\n",
       "      <td>3498</td>\n",
       "      <td>3798</td>\n",
       "      <td>4198</td>\n",
       "      <td>4699</td>\n",
       "    </tr>\n",
       "    <tr>\n",
       "      <th>1</th>\n",
       "      <td>497</td>\n",
       "      <td>497</td>\n",
       "      <td>797</td>\n",
       "      <td>797</td>\n",
       "      <td>797</td>\n",
       "    </tr>\n",
       "    <tr>\n",
       "      <th>2</th>\n",
       "      <td>3899</td>\n",
       "      <td>4199</td>\n",
       "      <td>4499</td>\n",
       "      <td>4799</td>\n",
       "      <td>5299</td>\n",
       "    </tr>\n",
       "    <tr>\n",
       "      <th>3</th>\n",
       "      <td>78000</td>\n",
       "      <td>81000</td>\n",
       "      <td>81000</td>\n",
       "      <td>80000</td>\n",
       "      <td>78000</td>\n",
       "    </tr>\n",
       "    <tr>\n",
       "      <th>4</th>\n",
       "      <td>17800</td>\n",
       "      <td>18600</td>\n",
       "      <td>18800</td>\n",
       "      <td>18600</td>\n",
       "      <td>18400</td>\n",
       "    </tr>\n",
       "  </tbody>\n",
       "</table>\n",
       "</div>"
      ],
      "text/plain": [
       "    2010   2011   2012   2013   2014\n",
       "0   3298   3498   3798   4198   4699\n",
       "1    497    497    797    797    797\n",
       "2   3899   4199   4499   4799   5299\n",
       "3  78000  81000  81000  80000  78000\n",
       "4  17800  18600  18800  18600  18400"
      ]
     },
     "execution_count": 10,
     "metadata": {},
     "output_type": "execute_result"
    }
   ],
   "source": [
    "df_resultado_transformacao = pd.DataFrame()\n",
    "\n",
    "df_soma_2010 = pd.DataFrame()\n",
    "df_soma_2010['2010'] = df_resultado_conversao_valores['2010']\n",
    "df_soma_2010['2010_lower'] = df_resultado_conversao_valores['2010_lower']\n",
    "df_soma_2010['2010_upper'] = df_resultado_conversao_valores[' 2010_upper']\n",
    "df_soma_2010 = df_soma_2010.apply(pd.to_numeric, errors='coerce')\n",
    "df_resultado_transformacao['2010'] = df_soma_2010.sum(axis=1)\n",
    "\n",
    "df_soma_2011 = pd.DataFrame()\n",
    "df_soma_2011['2011'] = df_resultado_conversao_valores[' 2011']\n",
    "df_soma_2011['2011_lower'] = df_resultado_conversao_valores['2011_lower']\n",
    "df_soma_2011['2011_upper'] = df_resultado_conversao_valores[' 2011_upper']\n",
    "df_soma_2011 = df_soma_2011.apply(pd.to_numeric, errors='coerce')\n",
    "df_resultado_transformacao['2011'] = df_soma_2011.sum(axis=1)\n",
    "\n",
    "df_soma_2012 = pd.DataFrame()\n",
    "df_soma_2012['2012'] = df_resultado_conversao_valores[' 2012']\n",
    "df_soma_2012['2012_lower'] = df_resultado_conversao_valores['2012_lower']\n",
    "df_soma_2012['2012_upper'] = df_resultado_conversao_valores[' 2012_upper']\n",
    "df_soma_2012 = df_soma_2012.apply(pd.to_numeric, errors='coerce')\n",
    "df_resultado_transformacao['2012'] = df_soma_2012.sum(axis=1)\n",
    "\n",
    "df_soma_2013 = pd.DataFrame()\n",
    "df_soma_2013['2013'] = df_resultado_conversao_valores[' 2013']\n",
    "df_soma_2013['2013_lower'] = df_resultado_conversao_valores['2013_lower']\n",
    "df_soma_2013['2013_upper'] = df_resultado_conversao_valores[' 2013_upper']\n",
    "df_soma_2013 = df_soma_2013.apply(pd.to_numeric, errors='coerce')\n",
    "df_resultado_transformacao['2013'] = df_soma_2013.sum(axis=1)\n",
    "\n",
    "df_soma_2014 = pd.DataFrame()\n",
    "df_soma_2014['2014'] = df_resultado_conversao_valores[' 2014']\n",
    "df_soma_2014['2014_lower'] = df_resultado_conversao_valores['2014_lower']\n",
    "df_soma_2014['2014_upper'] = df_resultado_conversao_valores[' 2014_upper']\n",
    "df_soma_2014 = df_soma_2014.apply(pd.to_numeric, errors='coerce')\n",
    "df_resultado_transformacao['2014'] = df_soma_2014.sum(axis=1)\n",
    "df_resultado_transformacao.head()"
   ]
  },
  {
   "cell_type": "markdown",
   "metadata": {},
   "source": [
    "Exporta o conjunto de dados transformado para \"massa_bruta_aids.csv\"."
   ]
  },
  {
   "cell_type": "code",
   "execution_count": 9,
   "metadata": {},
   "outputs": [],
   "source": [
    "df_resultado_transformacao.to_csv('../data/massa_bruta_aids.csv', index = False)"
   ]
  }
 ],
 "metadata": {
  "kernelspec": {
   "display_name": "Python 3",
   "language": "python",
   "name": "python3"
  },
  "language_info": {
   "codemirror_mode": {
    "name": "ipython",
    "version": 3
   },
   "file_extension": ".py",
   "mimetype": "text/x-python",
   "name": "python",
   "nbconvert_exporter": "python",
   "pygments_lexer": "ipython3",
   "version": "3.8.2"
  }
 },
 "nbformat": 4,
 "nbformat_minor": 4
}
