{
 "cells": [
  {
   "cell_type": "markdown",
   "metadata": {},
   "source": [
    "# 3 Classificação e previsão \n",
    "## 3.1) Quanto maior os gastos e investimentos com a educação, menor será a taxa de analfabetismo?"
   ]
  },
  {
   "cell_type": "code",
   "execution_count": 69,
   "metadata": {},
   "outputs": [],
   "source": [
    "import pandas as pd"
   ]
  },
  {
   "cell_type": "markdown",
   "metadata": {},
   "source": [
    "## 3.1.1) Carga e transformação da massa bruta de todos os dados."
   ]
  },
  {
   "cell_type": "code",
   "execution_count": 301,
   "metadata": {
    "scrolled": true
   },
   "outputs": [],
   "source": [
    "massa_bruta_pais_por_indicadores = pd.read_csv('../data/massa_bruta_pais_por_indicadores.csv')\n",
    "\n",
    "indicadores = ['UIS.LP.AG15T24', 'UIS.ILLPOP.AG25T64', 'UIS.LP.AG65',\n",
    "               'UIS.XSPENDP.FDPUB.FNS', 'UIS.XSPENDP.FDPUB.FNCAP', 'UIS.XSPENDP.FDPUB.FNNONS', \n",
    "               'UIS.XGDP.FSGOV.FDINSTADM.FFD', 'SE.XPD.TOTL.GB.ZS', 'SE.XPD.TOTL.GD.ZS']\n",
    "\n",
    "anos = ['1998', '1999', '2000', '2001', '2002', '2003', '2004', '2005', \n",
    "        '2006', '2007', '2008', '2009', '2010', '2011', '2012', '2013']\n",
    "\n",
    "paises = massa_bruta_pais_por_indicadores['Country Name'].unique()\n",
    "\n",
    "df_massa_bruta_por_indicador = massa_bruta_pais_por_indicadores.loc[massa_bruta_pais_por_indicadores['Indicator Code'].isin(indicadores)]\n",
    "\n",
    "colunas_classificado = ['País', 'Indicador', '1998-1999', '1999-2000', '2000-2001', '2001-2002', \n",
    "                        '2002-2003', '2003-2004', '2004-2005', '2005-2006', '2006-2007', '2007-2008', \n",
    "                        '2008-2009', '2009-2010', '2010-2011', '2011-2012', '2012-2013']\n",
    "\n",
    "df_classificado = pd.DataFrame(columns=colunas_classificado)\n",
    "\n",
    "for pais in paises:\n",
    "    df_pais = df_massa_bruta_por_indicador.loc[df_massa_bruta_por_indicador['Country Name'] == pais]\n",
    "\n",
    "    df_1998_a_2013 = df_pais.iloc[:, 2:18]\n",
    "    df_1998_a_2013.index = range(df_1998_a_2013.shape[0])\n",
    "    df_1998_a_2013 = df_1998_a_2013.fillna(method='ffill', axis=1).fillna(method='bfill', axis=1).fillna(0)\n",
    "        \n",
    "    for index, value in indicador.items():            \n",
    "        valor_1998_1999 = 1 if df_1998_a_2013['1999'].iloc[0] - df_1998_a_2013['1998'].iloc[0] > 0 else 0\n",
    "        valor_1999_2000 = 1 if df_1998_a_2013['2000'].iloc[0] - df_1998_a_2013['1999'].iloc[0] > 0 else 0\n",
    "        valor_2000_2001 = 1 if df_1998_a_2013['2001'].iloc[0] - df_1998_a_2013['2000'].iloc[0] > 0 else 0\n",
    "        valor_2001_2002 = 1 if df_1998_a_2013['2002'].iloc[0] - df_1998_a_2013['2001'].iloc[0] > 0 else 0\n",
    "        valor_2002_2003 = 1 if df_1998_a_2013['2003'].iloc[0] - df_1998_a_2013['2002'].iloc[0] > 0 else 0\n",
    "        valor_2003_2004 = 1 if df_1998_a_2013['2004'].iloc[0] - df_1998_a_2013['2003'].iloc[0] > 0 else 0\n",
    "        valor_2004_2005 = 1 if df_1998_a_2013['2005'].iloc[0] - df_1998_a_2013['2004'].iloc[0] > 0 else 0\n",
    "        valor_2005_2006 = 1 if df_1998_a_2013['2006'].iloc[0] - df_1998_a_2013['2005'].iloc[0] > 0 else 0\n",
    "        valor_2006_2007 = 1 if df_1998_a_2013['2007'].iloc[0] - df_1998_a_2013['2006'].iloc[0] > 0 else 0\n",
    "        valor_2007_2008 = 1 if df_1998_a_2013['2008'].iloc[0] - df_1998_a_2013['2007'].iloc[0] > 0 else 0\n",
    "        valor_2008_2009 = 1 if df_1998_a_2013['2009'].iloc[0] - df_1998_a_2013['2008'].iloc[0] > 0 else 0\n",
    "        valor_2009_2010 = 1 if df_1998_a_2013['2010'].iloc[0] - df_1998_a_2013['2009'].iloc[0] > 0 else 0\n",
    "        valor_2010_2011 = 1 if df_1998_a_2013['2011'].iloc[0] - df_1998_a_2013['2010'].iloc[0] > 0 else 0\n",
    "        valor_2011_2012 = 1 if df_1998_a_2013['2012'].iloc[0] - df_1998_a_2013['2011'].iloc[0] > 0 else 0\n",
    "        valor_2012_2013 = 1 if df_1998_a_2013['2013'].iloc[0] - df_1998_a_2013['2012'].iloc[0] > 0 else 0\n",
    "\n",
    "        valores = [pais, value, valor_1998_1999, valor_1999_2000, valor_2000_2001, valor_2001_2002, \n",
    "                   valor_2002_2003, valor_2003_2004, valor_2004_2005, valor_2005_2006, valor_2006_2007, \n",
    "                   valor_2007_2008, valor_2008_2009, valor_2009_2010, valor_2010_2011, valor_2011_2012, \n",
    "                   valor_2012_2013]\n",
    "\n",
    "        df_auxiliar = pd.DataFrame([valores], columns=colunas_classificado)\n",
    "        df_auxiliar.index = range(df_auxiliar.shape[0])\n",
    "        df_classificado = pd.concat([df_auxiliar, df_classificado])\n",
    "        \n",
    "    \n",
    "df_classificado.index = range(df_classificado.shape[0])"
   ]
  },
  {
   "cell_type": "markdown",
   "metadata": {},
   "source": [
    "## 3.1.1.1) Validação da eficiência da previsão"
   ]
  },
  {
   "cell_type": "code",
   "execution_count": 300,
   "metadata": {},
   "outputs": [
    {
     "name": "stdout",
     "output_type": "stream",
     "text": [
      "(351, 17)\n"
     ]
    }
   ],
   "source": [
    "#6) Aplicar algoritmo de classificação e previsão\n",
    "\n",
    "#(1953, 17)\n",
    "#(351, 17)\n",
    "print(df_classificado.shape)\n",
    "#df_classificado.to_csv('resultado_teste.csv', index = False)"
   ]
  },
  {
   "cell_type": "markdown",
   "metadata": {},
   "source": [
    "## 3.1.2) Carga e transformação da massa bruta dos dados com pelo menos 50% dos valores preenchidos.\n",
    "\n",
    "Isso reduzirá a quantidade de elementos para 351. Na solução 3.1.1, sem a restrição de 50% do preenchimento, foram utilizados 1953 elementos."
   ]
  },
  {
   "cell_type": "code",
   "execution_count": 302,
   "metadata": {},
   "outputs": [],
   "source": [
    "massa_bruta_pais_por_indicadores = pd.read_csv('../data/massa_bruta_pais_por_indicadores.csv')\n",
    "\n",
    "indicadores = ['UIS.LP.AG15T24', 'UIS.ILLPOP.AG25T64', 'UIS.LP.AG65',\n",
    "               'UIS.XSPENDP.FDPUB.FNS', 'UIS.XSPENDP.FDPUB.FNCAP', 'UIS.XSPENDP.FDPUB.FNNONS', \n",
    "               'UIS.XGDP.FSGOV.FDINSTADM.FFD', 'SE.XPD.TOTL.GB.ZS', 'SE.XPD.TOTL.GD.ZS']\n",
    "\n",
    "anos = ['1998', '1999', '2000', '2001', '2002', '2003', '2004', '2005', \n",
    "        '2006', '2007', '2008', '2009', '2010', '2011', '2012', '2013']\n",
    "\n",
    "paises = massa_bruta_pais_por_indicadores['Country Name'].unique()\n",
    "\n",
    "df_massa_bruta_por_indicador = massa_bruta_pais_por_indicadores.loc[massa_bruta_pais_por_indicadores['Indicator Code'].isin(indicadores)]\n",
    "\n",
    "colunas_classificado = ['País', 'Indicador', '1998-1999', '1999-2000', '2000-2001', '2001-2002', \n",
    "                        '2002-2003', '2003-2004', '2004-2005', '2005-2006', '2006-2007', '2007-2008', \n",
    "                        '2008-2009', '2009-2010', '2010-2011', '2011-2012', '2012-2013']\n",
    "\n",
    "df_classificado = pd.DataFrame(columns=colunas_classificado)\n",
    "\n",
    "for pais in paises:\n",
    "    df_pais = df_massa_bruta_por_indicador.loc[df_massa_bruta_por_indicador['Country Name'] == pais]\n",
    "\n",
    "    df_1998_a_2013 = df_pais.iloc[:, 2:18]\n",
    "    df_1998_a_2013.index = range(df_1998_a_2013.shape[0])\n",
    "    media_valores_invalidos = df_1998_a_2013.isna().mean(axis=1).mean()\n",
    "    \n",
    "    if media_valores_invalidos < 0.5:\n",
    "        \n",
    "        df_1998_a_2013 = df_1998_a_2013.fillna(method='ffill', axis=1).fillna(method='bfill', axis=1).fillna(0)\n",
    "        \n",
    "        for index, value in indicador.items():            \n",
    "            valor_1998_1999 = 1 if df_1998_a_2013['1999'].iloc[0] - df_1998_a_2013['1998'].iloc[0] > 0 else 0\n",
    "            valor_1999_2000 = 1 if df_1998_a_2013['2000'].iloc[0] - df_1998_a_2013['1999'].iloc[0] > 0 else 0\n",
    "            valor_2000_2001 = 1 if df_1998_a_2013['2001'].iloc[0] - df_1998_a_2013['2000'].iloc[0] > 0 else 0\n",
    "            valor_2001_2002 = 1 if df_1998_a_2013['2002'].iloc[0] - df_1998_a_2013['2001'].iloc[0] > 0 else 0\n",
    "            valor_2002_2003 = 1 if df_1998_a_2013['2003'].iloc[0] - df_1998_a_2013['2002'].iloc[0] > 0 else 0\n",
    "            valor_2003_2004 = 1 if df_1998_a_2013['2004'].iloc[0] - df_1998_a_2013['2003'].iloc[0] > 0 else 0\n",
    "            valor_2004_2005 = 1 if df_1998_a_2013['2005'].iloc[0] - df_1998_a_2013['2004'].iloc[0] > 0 else 0\n",
    "            valor_2005_2006 = 1 if df_1998_a_2013['2006'].iloc[0] - df_1998_a_2013['2005'].iloc[0] > 0 else 0\n",
    "            valor_2006_2007 = 1 if df_1998_a_2013['2007'].iloc[0] - df_1998_a_2013['2006'].iloc[0] > 0 else 0\n",
    "            valor_2007_2008 = 1 if df_1998_a_2013['2008'].iloc[0] - df_1998_a_2013['2007'].iloc[0] > 0 else 0\n",
    "            valor_2008_2009 = 1 if df_1998_a_2013['2009'].iloc[0] - df_1998_a_2013['2008'].iloc[0] > 0 else 0\n",
    "            valor_2009_2010 = 1 if df_1998_a_2013['2010'].iloc[0] - df_1998_a_2013['2009'].iloc[0] > 0 else 0\n",
    "            valor_2010_2011 = 1 if df_1998_a_2013['2011'].iloc[0] - df_1998_a_2013['2010'].iloc[0] > 0 else 0\n",
    "            valor_2011_2012 = 1 if df_1998_a_2013['2012'].iloc[0] - df_1998_a_2013['2011'].iloc[0] > 0 else 0\n",
    "            valor_2012_2013 = 1 if df_1998_a_2013['2013'].iloc[0] - df_1998_a_2013['2012'].iloc[0] > 0 else 0\n",
    "            \n",
    "            valores = [pais, value, valor_1998_1999, valor_1999_2000, valor_2000_2001, valor_2001_2002, \n",
    "                       valor_2002_2003, valor_2003_2004, valor_2004_2005, valor_2005_2006, valor_2006_2007, \n",
    "                       valor_2007_2008, valor_2008_2009, valor_2009_2010, valor_2010_2011, valor_2011_2012, \n",
    "                       valor_2012_2013]\n",
    "\n",
    "            df_auxiliar = pd.DataFrame([valores], columns=colunas_classificado)\n",
    "            df_auxiliar.index = range(df_auxiliar.shape[0])\n",
    "            df_classificado = pd.concat([df_auxiliar, df_classificado])\n",
    "        \n",
    "    \n",
    "df_classificado.index = range(df_classificado.shape[0])"
   ]
  },
  {
   "cell_type": "markdown",
   "metadata": {},
   "source": [
    "## 3.1.2.1) Validação da eficiência da previsão"
   ]
  },
  {
   "cell_type": "code",
   "execution_count": null,
   "metadata": {},
   "outputs": [],
   "source": []
  }
 ],
 "metadata": {
  "kernelspec": {
   "display_name": "Python 3",
   "language": "python",
   "name": "python3"
  },
  "language_info": {
   "codemirror_mode": {
    "name": "ipython",
    "version": 3
   },
   "file_extension": ".py",
   "mimetype": "text/x-python",
   "name": "python",
   "nbconvert_exporter": "python",
   "pygments_lexer": "ipython3",
   "version": "3.8.2"
  }
 },
 "nbformat": 4,
 "nbformat_minor": 4
}
