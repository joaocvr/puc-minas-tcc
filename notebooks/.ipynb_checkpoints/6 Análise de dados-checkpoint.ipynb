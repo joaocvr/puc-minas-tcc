{
 "cells": [
  {
   "cell_type": "markdown",
   "metadata": {},
   "source": [
    "# Análise de Dados"
   ]
  },
  {
   "cell_type": "markdown",
   "metadata": {},
   "source": [
    "Nesse notebook será feita uma análise dos dados das bases já trabalhadas."
   ]
  },
  {
   "cell_type": "code",
   "execution_count": 1,
   "metadata": {
    "scrolled": true
   },
   "outputs": [],
   "source": [
    "import numpy as np\n",
    "import pandas as pd\n",
    "from wordcloud import WordCloud, STOPWORDS\n",
    "import matplotlib.pyplot as plt\n",
    "import ast\n",
    "import json\n",
    "import seaborn as sns\n",
    "from IPython.display import Image, HTML\n",
    "\n",
    "  \n",
    "#Função para análise de valores ausentes\n",
    "def missingValuesSnapshot(df):\n",
    "    missing_df = df.isnull().sum(axis=0).reset_index()\n",
    "    missing_df.columns = ['column_name', 'missing_count']\n",
    "    missing_df['filling_factor'] = (df.shape[0] \n",
    "                                - missing_df['missing_count']) / df.shape[0] * 100\n",
    "    missing_df.sort_values('filling_factor', inplace=True)\n",
    "    \n",
    "    print(missing_df)\n",
    "    \n",
    "#Leitura de arquivos\n",
    "\n",
    "#Golden Globe\n",
    "gg_path = \"../bases_tratadas/gg_df.csv\"\n",
    "#codificação  \"ISO-8859-1\"\n",
    "gg_df = pd.read_csv(gg_path, encoding = \"ISO-8859-1\")\n",
    "\n",
    "#EMMY \n",
    "emmy_path = \"../bases_tratadas/emmy_df.csv\"\n",
    "emmy_df = pd.read_csv(emmy_path)\n",
    "\n",
    "# Nomeações e premiações por série\n",
    "prizes_nominees_path = '../bases_tratadas/prizes_nominees_df.csv'\n",
    "prizes_nominees_df = pd.read_csv(prizes_nominees_path)\n",
    "\n",
    "# Séries com dados TMDB e IMDB - união\n",
    "series_path = \"../bases_tratadas/series_imdb_tmdb_df.csv\"\n",
    "series_df = pd.read_csv(series_path)"
   ]
  },
  {
   "cell_type": "markdown",
   "metadata": {},
   "source": [
    "## Dataset de Séries"
   ]
  },
  {
   "cell_type": "markdown",
   "metadata": {},
   "source": [
    "### Análise de métricas - votos e popularidade\n",
    "\n",
    "Será feito um estudo sobre os dados de métricas obtidas por meio da interação dos usuários com as bases do TMDB e IMDB: popularidade, número de votos e média da nota:"
   ]
  },
  {
   "cell_type": "code",
   "execution_count": 2,
   "metadata": {},
   "outputs": [],
   "source": [
    "def clean_numeric(x):\n",
    "    try:\n",
    "        return float(x)\n",
    "    except:\n",
    "        return np.nan\n"
   ]
  },
  {
   "cell_type": "code",
   "execution_count": 3,
   "metadata": {},
   "outputs": [],
   "source": [
    "series_df['popularity'] = series_df['popularity'].apply(clean_numeric).astype('float')\n",
    "series_df['numVotesTMDB'] = series_df['numVotesTMDB'].apply(clean_numeric).astype('float')\n",
    "series_df['averageRatingTMDB'] = series_df['averageRatingTMDB'].apply(clean_numeric).astype('float')\n",
    "series_df['numVotesIMDB'] = series_df['numVotesIMDB'].apply(clean_numeric).astype('float')\n",
    "series_df['averageRatingIMDB'] = series_df['averageRatingIMDB'].apply(clean_numeric).astype('float')"
   ]
  },
  {
   "cell_type": "markdown",
   "metadata": {},
   "source": [
    "Vamos analisar o resumo estatístico de cada um desses atributos:"
   ]
  },
  {
   "cell_type": "markdown",
   "metadata": {},
   "source": [
    "#### Popularidade\n",
    "É uma métrica do TMDB baseada em vários quesitos: nº de votos no dia, nº de visualizações no dia, nº de usuários que 'favoritaram' a série naquele dia, nº de usuários que adicionaram a série à \"watchlist\" no dia, data de lançamento do próximo ou último episódio, número total de votos, pontuação em dias anteriores.\n",
    "    \n",
    "Vemos que é uma métrica baseada na popularidade do momento atual, pois leva em consideração muitos quesitos referentes ao dia, mais do que quesitos acumulados ao longo do tempo. "
   ]
  },
  {
   "cell_type": "code",
   "execution_count": 4,
   "metadata": {
    "scrolled": true
   },
   "outputs": [
    {
     "data": {
      "text/plain": [
       "count    242090.000000\n",
       "mean          0.571287\n",
       "std           3.069344\n",
       "min           0.000000\n",
       "25%           0.000000\n",
       "50%           0.000000\n",
       "75%           0.600000\n",
       "max         318.617000\n",
       "Name: popularity, dtype: float64"
      ]
     },
     "execution_count": 4,
     "metadata": {},
     "output_type": "execute_result"
    }
   ],
   "source": [
    "series_df['popularity'].describe()"
   ]
  },
  {
   "cell_type": "code",
   "execution_count": 5,
   "metadata": {
    "scrolled": true
   },
   "outputs": [
    {
     "data": {
      "image/png": "[encoded data removed]",
      "text/plain": [
       "<matplotlib.figure.Figure at 0x253b66547f0>"
      ]
     },
     "metadata": {},
     "output_type": "display_data"
    }
   ],
   "source": [
    "sns.distplot(series_df['popularity'])\n",
    "plt.show()"
   ]
  },
  {
   "cell_type": "markdown",
   "metadata": {},
   "source": [
    "A pontuação de popularidade parece ser uma quantidade extremamente distorcida, com uma média de apenas 0,57, mas valores máximos atingindo 318.6. No entanto, como pode ser visto no gráfico de distribuição, quase todos os filmes têm uma pontuação de popularidade menor que 1 (o 75º percentil está em 0,6). \n",
    "Somente registros provenientes da base do TMDB apresentam valores não zerados de popularidade.\n",
    "Vamos ver as séries mais populares:"
   ]
  },
  {
   "cell_type": "code",
   "execution_count": 6,
   "metadata": {
    "scrolled": true
   },
   "outputs": [
    {
     "data": {
      "text/html": [
       "<table border=\"1\" class=\"dataframe\">\n",
       "  <thead>\n",
       "    <tr style=\"text-align: right;\">\n",
       "      <th></th>\n",
       "      <th>poster_path</th>\n",
       "      <th>name</th>\n",
       "      <th>popularity</th>\n",
       "      <th>startSeriesYear</th>\n",
       "    </tr>\n",
       "  </thead>\n",
       "  <tbody>\n",
       "    <tr>\n",
       "      <th>197406</th>\n",
       "      <td><img src='http://image.tmdb.org/t/p/w185/fki3kBlwJzFp8QohL43g9ReV455.jpg' style='height:100px;'></td>\n",
       "      <td>The Flash</td>\n",
       "      <td>318.617</td>\n",
       "      <td>2014.0</td>\n",
       "    </tr>\n",
       "    <tr>\n",
       "      <th>1100</th>\n",
       "      <td><img src='http://image.tmdb.org/t/p/w185/nel144y4dIOdFFid6twN5mAX9Yd.jpg' style='height:100px;'></td>\n",
       "      <td>13 Reasons Why</td>\n",
       "      <td>255.981</td>\n",
       "      <td>2017.0</td>\n",
       "    </tr>\n",
       "    <tr>\n",
       "      <th>15366</th>\n",
       "      <td><img src='http://image.tmdb.org/t/p/w185/mo0FP1GxOFZT4UDde7RFDz5APXF.jpg' style='height:100px;'></td>\n",
       "      <td>Arrow</td>\n",
       "      <td>217.177</td>\n",
       "      <td>2012.0</td>\n",
       "    </tr>\n",
       "    <tr>\n",
       "      <th>65695</th>\n",
       "      <td><img src='http://image.tmdb.org/t/p/w185/gBGUL1UTUNmdRQT8gA1LUV4yg39.jpg' style='height:100px;'></td>\n",
       "      <td>Family Guy</td>\n",
       "      <td>217.056</td>\n",
       "      <td>1999.0</td>\n",
       "    </tr>\n",
       "    <tr>\n",
       "      <th>66791</th>\n",
       "      <td><img src='http://image.tmdb.org/t/p/w185/lZMb3R3e5vqukPbeDMeyYGf2ZNG.jpg' style='height:100px;'></td>\n",
       "      <td>Fear the Walking Dead</td>\n",
       "      <td>215.375</td>\n",
       "      <td>2015.0</td>\n",
       "    </tr>\n",
       "    <tr>\n",
       "      <th>208514</th>\n",
       "      <td><img src='http://image.tmdb.org/t/p/w185/yTZQkSsxUFJZJe67IenRM0AEklc.jpg' style='height:100px;'></td>\n",
       "      <td>The Simpsons</td>\n",
       "      <td>173.956</td>\n",
       "      <td>1989.0</td>\n",
       "    </tr>\n",
       "    <tr>\n",
       "      <th>193243</th>\n",
       "      <td><img src='http://image.tmdb.org/t/p/w185/dzOxNbbz1liFzHU1IPvdgUR647b.jpg' style='height:100px;'></td>\n",
       "      <td>The Boys</td>\n",
       "      <td>154.030</td>\n",
       "      <td>2019.0</td>\n",
       "    </tr>\n",
       "    <tr>\n",
       "      <th>78899</th>\n",
       "      <td><img src='http://image.tmdb.org/t/p/w185/eqgIOObafPJitt8JNh1LuO2fvqu.jpg' style='height:100px;'></td>\n",
       "      <td>Grey's Anatomy</td>\n",
       "      <td>144.347</td>\n",
       "      <td>2005.0</td>\n",
       "    </tr>\n",
       "    <tr>\n",
       "      <th>181524</th>\n",
       "      <td><img src='http://image.tmdb.org/t/p/w185/x2LSRK2Cm7MZhjluni1msVJ3wDF.jpg' style='height:100px;'></td>\n",
       "      <td>Stranger Things</td>\n",
       "      <td>142.701</td>\n",
       "      <td>2016.0</td>\n",
       "    </tr>\n",
       "    <tr>\n",
       "      <th>8328</th>\n",
       "      <td><img src='http://image.tmdb.org/t/p/w185/cXiETfFK1BTLest5fhTLfDLRdL6.jpg' style='height:100px;'></td>\n",
       "      <td>Agents of S.H.I.E.L.D.</td>\n",
       "      <td>135.217</td>\n",
       "      <td>2013.0</td>\n",
       "    </tr>\n",
       "  </tbody>\n",
       "</table>"
      ],
      "text/plain": [
       "<IPython.core.display.HTML object>"
      ]
     },
     "execution_count": 6,
     "metadata": {},
     "output_type": "execute_result"
    }
   ],
   "source": [
    "# Alterando o caminho do poster para incluir tags HTML\n",
    "series_df['poster_path'] = \"<img src='\" + series_df['poster_path'] + \"' style='height:100px;'>\"\n",
    "\n",
    "pop_top = series_df[['poster_path', 'name', 'popularity', 'startSeriesYear']].sort_values('popularity', ascending=False).head(10)\n",
    "pd.set_option('display.max_colwidth', 100)\n",
    "HTML(pop_top.to_html(escape=False))"
   ]
  },
  {
   "cell_type": "markdown",
   "metadata": {},
   "source": [
    "Dos top 10 em popularidade temos 4 com a temática super herói: The Flash, em primeiro, Arrow, em terceiro lugar, The Boys, em sétimo lugar e Marvel's Agents of S.H.I.E.L.D. em décimo. Temos duas séries de desenho: Family Guy e The Simpsons."
   ]
  },
  {
   "cell_type": "markdown",
   "metadata": {},
   "source": [
    "#### Número de Votos - TMDB e IMDB"
   ]
  },
  {
   "cell_type": "code",
   "execution_count": 7,
   "metadata": {},
   "outputs": [
    {
     "data": {
      "text/plain": [
       "count    2.420900e+05\n",
       "mean     3.212818e+02\n",
       "std      7.563682e+03\n",
       "min      0.000000e+00\n",
       "25%      0.000000e+00\n",
       "50%      0.000000e+00\n",
       "75%      8.000000e+00\n",
       "max      1.564743e+06\n",
       "Name: numVotesIMDB, dtype: float64"
      ]
     },
     "execution_count": 7,
     "metadata": {},
     "output_type": "execute_result"
    }
   ],
   "source": [
    "series_df['numVotesIMDB'].describe()"
   ]
  },
  {
   "cell_type": "code",
   "execution_count": 8,
   "metadata": {},
   "outputs": [
    {
     "data": {
      "text/plain": [
       "<matplotlib.axes._subplots.AxesSubplot at 0x253baa96710>"
      ]
     },
     "execution_count": 8,
     "metadata": {},
     "output_type": "execute_result"
    },
    {
     "data": {
      "image/png": "[encoded data removed]",
      "text/plain": [
       "<matplotlib.figure.Figure at 0x253ba97bb00>"
      ]
     },
     "metadata": {},
     "output_type": "display_data"
    }
   ],
   "source": [
    "sns.distplot(series_df['numVotesIMDB'])"
   ]
  },
  {
   "cell_type": "code",
   "execution_count": 9,
   "metadata": {},
   "outputs": [
    {
     "data": {
      "text/plain": [
       "count    242090.000000\n",
       "mean          1.493176\n",
       "std          30.929471\n",
       "min           0.000000\n",
       "25%           0.000000\n",
       "50%           0.000000\n",
       "75%           0.000000\n",
       "max        6275.000000\n",
       "Name: numVotesTMDB, dtype: float64"
      ]
     },
     "execution_count": 9,
     "metadata": {},
     "output_type": "execute_result"
    }
   ],
   "source": [
    "series_df['numVotesTMDB'].describe()"
   ]
  },
  {
   "cell_type": "code",
   "execution_count": 10,
   "metadata": {},
   "outputs": [
    {
     "data": {
      "text/plain": [
       "<matplotlib.axes._subplots.AxesSubplot at 0x253bb2cc240>"
      ]
     },
     "execution_count": 10,
     "metadata": {},
     "output_type": "execute_result"
    },
    {
     "data": {
      "image/png": "[encoded data removed]",
      "text/plain": [
       "<matplotlib.figure.Figure at 0x253ba1fff28>"
      ]
     },
     "metadata": {},
     "output_type": "display_data"
    }
   ],
   "source": [
    "sns.distplot(series_df['numVotesTMDB'])"
   ]
  },
  {
   "cell_type": "markdown",
   "metadata": {},
   "source": [
    "Observa-se que a quantidade de votos no IMDB é muitas ordens de grandeza maior que a quantidade de votos no TMDB. A base do IMDB é bem mais popular e suas votações bem mais expressivas. Podemos ver também que no TMDB (até o 3º quartil), mas também no IMDB (até o 2º), grande número de séries NÃO receberam votos. Lembrando que esse dataset é a junção (via OUTER join) das duas bases e que essas métricas são específicas de cada base.\n",
    "Vamos verificar quais são as séries mais votadas nos sites:"
   ]
  },
  {
   "cell_type": "code",
   "execution_count": 11,
   "metadata": {},
   "outputs": [
    {
     "data": {
      "text/html": [
       "<table border=\"1\" class=\"dataframe\">\n",
       "  <thead>\n",
       "    <tr style=\"text-align: right;\">\n",
       "      <th></th>\n",
       "      <th>poster_path</th>\n",
       "      <th>name</th>\n",
       "      <th>numVotesIMDB</th>\n",
       "      <th>startSeriesYear</th>\n",
       "    </tr>\n",
       "  </thead>\n",
       "  <tbody>\n",
       "    <tr>\n",
       "      <th>73533</th>\n",
       "      <td><img src='http://image.tmdb.org/t/p/w185/u3bZgnGQ9T01sWNhyveQz0wH0Hl.jpg' style='height:100px;'></td>\n",
       "      <td>Game of Thrones</td>\n",
       "      <td>1564743.0</td>\n",
       "      <td>2011.0</td>\n",
       "    </tr>\n",
       "    <tr>\n",
       "      <th>28161</th>\n",
       "      <td><img src='http://image.tmdb.org/t/p/w185/1yeVJox3rjo2jBKrrihIMj7uoS9.jpg' style='height:100px;'></td>\n",
       "      <td>Breaking Bad</td>\n",
       "      <td>1232288.0</td>\n",
       "      <td>2008.0</td>\n",
       "    </tr>\n",
       "    <tr>\n",
       "      <th>211382</th>\n",
       "      <td><img src='http://image.tmdb.org/t/p/w185/bjU4tLlyp8W4yTB0Hqn8J1IDUnD.jpg' style='height:100px;'></td>\n",
       "      <td>The Walking Dead</td>\n",
       "      <td>791623.0</td>\n",
       "      <td>2010.0</td>\n",
       "    </tr>\n",
       "    <tr>\n",
       "      <th>172093</th>\n",
       "      <td><img src='http://image.tmdb.org/t/p/w185/f9zGxLHGyQB10cMDZNY5ZcGKhZi.jpg' style='height:100px;'></td>\n",
       "      <td>Sherlock</td>\n",
       "      <td>715575.0</td>\n",
       "      <td>2010.0</td>\n",
       "    </tr>\n",
       "    <tr>\n",
       "      <th>71501</th>\n",
       "      <td><img src='http://image.tmdb.org/t/p/w185/7buCWBTpiPrCF5Lt023dSC60rgS.jpg' style='height:100px;'></td>\n",
       "      <td>Friends</td>\n",
       "      <td>685490.0</td>\n",
       "      <td>1994.0</td>\n",
       "    </tr>\n",
       "    <tr>\n",
       "      <th>192515</th>\n",
       "      <td><img src='http://image.tmdb.org/t/p/w185/ooBGRQBdbGzBxAVfExiO8r7kloA.jpg' style='height:100px;'></td>\n",
       "      <td>The Big Bang Theory</td>\n",
       "      <td>654343.0</td>\n",
       "      <td>2007.0</td>\n",
       "    </tr>\n",
       "    <tr>\n",
       "      <th>181524</th>\n",
       "      <td><img src='http://image.tmdb.org/t/p/w185/x2LSRK2Cm7MZhjluni1msVJ3wDF.jpg' style='height:100px;'></td>\n",
       "      <td>Stranger Things</td>\n",
       "      <td>624555.0</td>\n",
       "      <td>2016.0</td>\n",
       "    </tr>\n",
       "    <tr>\n",
       "      <th>50768</th>\n",
       "      <td><img src='http://image.tmdb.org/t/p/w185/ydmfheI5cJ4NrgcupDEwk8I8y5q.jpg' style='height:100px;'></td>\n",
       "      <td>Dexter</td>\n",
       "      <td>602015.0</td>\n",
       "      <td>2006.0</td>\n",
       "    </tr>\n",
       "    <tr>\n",
       "      <th>88203</th>\n",
       "      <td><img src='http://image.tmdb.org/t/p/w185/izncB6dCLV7LBQ5MsOPyMx9mUDa.jpg' style='height:100px;'></td>\n",
       "      <td>How I Met Your Mother</td>\n",
       "      <td>545490.0</td>\n",
       "      <td>2005.0</td>\n",
       "    </tr>\n",
       "    <tr>\n",
       "      <th>117277</th>\n",
       "      <td><img src='http://image.tmdb.org/t/p/w185/jyGspygDXJMydTOJj7iWNx9Elyd.jpg' style='height:100px;'></td>\n",
       "      <td>Lost</td>\n",
       "      <td>458971.0</td>\n",
       "      <td>2004.0</td>\n",
       "    </tr>\n",
       "  </tbody>\n",
       "</table>"
      ],
      "text/plain": [
       "<IPython.core.display.HTML object>"
      ]
     },
     "execution_count": 11,
     "metadata": {},
     "output_type": "execute_result"
    }
   ],
   "source": [
    "vote_top = series_df[['poster_path', 'name', 'numVotesIMDB', 'startSeriesYear']].sort_values('numVotesIMDB', ascending=False).head(10)\n",
    "pd.set_option('display.max_colwidth', 100)\n",
    "HTML(vote_top.to_html(escape=False))"
   ]
  },
  {
   "cell_type": "code",
   "execution_count": 12,
   "metadata": {},
   "outputs": [
    {
     "data": {
      "text/html": [
       "<table border=\"1\" class=\"dataframe\">\n",
       "  <thead>\n",
       "    <tr style=\"text-align: right;\">\n",
       "      <th></th>\n",
       "      <th>poster_path</th>\n",
       "      <th>name</th>\n",
       "      <th>numVotesTMDB</th>\n",
       "      <th>startSeriesYear</th>\n",
       "    </tr>\n",
       "  </thead>\n",
       "  <tbody>\n",
       "    <tr>\n",
       "      <th>73533</th>\n",
       "      <td><img src='http://image.tmdb.org/t/p/w185/u3bZgnGQ9T01sWNhyveQz0wH0Hl.jpg' style='height:100px;'></td>\n",
       "      <td>Game of Thrones</td>\n",
       "      <td>6275.0</td>\n",
       "      <td>2011.0</td>\n",
       "    </tr>\n",
       "    <tr>\n",
       "      <th>211382</th>\n",
       "      <td><img src='http://image.tmdb.org/t/p/w185/bjU4tLlyp8W4yTB0Hqn8J1IDUnD.jpg' style='height:100px;'></td>\n",
       "      <td>The Walking Dead</td>\n",
       "      <td>4226.0</td>\n",
       "      <td>2010.0</td>\n",
       "    </tr>\n",
       "    <tr>\n",
       "      <th>192515</th>\n",
       "      <td><img src='http://image.tmdb.org/t/p/w185/ooBGRQBdbGzBxAVfExiO8r7kloA.jpg' style='height:100px;'></td>\n",
       "      <td>The Big Bang Theory</td>\n",
       "      <td>3776.0</td>\n",
       "      <td>2007.0</td>\n",
       "    </tr>\n",
       "    <tr>\n",
       "      <th>28161</th>\n",
       "      <td><img src='http://image.tmdb.org/t/p/w185/1yeVJox3rjo2jBKrrihIMj7uoS9.jpg' style='height:100px;'></td>\n",
       "      <td>Breaking Bad</td>\n",
       "      <td>3464.0</td>\n",
       "      <td>2008.0</td>\n",
       "    </tr>\n",
       "    <tr>\n",
       "      <th>197406</th>\n",
       "      <td><img src='http://image.tmdb.org/t/p/w185/fki3kBlwJzFp8QohL43g9ReV455.jpg' style='height:100px;'></td>\n",
       "      <td>The Flash</td>\n",
       "      <td>2806.0</td>\n",
       "      <td>2014.0</td>\n",
       "    </tr>\n",
       "    <tr>\n",
       "      <th>15366</th>\n",
       "      <td><img src='http://image.tmdb.org/t/p/w185/mo0FP1GxOFZT4UDde7RFDz5APXF.jpg' style='height:100px;'></td>\n",
       "      <td>Arrow</td>\n",
       "      <td>2604.0</td>\n",
       "      <td>2012.0</td>\n",
       "    </tr>\n",
       "    <tr>\n",
       "      <th>181524</th>\n",
       "      <td><img src='http://image.tmdb.org/t/p/w185/x2LSRK2Cm7MZhjluni1msVJ3wDF.jpg' style='height:100px;'></td>\n",
       "      <td>Stranger Things</td>\n",
       "      <td>2565.0</td>\n",
       "      <td>2016.0</td>\n",
       "    </tr>\n",
       "    <tr>\n",
       "      <th>208514</th>\n",
       "      <td><img src='http://image.tmdb.org/t/p/w185/yTZQkSsxUFJZJe67IenRM0AEklc.jpg' style='height:100px;'></td>\n",
       "      <td>The Simpsons</td>\n",
       "      <td>2103.0</td>\n",
       "      <td>1989.0</td>\n",
       "    </tr>\n",
       "    <tr>\n",
       "      <th>230516</th>\n",
       "      <td><img src='http://image.tmdb.org/t/p/w185/6aj09UTMQNyfSfk0ZX8rYOEsXL2.jpg' style='height:100px;'></td>\n",
       "      <td>Westworld</td>\n",
       "      <td>1906.0</td>\n",
       "      <td>2016.0</td>\n",
       "    </tr>\n",
       "    <tr>\n",
       "      <th>183975</th>\n",
       "      <td><img src='http://image.tmdb.org/t/p/w185/3iFm6Kz7iYoFaEcj4fLyZHAmTQA.jpg' style='height:100px;'></td>\n",
       "      <td>Supernatural</td>\n",
       "      <td>1891.0</td>\n",
       "      <td>2005.0</td>\n",
       "    </tr>\n",
       "  </tbody>\n",
       "</table>"
      ],
      "text/plain": [
       "<IPython.core.display.HTML object>"
      ]
     },
     "execution_count": 12,
     "metadata": {},
     "output_type": "execute_result"
    }
   ],
   "source": [
    "vote_top = series_df[['poster_path', 'name', 'numVotesTMDB', 'startSeriesYear']].sort_values('numVotesTMDB', ascending=False).head(10)\n",
    "pd.set_option('display.max_colwidth', 100)\n",
    "HTML(vote_top.to_html(escape=False))"
   ]
  },
  {
   "cell_type": "markdown",
   "metadata": {},
   "source": [
    "5 dos top 10 são coincidentes nas duas bases. Game Of Thrones é o mais votado em ambas."
   ]
  },
  {
   "cell_type": "markdown",
   "metadata": {},
   "source": [
    "#### Nota média - TMDB e IMDB"
   ]
  },
  {
   "cell_type": "code",
   "execution_count": 13,
   "metadata": {},
   "outputs": [
    {
     "data": {
      "text/plain": [
       "count    242090.000000\n",
       "mean          2.017136\n",
       "std           3.214516\n",
       "min           0.000000\n",
       "25%           0.000000\n",
       "50%           0.000000\n",
       "75%           5.500000\n",
       "max          10.000000\n",
       "Name: averageRatingIMDB, dtype: float64"
      ]
     },
     "execution_count": 13,
     "metadata": {},
     "output_type": "execute_result"
    }
   ],
   "source": [
    "series_df['averageRatingIMDB'].describe()"
   ]
  },
  {
   "cell_type": "code",
   "execution_count": 14,
   "metadata": {},
   "outputs": [
    {
     "data": {
      "text/plain": [
       "<matplotlib.axes._subplots.AxesSubplot at 0x253c212d9e8>"
      ]
     },
     "execution_count": 14,
     "metadata": {},
     "output_type": "execute_result"
    },
    {
     "data": {
      "image/png": "[encoded data removed]",
      "text/plain": [
       "<matplotlib.figure.Figure at 0x253baeaaa58>"
      ]
     },
     "metadata": {},
     "output_type": "display_data"
    }
   ],
   "source": [
    "sns.distplot(series_df['averageRatingIMDB'])"
   ]
  },
  {
   "cell_type": "code",
   "execution_count": 15,
   "metadata": {},
   "outputs": [
    {
     "data": {
      "text/plain": [
       "count    242090.000000\n",
       "mean          0.631734\n",
       "std           2.086419\n",
       "min           0.000000\n",
       "25%           0.000000\n",
       "50%           0.000000\n",
       "75%           0.000000\n",
       "max          10.000000\n",
       "Name: averageRatingTMDB, dtype: float64"
      ]
     },
     "execution_count": 15,
     "metadata": {},
     "output_type": "execute_result"
    }
   ],
   "source": [
    "series_df['averageRatingTMDB'].describe()"
   ]
  },
  {
   "cell_type": "code",
   "execution_count": 16,
   "metadata": {},
   "outputs": [
    {
     "data": {
      "text/plain": [
       "<matplotlib.axes._subplots.AxesSubplot at 0x253ba218518>"
      ]
     },
     "execution_count": 16,
     "metadata": {},
     "output_type": "execute_result"
    },
    {
     "data": {
      "image/png": "[encoded data removed]",
      "text/plain": [
       "<matplotlib.figure.Figure at 0x253c0d070b8>"
      ]
     },
     "metadata": {},
     "output_type": "display_data"
    }
   ],
   "source": [
    "sns.distplot(series_df['averageRatingTMDB'])"
   ]
  },
  {
   "cell_type": "markdown",
   "metadata": {},
   "source": [
    "A classificação média dos sites também é baixa e mais alta para o IMDB (0,63 para TMDB e 2.02 no IMDB) pelo motivo já citado anteriormente: a junção das bases ter sido feita no modo OUTER join para trabalharmos com maior número de dados fez com que essas métricas específicas de cada base apresentassem muitos zeros.\n",
    "\n",
    "Ao verificar quais são as 10 séries mais bem avaliadas pela crítica restringiremos a avaliação às séries que tiveram um número mínimo de votos: 1000 no caso do TMDB e 10000 no caso do IMDB, porque ter uma média alta com poucos avaliadores é fácil. "
   ]
  },
  {
   "cell_type": "code",
   "execution_count": 17,
   "metadata": {},
   "outputs": [
    {
     "data": {
      "text/html": [
       "<table border=\"1\" class=\"dataframe\">\n",
       "  <thead>\n",
       "    <tr style=\"text-align: right;\">\n",
       "      <th></th>\n",
       "      <th>poster_path</th>\n",
       "      <th>name</th>\n",
       "      <th>averageRatingIMDB</th>\n",
       "      <th>numVotesIMDB</th>\n",
       "      <th>averageRatingTMDB</th>\n",
       "      <th>numVotesTMDB</th>\n",
       "      <th>original_language</th>\n",
       "      <th>startSeriesYear</th>\n",
       "    </tr>\n",
       "  </thead>\n",
       "  <tbody>\n",
       "    <tr>\n",
       "      <th>105196</th>\n",
       "      <td>NaN</td>\n",
       "      <td>Koombiyo</td>\n",
       "      <td>9.8</td>\n",
       "      <td>15447.0</td>\n",
       "      <td>10.0</td>\n",
       "      <td>1.0</td>\n",
       "      <td>si</td>\n",
       "      <td>2017.0</td>\n",
       "    </tr>\n",
       "    <tr>\n",
       "      <th>197258</th>\n",
       "      <td>NaN</td>\n",
       "      <td>The Filthy Frank Show</td>\n",
       "      <td>9.6</td>\n",
       "      <td>31061.0</td>\n",
       "      <td>0.0</td>\n",
       "      <td>0.0</td>\n",
       "      <td>NaN</td>\n",
       "      <td>2011.0</td>\n",
       "    </tr>\n",
       "    <tr>\n",
       "      <th>151149</th>\n",
       "      <td><img src='http://image.tmdb.org/t/p/w185/uy5QoTu8fc6fGXMCTMbpQJFUEB0.jpg' style='height:100px;'></td>\n",
       "      <td>Planet Earth II</td>\n",
       "      <td>9.5</td>\n",
       "      <td>76072.0</td>\n",
       "      <td>8.3</td>\n",
       "      <td>339.0</td>\n",
       "      <td>en</td>\n",
       "      <td>2016.0</td>\n",
       "    </tr>\n",
       "    <tr>\n",
       "      <th>39438</th>\n",
       "      <td><img src='http://image.tmdb.org/t/p/w185/lCvYGef9G5aj3jeoLW79f79O5I4.jpg' style='height:100px;'></td>\n",
       "      <td>College Romance</td>\n",
       "      <td>9.5</td>\n",
       "      <td>18273.0</td>\n",
       "      <td>1.0</td>\n",
       "      <td>1.0</td>\n",
       "      <td>en</td>\n",
       "      <td>2018.0</td>\n",
       "    </tr>\n",
       "    <tr>\n",
       "      <th>19799</th>\n",
       "      <td><img src='http://image.tmdb.org/t/p/w185/yRXTVpDRBA3983C3HjoY0SO4dV6.jpg' style='height:100px;'></td>\n",
       "      <td>Band of Brothers</td>\n",
       "      <td>9.5</td>\n",
       "      <td>327019.0</td>\n",
       "      <td>8.2</td>\n",
       "      <td>1478.0</td>\n",
       "      <td>en</td>\n",
       "      <td>2001.0</td>\n",
       "    </tr>\n",
       "    <tr>\n",
       "      <th>28161</th>\n",
       "      <td><img src='http://image.tmdb.org/t/p/w185/1yeVJox3rjo2jBKrrihIMj7uoS9.jpg' style='height:100px;'></td>\n",
       "      <td>Breaking Bad</td>\n",
       "      <td>9.5</td>\n",
       "      <td>1232288.0</td>\n",
       "      <td>8.4</td>\n",
       "      <td>3464.0</td>\n",
       "      <td>en</td>\n",
       "      <td>2008.0</td>\n",
       "    </tr>\n",
       "    <tr>\n",
       "      <th>35932</th>\n",
       "      <td><img src='http://image.tmdb.org/t/p/w185/hlLXt2tOPT6RRnjiUmoxyG1LTFi.jpg' style='height:100px;'></td>\n",
       "      <td>Chernobyl</td>\n",
       "      <td>9.5</td>\n",
       "      <td>306157.0</td>\n",
       "      <td>8.6</td>\n",
       "      <td>506.0</td>\n",
       "      <td>en</td>\n",
       "      <td>2019.0</td>\n",
       "    </tr>\n",
       "    <tr>\n",
       "      <th>235917</th>\n",
       "      <td><img src='http://image.tmdb.org/t/p/w185/mBimfZKFT0XkfTTOpGLIc2mtjcn.jpg' style='height:100px;'></td>\n",
       "      <td>Yeh Meri Family</td>\n",
       "      <td>9.4</td>\n",
       "      <td>15531.0</td>\n",
       "      <td>9.3</td>\n",
       "      <td>4.0</td>\n",
       "      <td>hi</td>\n",
       "      <td>2018.0</td>\n",
       "    </tr>\n",
       "    <tr>\n",
       "      <th>151146</th>\n",
       "      <td><img src='http://image.tmdb.org/t/p/w185/tI5hLHgrfOTOhPjX22vlo9YsdgE.jpg' style='height:100px;'></td>\n",
       "      <td>Planet Earth</td>\n",
       "      <td>9.4</td>\n",
       "      <td>150457.0</td>\n",
       "      <td>8.3</td>\n",
       "      <td>513.0</td>\n",
       "      <td>en</td>\n",
       "      <td>2006.0</td>\n",
       "    </tr>\n",
       "    <tr>\n",
       "      <th>73533</th>\n",
       "      <td><img src='http://image.tmdb.org/t/p/w185/u3bZgnGQ9T01sWNhyveQz0wH0Hl.jpg' style='height:100px;'></td>\n",
       "      <td>Game of Thrones</td>\n",
       "      <td>9.4</td>\n",
       "      <td>1564743.0</td>\n",
       "      <td>8.1</td>\n",
       "      <td>6275.0</td>\n",
       "      <td>en</td>\n",
       "      <td>2011.0</td>\n",
       "    </tr>\n",
       "  </tbody>\n",
       "</table>"
      ],
      "text/plain": [
       "<IPython.core.display.HTML object>"
      ]
     },
     "execution_count": 17,
     "metadata": {},
     "output_type": "execute_result"
    }
   ],
   "source": [
    "avg_top = series_df[series_df['numVotesIMDB'] > 10000][['poster_path', 'name', 'averageRatingIMDB', 'numVotesIMDB' ,'averageRatingTMDB', 'numVotesTMDB','original_language','startSeriesYear']].sort_values('averageRatingIMDB', ascending=False).head(10)\n",
    "pd.set_option('display.max_colwidth', 100)\n",
    "HTML(avg_top.to_html(escape=False))"
   ]
  },
  {
   "cell_type": "code",
   "execution_count": 18,
   "metadata": {},
   "outputs": [
    {
     "data": {
      "text/html": [
       "<table border=\"1\" class=\"dataframe\">\n",
       "  <thead>\n",
       "    <tr style=\"text-align: right;\">\n",
       "      <th></th>\n",
       "      <th>poster_path</th>\n",
       "      <th>name</th>\n",
       "      <th>averageRatingTMDB</th>\n",
       "      <th>numVotesTMDB</th>\n",
       "      <th>averageRatingIMDB</th>\n",
       "      <th>numVotesIMDB</th>\n",
       "      <th>original_language</th>\n",
       "      <th>startSeriesYear</th>\n",
       "    </tr>\n",
       "  </thead>\n",
       "  <tbody>\n",
       "    <tr>\n",
       "      <th>161803</th>\n",
       "      <td><img src='http://image.tmdb.org/t/p/w185/qJdfO3ahgAMf2rcmhoqngjBBZW1.jpg' style='height:100px;'></td>\n",
       "      <td>Rick and Morty</td>\n",
       "      <td>8.5</td>\n",
       "      <td>1329.0</td>\n",
       "      <td>9.3</td>\n",
       "      <td>280929.0</td>\n",
       "      <td>en</td>\n",
       "      <td>2013.0</td>\n",
       "    </tr>\n",
       "    <tr>\n",
       "      <th>28161</th>\n",
       "      <td><img src='http://image.tmdb.org/t/p/w185/1yeVJox3rjo2jBKrrihIMj7uoS9.jpg' style='height:100px;'></td>\n",
       "      <td>Breaking Bad</td>\n",
       "      <td>8.4</td>\n",
       "      <td>3464.0</td>\n",
       "      <td>9.5</td>\n",
       "      <td>1232288.0</td>\n",
       "      <td>en</td>\n",
       "      <td>2008.0</td>\n",
       "    </tr>\n",
       "    <tr>\n",
       "      <th>181524</th>\n",
       "      <td><img src='http://image.tmdb.org/t/p/w185/x2LSRK2Cm7MZhjluni1msVJ3wDF.jpg' style='height:100px;'></td>\n",
       "      <td>Stranger Things</td>\n",
       "      <td>8.3</td>\n",
       "      <td>2565.0</td>\n",
       "      <td>8.9</td>\n",
       "      <td>624555.0</td>\n",
       "      <td>en</td>\n",
       "      <td>2016.0</td>\n",
       "    </tr>\n",
       "    <tr>\n",
       "      <th>66186</th>\n",
       "      <td><img src='http://image.tmdb.org/t/p/w185/e890UetS6XH7kqltlZ8VU6qDaHU.jpg' style='height:100px;'></td>\n",
       "      <td>Fargo</td>\n",
       "      <td>8.3</td>\n",
       "      <td>1065.0</td>\n",
       "      <td>9.0</td>\n",
       "      <td>277043.0</td>\n",
       "      <td>en</td>\n",
       "      <td>2014.0</td>\n",
       "    </tr>\n",
       "    <tr>\n",
       "      <th>172093</th>\n",
       "      <td><img src='http://image.tmdb.org/t/p/w185/f9zGxLHGyQB10cMDZNY5ZcGKhZi.jpg' style='height:100px;'></td>\n",
       "      <td>Sherlock</td>\n",
       "      <td>8.3</td>\n",
       "      <td>1828.0</td>\n",
       "      <td>9.1</td>\n",
       "      <td>715575.0</td>\n",
       "      <td>en</td>\n",
       "      <td>2010.0</td>\n",
       "    </tr>\n",
       "    <tr>\n",
       "      <th>87968</th>\n",
       "      <td><img src='http://image.tmdb.org/t/p/w185/hKWxWjFwnMvkWQawbhvC0Y7ygQ8.jpg' style='height:100px;'></td>\n",
       "      <td>House of Cards</td>\n",
       "      <td>8.2</td>\n",
       "      <td>1167.0</td>\n",
       "      <td>8.8</td>\n",
       "      <td>433548.0</td>\n",
       "      <td>en</td>\n",
       "      <td>2013.0</td>\n",
       "    </tr>\n",
       "    <tr>\n",
       "      <th>19799</th>\n",
       "      <td><img src='http://image.tmdb.org/t/p/w185/yRXTVpDRBA3983C3HjoY0SO4dV6.jpg' style='height:100px;'></td>\n",
       "      <td>Band of Brothers</td>\n",
       "      <td>8.2</td>\n",
       "      <td>1478.0</td>\n",
       "      <td>9.5</td>\n",
       "      <td>327019.0</td>\n",
       "      <td>en</td>\n",
       "      <td>2001.0</td>\n",
       "    </tr>\n",
       "    <tr>\n",
       "      <th>87854</th>\n",
       "      <td><img src='http://image.tmdb.org/t/p/w185/lxSzRZ49NXwsiyHuvMsd19QxduC.jpg' style='height:100px;'></td>\n",
       "      <td>House</td>\n",
       "      <td>8.2</td>\n",
       "      <td>1111.0</td>\n",
       "      <td>8.7</td>\n",
       "      <td>378839.0</td>\n",
       "      <td>en</td>\n",
       "      <td>2004.0</td>\n",
       "    </tr>\n",
       "    <tr>\n",
       "      <th>25111</th>\n",
       "      <td><img src='http://image.tmdb.org/t/p/w185/pXeuSWSKgWUnhRFHZ4TjAUU8lbE.jpg' style='height:100px;'></td>\n",
       "      <td>Black Mirror</td>\n",
       "      <td>8.2</td>\n",
       "      <td>1395.0</td>\n",
       "      <td>8.9</td>\n",
       "      <td>335814.0</td>\n",
       "      <td>en</td>\n",
       "      <td>2011.0</td>\n",
       "    </tr>\n",
       "    <tr>\n",
       "      <th>218829</th>\n",
       "      <td><img src='http://image.tmdb.org/t/p/w185/aowr4xpLP5sRCL50TkuADomJ98T.jpg' style='height:100px;'></td>\n",
       "      <td>True Detective</td>\n",
       "      <td>8.2</td>\n",
       "      <td>1193.0</td>\n",
       "      <td>9.0</td>\n",
       "      <td>447816.0</td>\n",
       "      <td>en</td>\n",
       "      <td>2014.0</td>\n",
       "    </tr>\n",
       "  </tbody>\n",
       "</table>"
      ],
      "text/plain": [
       "<IPython.core.display.HTML object>"
      ]
     },
     "execution_count": 18,
     "metadata": {},
     "output_type": "execute_result"
    }
   ],
   "source": [
    "avg_top = series_df[series_df['numVotesTMDB'] > 1000][['poster_path', 'name', 'averageRatingTMDB', 'numVotesTMDB' ,'averageRatingIMDB', 'numVotesIMDB','original_language','startSeriesYear']].sort_values('averageRatingTMDB', ascending=False).head(10)\n",
    "pd.set_option('display.max_colwidth', 100)\n",
    "HTML(avg_top.to_html(escape=False))"
   ]
  },
  {
   "cell_type": "markdown",
   "metadata": {},
   "source": [
    "Nas tabelas acima as séries foram ranqueadas primeiro pela nota média no IMDB e depois pela nota média do TMDB. Em ambas as tabelas mostramos informações de métricas dos dois sites para comparação. \n",
    "\n",
    "Uma descoberta interessante: observamos que para 4 séries do top 10 nota média do IMDB (com no mínimo 10.000 votos no site) temos uma votação insignificante no site do TMDB. Essas 4 séries (The Ants ou Koombiyo, The Filthy Frank Show,  College Romance e Yeh Meri Family) são asiáticas, duas indianas, o primeiro lugar é do Sri Lanka e o segundo lugar é uma série de um canal de um rapaz japonês no Youtube, algo que não havia sido previsto no início desse trabalho. Diante dessa observação podemos ponderar que o IMDB é uma base divulgada mundialmente, apresentando conteúdo e avaliações que ultrapassam o comum americano e englobam produções extremamente independentes e variadas, tais quais as presentes nos canais do Youtube. Já o TMDB é uma base mais focada em conteúdo americano e produtoras tradicionais."
   ]
  },
  {
   "cell_type": "markdown",
   "metadata": {},
   "source": [
    "### Análise de incidências\n",
    "\n",
    "Primeiro vamos analisar as ocorrências nas colunas que informam gênero, país de origem, línguas, tempo por episódio e temporadas:"
   ]
  },
  {
   "cell_type": "markdown",
   "metadata": {},
   "source": [
    "#### Gêneros"
   ]
  },
  {
   "cell_type": "code",
   "execution_count": 19,
   "metadata": {},
   "outputs": [
    {
     "name": "stdout",
     "output_type": "stream",
     "text": [
      "#### genres  ####\n",
      "Number of items: 38\n",
      "List of occurrences: \n",
      "           occurrences  series\n",
      "0               Comedy   51336\n",
      "1                Drama   40207\n",
      "2          Documentary   28352\n",
      "3           Reality-TV   16460\n",
      "4            Talk-Show   13808\n",
      "5               Family   13420\n",
      "6            Animation   12830\n",
      "7                Crime    7856\n",
      "8                Music    7648\n",
      "9              Romance    7232\n",
      "10              Action    6722\n",
      "11           Adventure    6652\n",
      "12                News    6539\n",
      "13           Game-Show    6086\n",
      "14               Sport    4934\n",
      "15             Mystery    4470\n",
      "16             History    3881\n",
      "17              Sci-Fi    3620\n",
      "18             Fantasy    3476\n",
      "19  Action & Adventure    3412\n",
      "20            Thriller    3093\n",
      "21               Short    2888\n",
      "22             Reality    2822\n",
      "23              Horror    2745\n",
      "24    Sci-Fi & Fantasy    2729\n",
      "25           Biography    2038\n",
      "26             Musical    1276\n",
      "27                Kids     988\n",
      "28                 War     941\n",
      "29               Adult     925\n",
      "30                Talk     834\n",
      "31                Soap     693\n",
      "32      War & Politics     495\n",
      "33             Western     438\n",
      "34     Science Fiction      35\n",
      "35            TV Movie       9\n",
      "36              Erotic       1\n",
      "37          Road Movie       1\n",
      "Bar chart: \n"
     ]
    },
    {
     "data": {
      "image/png": "[encoded data removed]",
      "text/plain": [
       "<matplotlib.figure.Figure at 0x253eb391240>"
      ]
     },
     "metadata": {},
     "output_type": "display_data"
    }
   ],
   "source": [
    "def countDifferentItemsFromColumnList(df, columnName):\n",
    "    df[columnName] = df[columnName].fillna('[]').apply(ast.literal_eval)\n",
    "    s = df.apply(lambda x: pd.Series(x[columnName]),axis=1).stack().reset_index(level=1, drop=True)\n",
    "    s.name = 'occurrences'\n",
    "    gen_df = series_df.drop(columnName, axis=1).join(s)\n",
    "    print(\"#### \" + columnName + \"  ####\");\n",
    "    print(\"Number of items: \" + str(gen_df['occurrences'].value_counts().shape[0]));\n",
    "    pop_gen = pd.DataFrame(gen_df['occurrences'].value_counts()).reset_index()\n",
    "    pop_gen.columns = ['occurrences', 'series']\n",
    "    print(\"List of occurrences: \")\n",
    "    print(pop_gen)\n",
    "    print(\"Bar chart: \")\n",
    "    plt.figure(figsize=(18,8))\n",
    "    sns.barplot(x='occurrences', y='series', data=pop_gen.head(15))\n",
    "    plt.show()\n",
    "\n",
    "countDifferentItemsFromColumnList(series_df.copy(), 'genres')\n"
   ]
  },
  {
   "cell_type": "markdown",
   "metadata": {},
   "source": [
    "TMDB e IMDB definem 38 denominações diferentes de gêneros. A maior incidência com considerável distância dos demais gêneros é de dramas e comédias. Não sem propósito, nas premiações temos várias categorias exclusivas para premiar séries desses dois gêneros.\n",
    "\n",
    "Vamos aproveitar o momento para tratar os dados de gênero criando os atributos ehComedia, ehDrama e ehDocumentario para substituir o atributo 'genres' e diminuindo os valores ausentes do dataframe:"
   ]
  },
  {
   "cell_type": "code",
   "execution_count": 20,
   "metadata": {},
   "outputs": [
    {
     "name": "stdout",
     "output_type": "stream",
     "text": [
      "             column_name  missing_count  filling_factor\n",
      "1               homepage         219691        9.252344\n",
      "10           poster_path         206284       14.790367\n",
      "2              languages         193845       19.928539\n",
      "8               overview         192102       20.648519\n",
      "15        startMonthTMDB         189624       21.672105\n",
      "6         origin_country         186068       23.140981\n",
      "11                status         159004       34.320294\n",
      "7      original_language         159004       34.320294\n",
      "12                  type         159004       34.320294\n",
      "20         endSeriesYear         150111       37.993721\n",
      "16             titleType          49847       79.409724\n",
      "17               isAdult          49847       79.409724\n",
      "21       startSeriesYear          34836       85.610310\n",
      "29                 ehABC              0      100.000000\n",
      "28         ehSimonFuller              0      100.000000\n",
      "27           ehJohnDeMol              0      100.000000\n",
      "30                 ehNBC              0      100.000000\n",
      "31             ehYouTube              0      100.000000\n",
      "26             ehABS_CBN              0      100.000000\n",
      "25           ehUniversal              0      100.000000\n",
      "24              ehWarner              0      100.000000\n",
      "32             ehComedia              0      100.000000\n",
      "23                 ehBBC              0      100.000000\n",
      "0             Unnamed: 0              0      100.000000\n",
      "19          numVotesIMDB              0      100.000000\n",
      "18     averageRatingIMDB              0      100.000000\n",
      "33               ehDrama              0      100.000000\n",
      "14          numVotesTMDB              0      100.000000\n",
      "13     averageRatingTMDB              0      100.000000\n",
      "9             popularity              0      100.000000\n",
      "5      number_of_seasons              0      100.000000\n",
      "4     number_of_episodes              0      100.000000\n",
      "3                   name              0      100.000000\n",
      "22  episodeRuntimeSeries              0      100.000000\n",
      "34        ehDocumentario              0      100.000000\n"
     ]
    }
   ],
   "source": [
    "#Função para informar se dado value está denstro dos valores de lista\n",
    "def isValuesInStrList(strList, value):\n",
    "    if isinstance(strList, float):\n",
    "        return False\n",
    "    else:\n",
    "        strList = ast.literal_eval(strList)\n",
    "        if isinstance(strList, list):\n",
    "            for s in strList:\n",
    "                if(s == value):\n",
    "                    return True\n",
    "            return False\n",
    "        else:\n",
    "            return False\n",
    "        \n",
    "#- para substituir o atributo genres:  ehComedia, ehDrama e ehDocumentario\n",
    "series_df['ehComedia'] = series_df['genres'].apply(isValuesInStrList, args=('Comedy',))\n",
    "series_df['ehDrama'] = series_df['genres'].apply(isValuesInStrList, args = ('Drama',))\n",
    "series_df['ehDocumentario'] = series_df['genres'].apply(isValuesInStrList, args = ('Documentary',))\n",
    "series_df = series_df.drop('genres', axis=1)\n",
    "missingValuesSnapshot(series_df)"
   ]
  },
  {
   "cell_type": "markdown",
   "metadata": {},
   "source": [
    "#### País de Origem"
   ]
  },
  {
   "cell_type": "code",
   "execution_count": 21,
   "metadata": {},
   "outputs": [
    {
     "name": "stdout",
     "output_type": "stream",
     "text": [
      "#### origin_country  ####\n",
      "Number of items: 130\n",
      "List of occurrences: \n",
      "    occurrences  series\n",
      "0            US   16876\n",
      "1            GB    9514\n",
      "2            JP    4997\n",
      "3            CA    3138\n",
      "4            DE    2603\n",
      "5            AU    2505\n",
      "6            KR    1558\n",
      "7            NL    1173\n",
      "8            PH    1155\n",
      "9            FR    1066\n",
      "10           CN     879\n",
      "11           IO     863\n",
      "12           IT     711\n",
      "13           TH     701\n",
      "14           ES     620\n",
      "15           SE     544\n",
      "16           HK     541\n",
      "17           BR     494\n",
      "18           RU     461\n",
      "19           TR     447\n",
      "20           MX     445\n",
      "21           PL     434\n",
      "22           CZ     422\n",
      "23           DK     389\n",
      "24           NO     351\n",
      "25           BE     310\n",
      "26           NZ     298\n",
      "27           TW     290\n",
      "28           PK     269\n",
      "29           MY     257\n",
      "..          ...     ...\n",
      "100          BN       3\n",
      "101          PA       3\n",
      "102          DO       3\n",
      "103          TT       2\n",
      "104          TG       2\n",
      "105          BH       2\n",
      "106          DZ       2\n",
      "107          MT       2\n",
      "108          GH       2\n",
      "109          UG       2\n",
      "110          AD       2\n",
      "111          ME       2\n",
      "112          IQ       2\n",
      "113          TC       1\n",
      "114          BO       1\n",
      "115          MN       1\n",
      "116          MD       1\n",
      "117          AW       1\n",
      "118          VI       1\n",
      "119          FJ       1\n",
      "120          MM       1\n",
      "121          PY       1\n",
      "122          HN       1\n",
      "123          PG       1\n",
      "124          AO       1\n",
      "125          AN       1\n",
      "126          SZ       1\n",
      "127          PS       1\n",
      "128          MP       1\n",
      "129          VU       1\n",
      "\n",
      "[130 rows x 2 columns]\n",
      "Bar chart: \n"
     ]
    },
    {
     "data": {
      "image/png": "[encoded data removed]",
      "text/plain": [
       "<matplotlib.figure.Figure at 0x253f8a3e780>"
      ]
     },
     "metadata": {},
     "output_type": "display_data"
    }
   ],
   "source": [
    "countDifferentItemsFromColumnList(series_df.copy(), 'origin_country')"
   ]
  },
  {
   "cell_type": "markdown",
   "metadata": {},
   "source": [
    "130 países de origem diferentes. Maiores representantes EUA, Grão Bretanha e Japão. O Brasil está em 17º lugar, com 494 séries.\n",
    "\n",
    "Levantamos aqui uma hipótese: o número expresivo de séries japonesas tem como 'network' o YouTube? Vamos atualizar o notebook  4 para termos um atributo ehYouTube no dataframe e analisar a questão abaixo:"
   ]
  },
  {
   "cell_type": "code",
   "execution_count": 22,
   "metadata": {},
   "outputs": [
    {
     "name": "stdout",
     "output_type": "stream",
     "text": [
      "Número de registros com país de origem Japão: 4997\n",
      "Número de registros com país de origem Japão com network Youtube: 22\n"
     ]
    }
   ],
   "source": [
    "temp_df = series_df[series_df['origin_country'].apply(isValuesInStrList, args=('JP',))]\n",
    "print(\"Número de registros com país de origem Japão: \" + str(temp_df.shape[0]));\n",
    "temp_df = temp_df[temp_df['ehYouTube']];\n",
    "print(\"Número de registros com país de origem Japão com network Youtube: \" + str(temp_df.shape[0]));"
   ]
  },
  {
   "cell_type": "markdown",
   "metadata": {},
   "source": [
    "Nossa hipótese não se comprovou...rs"
   ]
  },
  {
   "cell_type": "markdown",
   "metadata": {},
   "source": [
    "#### Nº de episódios e Nº de Temporadas\n",
    "\n",
    "Esses dois atributos são relacionados: quanto mais temporadas, mais episódios: existe uma correlação de 0,43. O fato de se ter mais temporadas apresenta um diferencial, pois uma temporada representa um novo ciclo contratual da série, o que é um indicativo de que a série está indo bem, é algo bem significativo. Vejamos o resumo estatístico desses dois atributos:"
   ]
  },
  {
   "cell_type": "code",
   "execution_count": 23,
   "metadata": {},
   "outputs": [
    {
     "data": {
      "text/plain": [
       "0.42874981524980305"
      ]
     },
     "execution_count": 23,
     "metadata": {},
     "output_type": "execute_result"
    }
   ],
   "source": [
    "series_df['number_of_episodes'].corr(series_df['number_of_seasons'])"
   ]
  },
  {
   "cell_type": "code",
   "execution_count": 24,
   "metadata": {},
   "outputs": [
    {
     "data": {
      "text/plain": [
       "20.847526    160363\n",
       "0.000000      28812\n",
       "1.000000       6493\n",
       "6.000000       3734\n",
       "13.000000      2702\n",
       "10.000000      2460\n",
       "12.000000      2424\n",
       "2.000000       2424\n",
       "8.000000       2315\n",
       "3.000000       2249\n",
       "Name: number_of_episodes, dtype: int64"
      ]
     },
     "execution_count": 24,
     "metadata": {},
     "output_type": "execute_result"
    }
   ],
   "source": [
    "series_df['number_of_episodes'].value_counts().head(10)"
   ]
  },
  {
   "cell_type": "code",
   "execution_count": 25,
   "metadata": {},
   "outputs": [
    {
     "data": {
      "text/html": [
       "<div>\n",
       "<style scoped>\n",
       "    .dataframe tbody tr th:only-of-type {\n",
       "        vertical-align: middle;\n",
       "    }\n",
       "\n",
       "    .dataframe tbody tr th {\n",
       "        vertical-align: top;\n",
       "    }\n",
       "\n",
       "    .dataframe thead th {\n",
       "        text-align: right;\n",
       "    }\n",
       "</style>\n",
       "<table border=\"1\" class=\"dataframe\">\n",
       "  <thead>\n",
       "    <tr style=\"text-align: right;\">\n",
       "      <th></th>\n",
       "      <th>number_of_episodes</th>\n",
       "      <th>name</th>\n",
       "      <th>startSeriesYear</th>\n",
       "    </tr>\n",
       "  </thead>\n",
       "  <tbody>\n",
       "    <tr>\n",
       "      <th>215393</th>\n",
       "      <td>15699.0</td>\n",
       "      <td>Today</td>\n",
       "      <td>1952.0</td>\n",
       "    </tr>\n",
       "    <tr>\n",
       "      <th>115623</th>\n",
       "      <td>7771.0</td>\n",
       "      <td>Live! with Kelly</td>\n",
       "      <td>1988.0</td>\n",
       "    </tr>\n",
       "    <tr>\n",
       "      <th>86724</th>\n",
       "      <td>7022.0</td>\n",
       "      <td>Home and Away</td>\n",
       "      <td>1988.0</td>\n",
       "    </tr>\n",
       "    <tr>\n",
       "      <th>72926</th>\n",
       "      <td>6395.0</td>\n",
       "      <td>GMTV</td>\n",
       "      <td>1993.0</td>\n",
       "    </tr>\n",
       "    <tr>\n",
       "      <th>136644</th>\n",
       "      <td>5862.0</td>\n",
       "      <td>Neighbours</td>\n",
       "      <td>1985.0</td>\n",
       "    </tr>\n",
       "    <tr>\n",
       "      <th>41966</th>\n",
       "      <td>5634.0</td>\n",
       "      <td>Countdown</td>\n",
       "      <td>1982.0</td>\n",
       "    </tr>\n",
       "    <tr>\n",
       "      <th>57682</th>\n",
       "      <td>5620.0</td>\n",
       "      <td>EastEnders</td>\n",
       "      <td>1985.0</td>\n",
       "    </tr>\n",
       "    <tr>\n",
       "      <th>166404</th>\n",
       "      <td>4801.0</td>\n",
       "      <td>Sale of the Century</td>\n",
       "      <td>1980.0</td>\n",
       "    </tr>\n",
       "    <tr>\n",
       "      <th>227256</th>\n",
       "      <td>4544.0</td>\n",
       "      <td>Volle Kanne</td>\n",
       "      <td>1999.0</td>\n",
       "    </tr>\n",
       "    <tr>\n",
       "      <th>97436</th>\n",
       "      <td>4293.0</td>\n",
       "      <td>Jeopardy!</td>\n",
       "      <td>1984.0</td>\n",
       "    </tr>\n",
       "  </tbody>\n",
       "</table>\n",
       "</div>"
      ],
      "text/plain": [
       "        number_of_episodes                 name  startSeriesYear\n",
       "215393             15699.0                Today           1952.0\n",
       "115623              7771.0     Live! with Kelly           1988.0\n",
       "86724               7022.0        Home and Away           1988.0\n",
       "72926               6395.0                 GMTV           1993.0\n",
       "136644              5862.0           Neighbours           1985.0\n",
       "41966               5634.0            Countdown           1982.0\n",
       "57682               5620.0           EastEnders           1985.0\n",
       "166404              4801.0  Sale of the Century           1980.0\n",
       "227256              4544.0          Volle Kanne           1999.0\n",
       "97436               4293.0            Jeopardy!           1984.0"
      ]
     },
     "execution_count": 25,
     "metadata": {},
     "output_type": "execute_result"
    }
   ],
   "source": [
    "series_df[series_df['number_of_episodes'] > 0][['number_of_episodes', 'name', 'startSeriesYear']].sort_values(by = ['number_of_episodes', 'startSeriesYear'], ascending=False).head(10)"
   ]
  },
  {
   "cell_type": "markdown",
   "metadata": {},
   "source": [
    "Pelo resumo de ocorrências da coluna 'number_of_episodes' vemos que a muitas séries foi atribuído o valor zero de episódios. Zero é o segundo valor mais frequente, sendo o primeiro um valor não inteiro 20.847526 que é o resultado da estratégia de preenchimento de campos nulos que foi aplicada no notebook 4.\n",
    "\n",
    "Os primeiros resultados de séries com maior número de episódios são programas diários. Temos também novelas e shows de perguntas e respostas."
   ]
  },
  {
   "cell_type": "code",
   "execution_count": 26,
   "metadata": {},
   "outputs": [
    {
     "data": {
      "text/plain": [
       "1.31833    159004\n",
       "1.00000     39601\n",
       "0.00000     27544\n",
       "2.00000      6923\n",
       "3.00000      3139\n",
       "4.00000      1714\n",
       "5.00000      1074\n",
       "6.00000       708\n",
       "7.00000       472\n",
       "8.00000       406\n",
       "Name: number_of_seasons, dtype: int64"
      ]
     },
     "execution_count": 26,
     "metadata": {},
     "output_type": "execute_result"
    }
   ],
   "source": [
    "series_df['number_of_seasons'].value_counts().head(10)"
   ]
  },
  {
   "cell_type": "code",
   "execution_count": 27,
   "metadata": {},
   "outputs": [
    {
     "data": {
      "text/html": [
       "<div>\n",
       "<style scoped>\n",
       "    .dataframe tbody tr th:only-of-type {\n",
       "        vertical-align: middle;\n",
       "    }\n",
       "\n",
       "    .dataframe tbody tr th {\n",
       "        vertical-align: top;\n",
       "    }\n",
       "\n",
       "    .dataframe thead th {\n",
       "        text-align: right;\n",
       "    }\n",
       "</style>\n",
       "<table border=\"1\" class=\"dataframe\">\n",
       "  <thead>\n",
       "    <tr style=\"text-align: right;\">\n",
       "      <th></th>\n",
       "      <th>number_of_seasons</th>\n",
       "      <th>name</th>\n",
       "      <th>startSeriesYear</th>\n",
       "    </tr>\n",
       "  </thead>\n",
       "  <tbody>\n",
       "    <tr>\n",
       "      <th>68470</th>\n",
       "      <td>345.0</td>\n",
       "      <td>Fitil</td>\n",
       "      <td>1962.0</td>\n",
       "    </tr>\n",
       "    <tr>\n",
       "      <th>151428</th>\n",
       "      <td>110.0</td>\n",
       "      <td>Play School</td>\n",
       "      <td>1966.0</td>\n",
       "    </tr>\n",
       "    <tr>\n",
       "      <th>73097</th>\n",
       "      <td>101.0</td>\n",
       "      <td>Gadfly</td>\n",
       "      <td>1971.0</td>\n",
       "    </tr>\n",
       "    <tr>\n",
       "      <th>77180</th>\n",
       "      <td>76.0</td>\n",
       "      <td>Golden Globe Awards</td>\n",
       "      <td>1944.0</td>\n",
       "    </tr>\n",
       "    <tr>\n",
       "      <th>58750</th>\n",
       "      <td>75.0</td>\n",
       "      <td>Ek Rishta Saajhedari Ka</td>\n",
       "      <td>2016.0</td>\n",
       "    </tr>\n",
       "    <tr>\n",
       "      <th>73427</th>\n",
       "      <td>71.0</td>\n",
       "      <td>Game Grumps</td>\n",
       "      <td>2012.0</td>\n",
       "    </tr>\n",
       "    <tr>\n",
       "      <th>108788</th>\n",
       "      <td>70.0</td>\n",
       "      <td>La passion des trains</td>\n",
       "      <td>2007.0</td>\n",
       "    </tr>\n",
       "    <tr>\n",
       "      <th>41966</th>\n",
       "      <td>70.0</td>\n",
       "      <td>Countdown</td>\n",
       "      <td>1982.0</td>\n",
       "    </tr>\n",
       "    <tr>\n",
       "      <th>196526</th>\n",
       "      <td>70.0</td>\n",
       "      <td>The Emmy Awards</td>\n",
       "      <td>1949.0</td>\n",
       "    </tr>\n",
       "    <tr>\n",
       "      <th>64134</th>\n",
       "      <td>69.0</td>\n",
       "      <td>Extra History</td>\n",
       "      <td>2013.0</td>\n",
       "    </tr>\n",
       "  </tbody>\n",
       "</table>\n",
       "</div>"
      ],
      "text/plain": [
       "        number_of_seasons                     name  startSeriesYear\n",
       "68470               345.0                    Fitil           1962.0\n",
       "151428              110.0              Play School           1966.0\n",
       "73097               101.0                   Gadfly           1971.0\n",
       "77180                76.0      Golden Globe Awards           1944.0\n",
       "58750                75.0  Ek Rishta Saajhedari Ka           2016.0\n",
       "73427                71.0              Game Grumps           2012.0\n",
       "108788               70.0    La passion des trains           2007.0\n",
       "41966                70.0                Countdown           1982.0\n",
       "196526               70.0          The Emmy Awards           1949.0\n",
       "64134                69.0            Extra History           2013.0"
      ]
     },
     "execution_count": 27,
     "metadata": {},
     "output_type": "execute_result"
    }
   ],
   "source": [
    "series_df[series_df['number_of_seasons'] > 0][['number_of_seasons', 'name', 'startSeriesYear']].sort_values(by = ['number_of_seasons', 'startSeriesYear'], ascending=False).head(10)"
   ]
  },
  {
   "cell_type": "markdown",
   "metadata": {},
   "source": [
    "Pelo resumo de ocorrências da coluna 'number_of_seasons' vemos que a muitas séries foi atribuído o valor zero ou um0 de temporadas. Zero é o terceiro valor mais frequente, sendo o segundo o valor um e o primeiro um valor não inteiro 1.31833 que é o resultado da estratégia de preenchimento de campos nulos que foi aplicada no notebook 4.\n",
    "\n",
    "Exemplos das séries com mais temporadas:\n",
    "Fitil é uma popular série de curtas-metragens satíricos / comédias de televisão soviética / russa. Alguns dos episódios foram dirigidos a crianças. Cada edição continha os poucos segmentos curtos: documentário, fictício e animado.\n",
    "\n",
    "A Play School é um programa de televisão educacional premiado pela Australian Gold Logie para crianças produzido pela Australian Broadcasting Corporation. É o show infantil de maior duração na Austrália e o segundo show infantil de maior duração do mundo.\n"
   ]
  },
  {
   "cell_type": "markdown",
   "metadata": {},
   "source": [
    "#### Tempo por episódio\n",
    "Vamos analisar o tempo médio por episódio:"
   ]
  },
  {
   "cell_type": "code",
   "execution_count": 28,
   "metadata": {},
   "outputs": [
    {
     "data": {
      "text/plain": [
       "52.133996    129893\n",
       "30.000000     27739\n",
       "60.000000     19385\n",
       "45.000000      6858\n",
       "25.000000      5325\n",
       "50.000000      3762\n",
       "22.000000      2582\n",
       "15.000000      2311\n",
       "24.000000      2229\n",
       "90.000000      2160\n",
       "Name: episodeRuntimeSeries, dtype: int64"
      ]
     },
     "execution_count": 28,
     "metadata": {},
     "output_type": "execute_result"
    }
   ],
   "source": [
    "series_df['episodeRuntimeSeries'].value_counts().head(10)"
   ]
  },
  {
   "cell_type": "markdown",
   "metadata": {},
   "source": [
    "O tempo médio mais recorrente é um tempo fracionado, obtido  pela estratégia de preenchimento de campos nulos que foi aplicada no notebook 4. Em seguida temos séries de 30 e 60 minutos e depois de 45 e 25 minutos. Vamos ver se a duração média dos episódios das séries seguiu algum padrão ou apresenta alguma tendência ao longo do tempo:"
   ]
  },
  {
   "cell_type": "code",
   "execution_count": 29,
   "metadata": {},
   "outputs": [
    {
     "data": {
      "image/png": "[encoded data removed]",
      "text/plain": [
       "<matplotlib.figure.Figure at 0x253ba9300b8>"
      ]
     },
     "metadata": {},
     "output_type": "display_data"
    }
   ],
   "source": [
    "series_df['episodeRuntimeSeries'] = series_df['episodeRuntimeSeries'].astype('float')\n",
    "plt.figure(figsize=(18,5))\n",
    "year_runtime = series_df.groupby('startSeriesYear')['episodeRuntimeSeries'].mean()\n",
    "plt.plot(year_runtime.index, year_runtime)\n",
    "plt.xticks(np.arange(1874, 2024, 10.0))\n",
    "plt.show()"
   ]
  },
  {
   "cell_type": "markdown",
   "metadata": {},
   "source": [
    "É possível perceber que demorou um pouco para ocorrer a formação de um padrão na duração média dos episódios das séries, mas que por volta dos anos 60 esse padrão se definiu, entre os 40 e 60 minutos. Vimos que existem muitas séries com episódios curtos de 30 minutos, mas as as séries com mais de 50 minutos são mais numerosas. O início do gráfico, principalmente entre 1924 e 1934, apresenta uma variação bem grande de tempo médio de episódio. \n",
    "\n",
    "Vamos ver as séries com os menores e maiores tempos por episódio:"
   ]
  },
  {
   "cell_type": "code",
   "execution_count": 30,
   "metadata": {},
   "outputs": [
    {
     "data": {
      "text/html": [
       "<div>\n",
       "<style scoped>\n",
       "    .dataframe tbody tr th:only-of-type {\n",
       "        vertical-align: middle;\n",
       "    }\n",
       "\n",
       "    .dataframe tbody tr th {\n",
       "        vertical-align: top;\n",
       "    }\n",
       "\n",
       "    .dataframe thead th {\n",
       "        text-align: right;\n",
       "    }\n",
       "</style>\n",
       "<table border=\"1\" class=\"dataframe\">\n",
       "  <thead>\n",
       "    <tr style=\"text-align: right;\">\n",
       "      <th></th>\n",
       "      <th>episodeRuntimeSeries</th>\n",
       "      <th>name</th>\n",
       "      <th>startSeriesYear</th>\n",
       "    </tr>\n",
       "  </thead>\n",
       "  <tbody>\n",
       "    <tr>\n",
       "      <th>49696</th>\n",
       "      <td>1.0</td>\n",
       "      <td>Der phantastische Film</td>\n",
       "      <td>1970.0</td>\n",
       "    </tr>\n",
       "    <tr>\n",
       "      <th>116207</th>\n",
       "      <td>1.0</td>\n",
       "      <td>Loeki de leeuw</td>\n",
       "      <td>1972.0</td>\n",
       "    </tr>\n",
       "    <tr>\n",
       "      <th>175877</th>\n",
       "      <td>1.0</td>\n",
       "      <td>Snipets</td>\n",
       "      <td>1972.0</td>\n",
       "    </tr>\n",
       "    <tr>\n",
       "      <th>23539</th>\n",
       "      <td>1.0</td>\n",
       "      <td>Bicentennial Minutes</td>\n",
       "      <td>1974.0</td>\n",
       "    </tr>\n",
       "    <tr>\n",
       "      <th>108720</th>\n",
       "      <td>1.0</td>\n",
       "      <td>La noiraude</td>\n",
       "      <td>1976.0</td>\n",
       "    </tr>\n",
       "    <tr>\n",
       "      <th>14163</th>\n",
       "      <td>1.0</td>\n",
       "      <td>Antivol</td>\n",
       "      <td>1977.0</td>\n",
       "    </tr>\n",
       "    <tr>\n",
       "      <th>213098</th>\n",
       "      <td>1.0</td>\n",
       "      <td>Thirsty Workers</td>\n",
       "      <td>1981.0</td>\n",
       "    </tr>\n",
       "    <tr>\n",
       "      <th>161436</th>\n",
       "      <td>1.0</td>\n",
       "      <td>Reverse Television: Portraits of Viewers</td>\n",
       "      <td>1983.0</td>\n",
       "    </tr>\n",
       "    <tr>\n",
       "      <th>12458</th>\n",
       "      <td>1.0</td>\n",
       "      <td>An American Portrait</td>\n",
       "      <td>1984.0</td>\n",
       "    </tr>\n",
       "    <tr>\n",
       "      <th>98930</th>\n",
       "      <td>1.0</td>\n",
       "      <td>Jozhik</td>\n",
       "      <td>1985.0</td>\n",
       "    </tr>\n",
       "  </tbody>\n",
       "</table>\n",
       "</div>"
      ],
      "text/plain": [
       "        episodeRuntimeSeries                                      name  \\\n",
       "49696                    1.0                    Der phantastische Film   \n",
       "116207                   1.0                            Loeki de leeuw   \n",
       "175877                   1.0                                   Snipets   \n",
       "23539                    1.0                      Bicentennial Minutes   \n",
       "108720                   1.0                               La noiraude   \n",
       "14163                    1.0                                   Antivol   \n",
       "213098                   1.0                           Thirsty Workers   \n",
       "161436                   1.0  Reverse Television: Portraits of Viewers   \n",
       "12458                    1.0                      An American Portrait   \n",
       "98930                    1.0                                    Jozhik   \n",
       "\n",
       "        startSeriesYear  \n",
       "49696            1970.0  \n",
       "116207           1972.0  \n",
       "175877           1972.0  \n",
       "23539            1974.0  \n",
       "108720           1976.0  \n",
       "14163            1977.0  \n",
       "213098           1981.0  \n",
       "161436           1983.0  \n",
       "12458            1984.0  \n",
       "98930            1985.0  "
      ]
     },
     "execution_count": 30,
     "metadata": {},
     "output_type": "execute_result"
    }
   ],
   "source": [
    "series_df[series_df['episodeRuntimeSeries'] > 0][['episodeRuntimeSeries', 'name', 'startSeriesYear']].sort_values(by = ['episodeRuntimeSeries', 'startSeriesYear']).head(10)"
   ]
  },
  {
   "cell_type": "markdown",
   "metadata": {},
   "source": [
    "Existem muitas séries com duração de 1 minuto! Exemplo de série de duração de 1 minuto: Minutos do Bicentenário foi uma série de curtos segmentos educacionais da televisão americana comemorando o bicentenário da Revolução Americana. Snipets era uma série de curtas-metragens de 30 segundos a um minuto para crianças.\n"
   ]
  },
  {
   "cell_type": "code",
   "execution_count": 31,
   "metadata": {},
   "outputs": [
    {
     "data": {
      "text/html": [
       "<div>\n",
       "<style scoped>\n",
       "    .dataframe tbody tr th:only-of-type {\n",
       "        vertical-align: middle;\n",
       "    }\n",
       "\n",
       "    .dataframe tbody tr th {\n",
       "        vertical-align: top;\n",
       "    }\n",
       "\n",
       "    .dataframe thead th {\n",
       "        text-align: right;\n",
       "    }\n",
       "</style>\n",
       "<table border=\"1\" class=\"dataframe\">\n",
       "  <thead>\n",
       "    <tr style=\"text-align: right;\">\n",
       "      <th></th>\n",
       "      <th>episodeRuntimeSeries</th>\n",
       "      <th>name</th>\n",
       "      <th>startSeriesYear</th>\n",
       "    </tr>\n",
       "  </thead>\n",
       "  <tbody>\n",
       "    <tr>\n",
       "      <th>208304</th>\n",
       "      <td>8400.0</td>\n",
       "      <td>The Sharing Circle</td>\n",
       "      <td>1991.0</td>\n",
       "    </tr>\n",
       "    <tr>\n",
       "      <th>92670</th>\n",
       "      <td>5220.0</td>\n",
       "      <td>In Town Tonight</td>\n",
       "      <td>1954.0</td>\n",
       "    </tr>\n",
       "    <tr>\n",
       "      <th>78493</th>\n",
       "      <td>4800.0</td>\n",
       "      <td>Great Chefs of the World</td>\n",
       "      <td>1982.0</td>\n",
       "    </tr>\n",
       "    <tr>\n",
       "      <th>50087</th>\n",
       "      <td>3900.0</td>\n",
       "      <td>Desire</td>\n",
       "      <td>2006.0</td>\n",
       "    </tr>\n",
       "    <tr>\n",
       "      <th>231615</th>\n",
       "      <td>3825.0</td>\n",
       "      <td>White Deer Plain</td>\n",
       "      <td>2017.0</td>\n",
       "    </tr>\n",
       "    <tr>\n",
       "      <th>166452</th>\n",
       "      <td>3600.0</td>\n",
       "      <td>Salmeboka minutt for minutt</td>\n",
       "      <td>2014.0</td>\n",
       "    </tr>\n",
       "    <tr>\n",
       "      <th>101319</th>\n",
       "      <td>3600.0</td>\n",
       "      <td>Kara melek</td>\n",
       "      <td>1997.0</td>\n",
       "    </tr>\n",
       "    <tr>\n",
       "      <th>103909</th>\n",
       "      <td>3285.0</td>\n",
       "      <td>Kirisute Gomen!</td>\n",
       "      <td>1980.0</td>\n",
       "    </tr>\n",
       "    <tr>\n",
       "      <th>10018</th>\n",
       "      <td>3000.0</td>\n",
       "      <td>Alim Dayi</td>\n",
       "      <td>1991.0</td>\n",
       "    </tr>\n",
       "    <tr>\n",
       "      <th>106472</th>\n",
       "      <td>2925.0</td>\n",
       "      <td>Kôya no surônin</td>\n",
       "      <td>1972.0</td>\n",
       "    </tr>\n",
       "  </tbody>\n",
       "</table>\n",
       "</div>"
      ],
      "text/plain": [
       "        episodeRuntimeSeries                         name  startSeriesYear\n",
       "208304                8400.0           The Sharing Circle           1991.0\n",
       "92670                 5220.0              In Town Tonight           1954.0\n",
       "78493                 4800.0     Great Chefs of the World           1982.0\n",
       "50087                 3900.0                       Desire           2006.0\n",
       "231615                3825.0             White Deer Plain           2017.0\n",
       "166452                3600.0  Salmeboka minutt for minutt           2014.0\n",
       "101319                3600.0                   Kara melek           1997.0\n",
       "103909                3285.0              Kirisute Gomen!           1980.0\n",
       "10018                 3000.0                    Alim Dayi           1991.0\n",
       "106472                2925.0              Kôya no surônin           1972.0"
      ]
     },
     "execution_count": 31,
     "metadata": {},
     "output_type": "execute_result"
    }
   ],
   "source": [
    "series_df[series_df['episodeRuntimeSeries'] > 0][['episodeRuntimeSeries', 'name', 'startSeriesYear']].sort_values(by = ['episodeRuntimeSeries', 'startSeriesYear'], ascending=False).head(10)"
   ]
  },
  {
   "cell_type": "markdown",
   "metadata": {},
   "source": [
    "As séries de episódios mais longos são falhas de interpretação do campo. Por exemplo, no primeiro caso o tempo de execução está 8.400 min, mas esse é referente aos 280 episódios da série e não a cada um. \n",
    "Consideramos a possibilidade de erro de interpretação do campo no momento da junção das bases do TMDB e IMDB. No entanto analisando os casos acima verificamos que nas bases de origem mesmo temos o erro de interpretação. Por vezes o tempo cadastrado se refere a todos os episódios e por vezes se refere a um tempo por episódio. \n",
    "\n",
    "Vamos estimar o tamanho desse problema:"
   ]
  },
  {
   "cell_type": "code",
   "execution_count": 32,
   "metadata": {},
   "outputs": [
    {
     "name": "stdout",
     "output_type": "stream",
     "text": [
      "Number of Rows in dataframe in which episodeRuntimeSeries > 240 :  2139\n",
      "Number of Rows in dataframe in which episodeRuntimeSeries <= 240 :  239951\n"
     ]
    }
   ],
   "source": [
    "# linhas em que o tempo por episódio está maior que 240 minutos (4 horas de duração)\n",
    "problems = series_df.apply(lambda x: True if x['episodeRuntimeSeries'] > 240 else False , axis=1)\n",
    " \n",
    "#print(series_df[problems][['episodeRuntimeSeries', 'number_of_episodes', 'name']])    \n",
    "# Count number of True in series\n",
    "numOfRows = len(problems[problems == True].index)\n",
    " \n",
    "print('Number of Rows in dataframe in which episodeRuntimeSeries > 240 : ', numOfRows)\n",
    "\n",
    "# Count number of True in series\n",
    "numOfRows = len(problems[problems == False].index)\n",
    "print('Number of Rows in dataframe in which episodeRuntimeSeries <= 240 : ', numOfRows)"
   ]
  },
  {
   "cell_type": "markdown",
   "metadata": {},
   "source": [
    "Com a estimativa realizada, vemos que esse problema ocorre em menos de 1% dos registros. "
   ]
  },
  {
   "cell_type": "markdown",
   "metadata": {},
   "source": [
    "#### Línguas"
   ]
  },
  {
   "cell_type": "markdown",
   "metadata": {},
   "source": [
    "Vamos analisar o número de línguas faladas em uma série. Vamos aproveitar para tratar o atributo languages da seguinte forma - ele será subtituído pelo número de línguas que apresenta, evitando assim os valores vazios:"
   ]
  },
  {
   "cell_type": "code",
   "execution_count": 33,
   "metadata": {},
   "outputs": [
    {
     "data": {
      "text/plain": [
       "0     193845\n",
       "1      46409\n",
       "2       1506\n",
       "3        233\n",
       "4         56\n",
       "5         25\n",
       "6          7\n",
       "7          5\n",
       "17         1\n",
       "11         1\n",
       "9          1\n",
       "8          1\n",
       "Name: languages, dtype: int64"
      ]
     },
     "execution_count": 33,
     "metadata": {},
     "output_type": "execute_result"
    }
   ],
   "source": [
    "series_df['languages'] = series_df['languages'].fillna('[]').apply(ast.literal_eval).apply(lambda x: len(x) if isinstance(x, list) else np.nan)\n",
    "series_df['languages'].value_counts()\n",
    "\n"
   ]
  },
  {
   "cell_type": "markdown",
   "metadata": {},
   "source": [
    "A maioria das séries com campo preenchido apresenta língua única (46409). A grande maioria não têm essa informação (193845). A série com maior número de línguas tem 17 línguas registradas."
   ]
  },
  {
   "cell_type": "code",
   "execution_count": 34,
   "metadata": {},
   "outputs": [
    {
     "data": {
      "text/html": [
       "<div>\n",
       "<style scoped>\n",
       "    .dataframe tbody tr th:only-of-type {\n",
       "        vertical-align: middle;\n",
       "    }\n",
       "\n",
       "    .dataframe tbody tr th {\n",
       "        vertical-align: top;\n",
       "    }\n",
       "\n",
       "    .dataframe thead th {\n",
       "        text-align: right;\n",
       "    }\n",
       "</style>\n",
       "<table border=\"1\" class=\"dataframe\">\n",
       "  <thead>\n",
       "    <tr style=\"text-align: right;\">\n",
       "      <th></th>\n",
       "      <th>name</th>\n",
       "      <th>startSeriesYear</th>\n",
       "      <th>languages</th>\n",
       "    </tr>\n",
       "  </thead>\n",
       "  <tbody>\n",
       "    <tr>\n",
       "      <th>216791</th>\n",
       "      <td>Total Drama: Revenge of the Island</td>\n",
       "      <td>2012.0</td>\n",
       "      <td>17</td>\n",
       "    </tr>\n",
       "    <tr>\n",
       "      <th>39300</th>\n",
       "      <td>Cold War</td>\n",
       "      <td>1998.0</td>\n",
       "      <td>11</td>\n",
       "    </tr>\n",
       "    <tr>\n",
       "      <th>52919</th>\n",
       "      <td>Discovering the Vatican</td>\n",
       "      <td>2006.0</td>\n",
       "      <td>9</td>\n",
       "    </tr>\n",
       "    <tr>\n",
       "      <th>33110</th>\n",
       "      <td>Carlos</td>\n",
       "      <td>2010.0</td>\n",
       "      <td>8</td>\n",
       "    </tr>\n",
       "    <tr>\n",
       "      <th>38102</th>\n",
       "      <td>Clash of Futures</td>\n",
       "      <td>2018.0</td>\n",
       "      <td>7</td>\n",
       "    </tr>\n",
       "    <tr>\n",
       "      <th>141576</th>\n",
       "      <td>Occupation 1968</td>\n",
       "      <td>2018.0</td>\n",
       "      <td>7</td>\n",
       "    </tr>\n",
       "    <tr>\n",
       "      <th>166226</th>\n",
       "      <td>Saint Seiya: Knights of the Zodiac</td>\n",
       "      <td>2019.0</td>\n",
       "      <td>7</td>\n",
       "    </tr>\n",
       "    <tr>\n",
       "      <th>210521</th>\n",
       "      <td>The Tudors</td>\n",
       "      <td>2007.0</td>\n",
       "      <td>7</td>\n",
       "    </tr>\n",
       "    <tr>\n",
       "      <th>241072</th>\n",
       "      <td>おジャ魔女どれみ</td>\n",
       "      <td>1999.0</td>\n",
       "      <td>7</td>\n",
       "    </tr>\n",
       "    <tr>\n",
       "      <th>26629</th>\n",
       "      <td>Bolji zivot</td>\n",
       "      <td>1987.0</td>\n",
       "      <td>6</td>\n",
       "    </tr>\n",
       "    <tr>\n",
       "      <th>50271</th>\n",
       "      <td>Destino</td>\n",
       "      <td>2012.0</td>\n",
       "      <td>6</td>\n",
       "    </tr>\n",
       "    <tr>\n",
       "      <th>55656</th>\n",
       "      <td>Dragon Quest: Great Adventure of Dai</td>\n",
       "      <td>1991.0</td>\n",
       "      <td>6</td>\n",
       "    </tr>\n",
       "    <tr>\n",
       "      <th>124734</th>\n",
       "      <td>Medal of Honor</td>\n",
       "      <td>2018.0</td>\n",
       "      <td>6</td>\n",
       "    </tr>\n",
       "    <tr>\n",
       "      <th>135306</th>\n",
       "      <td>Nadia: The Secret of Blue Water</td>\n",
       "      <td>1990.0</td>\n",
       "      <td>6</td>\n",
       "    </tr>\n",
       "    <tr>\n",
       "      <th>204028</th>\n",
       "      <td>The Name of the Rose</td>\n",
       "      <td>2019.0</td>\n",
       "      <td>6</td>\n",
       "    </tr>\n",
       "    <tr>\n",
       "      <th>209842</th>\n",
       "      <td>The Team</td>\n",
       "      <td>2015.0</td>\n",
       "      <td>6</td>\n",
       "    </tr>\n",
       "  </tbody>\n",
       "</table>\n",
       "</div>"
      ],
      "text/plain": [
       "                                        name  startSeriesYear  languages\n",
       "216791    Total Drama: Revenge of the Island           2012.0         17\n",
       "39300                               Cold War           1998.0         11\n",
       "52919                Discovering the Vatican           2006.0          9\n",
       "33110                                 Carlos           2010.0          8\n",
       "38102                       Clash of Futures           2018.0          7\n",
       "141576                       Occupation 1968           2018.0          7\n",
       "166226    Saint Seiya: Knights of the Zodiac           2019.0          7\n",
       "210521                            The Tudors           2007.0          7\n",
       "241072                              おジャ魔女どれみ           1999.0          7\n",
       "26629                            Bolji zivot           1987.0          6\n",
       "50271                                Destino           2012.0          6\n",
       "55656   Dragon Quest: Great Adventure of Dai           1991.0          6\n",
       "124734                        Medal of Honor           2018.0          6\n",
       "135306       Nadia: The Secret of Blue Water           1990.0          6\n",
       "204028                  The Name of the Rose           2019.0          6\n",
       "209842                              The Team           2015.0          6"
      ]
     },
     "execution_count": 34,
     "metadata": {},
     "output_type": "execute_result"
    }
   ],
   "source": [
    "series_df[series_df['languages'] >= 6][['name', 'startSeriesYear', 'languages']].sort_values('languages', ascending=False)"
   ]
  },
  {
   "cell_type": "markdown",
   "metadata": {},
   "source": [
    "A série com mais línguas registradas na base, 17 línguas, é \"Total Drama: Revenge of the Island\" que é a quarta temporada da franquia \"Total Drama\". É um desenho que faz uma paródia de reality shows.\n",
    "\n",
    "A segunda na lista é \"Cold War\": uma série de documentários televisivos de 24 episódios sobre a Guerra Fria que foi ao ar em 1998. Apresenta várias entrevistas e cenas dos eventos que moldaram as relações tensas entre a União Soviética e os Estados Unidos. O caráter global do evento tratado e o fato de ser um documentário repleto de entrevistas justifica a diversidade linguística da série.\n",
    "\n"
   ]
  },
  {
   "cell_type": "markdown",
   "metadata": {},
   "source": [
    "### Séries ao longo dos anos\n",
    "Vamos analisar o lançamento de séries ao longo dos anos:"
   ]
  },
  {
   "cell_type": "code",
   "execution_count": 35,
   "metadata": {},
   "outputs": [
    {
     "data": {
      "text/plain": [
       "<matplotlib.axes._subplots.AxesSubplot at 0x253c21661d0>"
      ]
     },
     "execution_count": 35,
     "metadata": {},
     "output_type": "execute_result"
    },
    {
     "data": {
      "image/png": "[encoded data removed]",
      "text/plain": [
       "<matplotlib.figure.Figure at 0x253bbca9f60>"
      ]
     },
     "metadata": {},
     "output_type": "display_data"
    }
   ],
   "source": [
    "year_count = series_df.groupby('startSeriesYear')['name'].count()\n",
    "plt.figure(figsize=(15,3))\n",
    "year_count.plot()"
   ]
  },
  {
   "cell_type": "markdown",
   "metadata": {},
   "source": [
    "O gráfico de distribuição de números de séries produzidas ao longo do tempo mostra a forte tendência de aumento na produção de séries."
   ]
  },
  {
   "cell_type": "code",
   "execution_count": 36,
   "metadata": {},
   "outputs": [
    {
     "data": {
      "text/html": [
       "<div>\n",
       "<style scoped>\n",
       "    .dataframe tbody tr th:only-of-type {\n",
       "        vertical-align: middle;\n",
       "    }\n",
       "\n",
       "    .dataframe tbody tr th {\n",
       "        vertical-align: top;\n",
       "    }\n",
       "\n",
       "    .dataframe thead th {\n",
       "        text-align: right;\n",
       "    }\n",
       "</style>\n",
       "<table border=\"1\" class=\"dataframe\">\n",
       "  <thead>\n",
       "    <tr style=\"text-align: right;\">\n",
       "      <th></th>\n",
       "      <th>name</th>\n",
       "      <th>startSeriesYear</th>\n",
       "    </tr>\n",
       "  </thead>\n",
       "  <tbody>\n",
       "    <tr>\n",
       "      <th>146726</th>\n",
       "      <td>Palm Beach Daily News</td>\n",
       "      <td>1897.0</td>\n",
       "    </tr>\n",
       "    <tr>\n",
       "      <th>216280</th>\n",
       "      <td>Top 2000 Short Movies</td>\n",
       "      <td>1902.0</td>\n",
       "    </tr>\n",
       "    <tr>\n",
       "      <th>223717</th>\n",
       "      <td>Urban Legends</td>\n",
       "      <td>1905.0</td>\n",
       "    </tr>\n",
       "    <tr>\n",
       "      <th>78203</th>\n",
       "      <td>Grand Prix Motor Racing</td>\n",
       "      <td>1906.0</td>\n",
       "    </tr>\n",
       "    <tr>\n",
       "      <th>28855</th>\n",
       "      <td>British Pathé News</td>\n",
       "      <td>1910.0</td>\n",
       "    </tr>\n",
       "    <tr>\n",
       "      <th>35327</th>\n",
       "      <td>Charlie Chaplin at Keystone</td>\n",
       "      <td>1914.0</td>\n",
       "    </tr>\n",
       "    <tr>\n",
       "      <th>35326</th>\n",
       "      <td>Charlie Chaplin Show</td>\n",
       "      <td>1914.0</td>\n",
       "    </tr>\n",
       "    <tr>\n",
       "      <th>4836</th>\n",
       "      <td>A Paul Terry Cartoon</td>\n",
       "      <td>1914.0</td>\n",
       "    </tr>\n",
       "    <tr>\n",
       "      <th>99014</th>\n",
       "      <td>Judex</td>\n",
       "      <td>1916.0</td>\n",
       "    </tr>\n",
       "    <tr>\n",
       "      <th>70642</th>\n",
       "      <td>FoxyTv</td>\n",
       "      <td>1916.0</td>\n",
       "    </tr>\n",
       "  </tbody>\n",
       "</table>\n",
       "</div>"
      ],
      "text/plain": [
       "                               name  startSeriesYear\n",
       "146726        Palm Beach Daily News           1897.0\n",
       "216280        Top 2000 Short Movies           1902.0\n",
       "223717                Urban Legends           1905.0\n",
       "78203       Grand Prix Motor Racing           1906.0\n",
       "28855            British Pathé News           1910.0\n",
       "35327   Charlie Chaplin at Keystone           1914.0\n",
       "35326          Charlie Chaplin Show           1914.0\n",
       "4836           A Paul Terry Cartoon           1914.0\n",
       "99014                         Judex           1916.0\n",
       "70642                        FoxyTv           1916.0"
      ]
     },
     "execution_count": 36,
     "metadata": {},
     "output_type": "execute_result"
    }
   ],
   "source": [
    "series_df[['name', 'startSeriesYear']].sort_values('startSeriesYear').head(10)"
   ]
  },
  {
   "cell_type": "markdown",
   "metadata": {},
   "source": [
    "Analisando a lista de séries mais antigas (de 1897 a 1916) vemos programas diários, shows do Charlie Chaplin e um seriado francês (Judex)."
   ]
  },
  {
   "cell_type": "markdown",
   "metadata": {},
   "source": [
    "### Verificação de colunas categóricas"
   ]
  },
  {
   "cell_type": "markdown",
   "metadata": {},
   "source": [
    "Analisaremos os atributos status, type, titleType e isAdult"
   ]
  },
  {
   "cell_type": "code",
   "execution_count": 37,
   "metadata": {},
   "outputs": [
    {
     "data": {
      "text/plain": [
       "Ended               61072\n",
       "Returning Series    20345\n",
       "Canceled             1104\n",
       "In Production         480\n",
       "Pilot                  85\n",
       "Name: status, dtype: int64"
      ]
     },
     "execution_count": 37,
     "metadata": {},
     "output_type": "execute_result"
    }
   ],
   "source": [
    "series_df['status'].value_counts()"
   ]
  },
  {
   "cell_type": "code",
   "execution_count": 38,
   "metadata": {},
   "outputs": [
    {
     "data": {
      "text/plain": [
       "Scripted       72901\n",
       "Miniseries      3544\n",
       "Documentary     2977\n",
       "Reality         2577\n",
       "Talk Show        787\n",
       "News             151\n",
       "Video            149\n",
       "Name: type, dtype: int64"
      ]
     },
     "execution_count": 38,
     "metadata": {},
     "output_type": "execute_result"
    }
   ],
   "source": [
    "series_df['type'].value_counts()"
   ]
  },
  {
   "cell_type": "code",
   "execution_count": 39,
   "metadata": {},
   "outputs": [
    {
     "data": {
      "text/plain": [
       "tvSeries        165839\n",
       "tvMiniSeries     26404\n",
       "Name: titleType, dtype: int64"
      ]
     },
     "execution_count": 39,
     "metadata": {},
     "output_type": "execute_result"
    }
   ],
   "source": [
    "series_df['titleType'].value_counts()"
   ]
  },
  {
   "cell_type": "code",
   "execution_count": 40,
   "metadata": {},
   "outputs": [
    {
     "data": {
      "text/plain": [
       "0.0    191260\n",
       "1.0       983\n",
       "Name: isAdult, dtype: int64"
      ]
     },
     "execution_count": 40,
     "metadata": {},
     "output_type": "execute_result"
    }
   ],
   "source": [
    "series_df['isAdult'].value_counts()"
   ]
  },
  {
   "cell_type": "markdown",
   "metadata": {},
   "source": [
    "Observando a distribuição das séries em relação a esses atributos, é possível notar que:\n",
    "\n",
    "- Seguindo raciocínio lógico, temos mais séries finalizadas do que em andamento.\n",
    "- Em relação ao tipo temos uma forte presença das séries roteirizadas, que contam uma história ao longo de temporadas que vão sendo desenvolvidas ao longo do tempo. Em seguida, séries no formato mini-série, com início e fim pré-determinados. Depois séries de \"reality\" - shows de tv que têm suas temporadas, mas que não contam histórias. Temos também documentários, talk shows, news e video.\n",
    "\n",
    "As colunas isAdult e titleType, provenientes do IMDB, apresentam 79.40% de preenchimento. Já type e status, provenientes do TMDB, apresentam 34.32% de preenchimento. Para futuras análises em que aplicaremos classificadores, vamos:\n",
    "preencher os valores nulos das colunas type, titleType e status com o valor 'unknown'\n",
    "excluir o atributo isAdult, pois este se mostra irrelevante para a análise em questão.\n"
   ]
  },
  {
   "cell_type": "code",
   "execution_count": 41,
   "metadata": {},
   "outputs": [
    {
     "name": "stdout",
     "output_type": "stream",
     "text": [
      "             column_name  missing_count  filling_factor\n",
      "1               homepage         219691        9.252344\n",
      "10           poster_path         206284       14.790367\n",
      "8               overview         192102       20.648519\n",
      "15        startMonthTMDB         189624       21.672105\n",
      "6         origin_country         186068       23.140981\n",
      "7      original_language         159004       34.320294\n",
      "19         endSeriesYear         150111       37.993721\n",
      "20       startSeriesYear          34836       85.610310\n",
      "21  episodeRuntimeSeries              0      100.000000\n",
      "22                 ehBBC              0      100.000000\n",
      "23              ehWarner              0      100.000000\n",
      "24           ehUniversal              0      100.000000\n",
      "0             Unnamed: 0              0      100.000000\n",
      "26           ehJohnDeMol              0      100.000000\n",
      "28                 ehABC              0      100.000000\n",
      "29                 ehNBC              0      100.000000\n",
      "30             ehYouTube              0      100.000000\n",
      "31             ehComedia              0      100.000000\n",
      "25             ehABS_CBN              0      100.000000\n",
      "27         ehSimonFuller              0      100.000000\n",
      "16             titleType              0      100.000000\n",
      "17     averageRatingIMDB              0      100.000000\n",
      "32               ehDrama              0      100.000000\n",
      "14          numVotesTMDB              0      100.000000\n",
      "13     averageRatingTMDB              0      100.000000\n",
      "12                  type              0      100.000000\n",
      "11                status              0      100.000000\n",
      "9             popularity              0      100.000000\n",
      "5      number_of_seasons              0      100.000000\n",
      "4     number_of_episodes              0      100.000000\n",
      "3                   name              0      100.000000\n",
      "2              languages              0      100.000000\n",
      "18          numVotesIMDB              0      100.000000\n",
      "33        ehDocumentario              0      100.000000\n"
     ]
    }
   ],
   "source": [
    "series_df['titleType'] = series_df['titleType'].fillna('unknown')\n",
    "series_df['status'] = series_df['status'].fillna('unknown')\n",
    "series_df['type'] = series_df['type'].fillna('unknown')\n",
    "series_df = series_df.drop('isAdult', axis=1)\n",
    "\n",
    "\n",
    "missingValuesSnapshot(series_df)"
   ]
  },
  {
   "cell_type": "markdown",
   "metadata": {},
   "source": [
    "\n",
    "### Língua original\n",
    "\n",
    "Vamos verificar a diversidade de línguas das séries na base do TMDB e a preponderância do inglês. \n"
   ]
  },
  {
   "cell_type": "code",
   "execution_count": 42,
   "metadata": {},
   "outputs": [
    {
     "data": {
      "text/plain": [
       "88"
      ]
     },
     "execution_count": 42,
     "metadata": {},
     "output_type": "execute_result"
    }
   ],
   "source": [
    "series_df['original_language'].drop_duplicates().shape[0]"
   ]
  },
  {
   "cell_type": "code",
   "execution_count": 43,
   "metadata": {},
   "outputs": [
    {
     "data": {
      "text/html": [
       "<div>\n",
       "<style scoped>\n",
       "    .dataframe tbody tr th:only-of-type {\n",
       "        vertical-align: middle;\n",
       "    }\n",
       "\n",
       "    .dataframe tbody tr th {\n",
       "        vertical-align: top;\n",
       "    }\n",
       "\n",
       "    .dataframe thead th {\n",
       "        text-align: right;\n",
       "    }\n",
       "</style>\n",
       "<table border=\"1\" class=\"dataframe\">\n",
       "  <thead>\n",
       "    <tr style=\"text-align: right;\">\n",
       "      <th></th>\n",
       "      <th>number</th>\n",
       "      <th>language</th>\n",
       "    </tr>\n",
       "  </thead>\n",
       "  <tbody>\n",
       "    <tr>\n",
       "      <th>en</th>\n",
       "      <td>59879</td>\n",
       "      <td>en</td>\n",
       "    </tr>\n",
       "    <tr>\n",
       "      <th>ja</th>\n",
       "      <td>4785</td>\n",
       "      <td>ja</td>\n",
       "    </tr>\n",
       "    <tr>\n",
       "      <th>de</th>\n",
       "      <td>2852</td>\n",
       "      <td>de</td>\n",
       "    </tr>\n",
       "    <tr>\n",
       "      <th>fr</th>\n",
       "      <td>2240</td>\n",
       "      <td>fr</td>\n",
       "    </tr>\n",
       "    <tr>\n",
       "      <th>es</th>\n",
       "      <td>1853</td>\n",
       "      <td>es</td>\n",
       "    </tr>\n",
       "  </tbody>\n",
       "</table>\n",
       "</div>"
      ],
      "text/plain": [
       "    number language\n",
       "en   59879       en\n",
       "ja    4785       ja\n",
       "de    2852       de\n",
       "fr    2240       fr\n",
       "es    1853       es"
      ]
     },
     "execution_count": 43,
     "metadata": {},
     "output_type": "execute_result"
    }
   ],
   "source": [
    "lang_df = pd.DataFrame(series_df['original_language'].value_counts())\n",
    "lang_df['language'] = lang_df.index\n",
    "lang_df.columns = ['number', 'language']\n",
    "lang_df.head()"
   ]
  },
  {
   "cell_type": "markdown",
   "metadata": {},
   "source": [
    "Existem 88 línguas de origem diferentes no dataset. Como esperado, o inglês é fortemente dominante. O japonês assume a segunda posição."
   ]
  },
  {
   "cell_type": "markdown",
   "metadata": {},
   "source": [
    "Gráfico abaixo excluindo o inglês para poder perceber melhor a diferença de incidência entre as outras linguagens."
   ]
  },
  {
   "cell_type": "code",
   "execution_count": 44,
   "metadata": {},
   "outputs": [
    {
     "data": {
      "image/png": "[encoded data removed]",
      "text/plain": [
       "<matplotlib.figure.Figure at 0x253f4fdde80>"
      ]
     },
     "metadata": {},
     "output_type": "display_data"
    }
   ],
   "source": [
    "plt.figure(figsize=(12,5))\n",
    "sns.barplot(x='language', y='number', data=lang_df.iloc[1:15])\n",
    "plt.show()"
   ]
  },
  {
   "cell_type": "markdown",
   "metadata": {},
   "source": [
    "O número de séries japonesas realmente é preponderante (desconsiderando o inglês). Vemos dentre alguns exemplos dessas séries japonesas, séries de desenho e super-heróis:"
   ]
  },
  {
   "cell_type": "code",
   "execution_count": 45,
   "metadata": {},
   "outputs": [
    {
     "data": {
      "text/html": [
       "<div>\n",
       "<style scoped>\n",
       "    .dataframe tbody tr th:only-of-type {\n",
       "        vertical-align: middle;\n",
       "    }\n",
       "\n",
       "    .dataframe tbody tr th {\n",
       "        vertical-align: top;\n",
       "    }\n",
       "\n",
       "    .dataframe thead th {\n",
       "        text-align: right;\n",
       "    }\n",
       "</style>\n",
       "<table border=\"1\" class=\"dataframe\">\n",
       "  <thead>\n",
       "    <tr style=\"text-align: right;\">\n",
       "      <th></th>\n",
       "      <th>name</th>\n",
       "      <th>startSeriesYear</th>\n",
       "    </tr>\n",
       "  </thead>\n",
       "  <tbody>\n",
       "    <tr>\n",
       "      <th>136057</th>\n",
       "      <td>National Kid</td>\n",
       "      <td>1960.0</td>\n",
       "    </tr>\n",
       "    <tr>\n",
       "      <th>143947</th>\n",
       "      <td>Onmitsu kenshi</td>\n",
       "      <td>1962.0</td>\n",
       "    </tr>\n",
       "    <tr>\n",
       "      <th>142461</th>\n",
       "      <td>Okami shônen Ken</td>\n",
       "      <td>1963.0</td>\n",
       "    </tr>\n",
       "    <tr>\n",
       "      <th>238004</th>\n",
       "      <td>Zero-sen Hayato</td>\n",
       "      <td>1964.0</td>\n",
       "    </tr>\n",
       "    <tr>\n",
       "      <th>223837</th>\n",
       "      <td>Urutora Q</td>\n",
       "      <td>1965.0</td>\n",
       "    </tr>\n",
       "    <tr>\n",
       "      <th>89297</th>\n",
       "      <td>Hustle Punch</td>\n",
       "      <td>1965.0</td>\n",
       "    </tr>\n",
       "    <tr>\n",
       "      <th>221222</th>\n",
       "      <td>Ultraman: A Special Effects Fantasy Series</td>\n",
       "      <td>1966.0</td>\n",
       "    </tr>\n",
       "    <tr>\n",
       "      <th>237942</th>\n",
       "      <td>Zenigeta heiji</td>\n",
       "      <td>1966.0</td>\n",
       "    </tr>\n",
       "    <tr>\n",
       "      <th>241934</th>\n",
       "      <td>魔法使いサリー</td>\n",
       "      <td>1966.0</td>\n",
       "    </tr>\n",
       "    <tr>\n",
       "      <th>103444</th>\n",
       "      <td>Kimba the White Lion</td>\n",
       "      <td>1966.0</td>\n",
       "    </tr>\n",
       "  </tbody>\n",
       "</table>\n",
       "</div>"
      ],
      "text/plain": [
       "                                              name  startSeriesYear\n",
       "136057                                National Kid           1960.0\n",
       "143947                              Onmitsu kenshi           1962.0\n",
       "142461                            Okami shônen Ken           1963.0\n",
       "238004                             Zero-sen Hayato           1964.0\n",
       "223837                                   Urutora Q           1965.0\n",
       "89297                                 Hustle Punch           1965.0\n",
       "221222  Ultraman: A Special Effects Fantasy Series           1966.0\n",
       "237942                              Zenigeta heiji           1966.0\n",
       "241934                                     魔法使いサリー           1966.0\n",
       "103444                        Kimba the White Lion           1966.0"
      ]
     },
     "execution_count": 45,
     "metadata": {},
     "output_type": "execute_result"
    }
   ],
   "source": [
    "series_df[series_df['original_language']== 'ja'][['name', 'startSeriesYear']].sort_values('startSeriesYear').head(10)"
   ]
  },
  {
   "cell_type": "markdown",
   "metadata": {},
   "source": [
    "### Análise das bases de premiações\n",
    "\n",
    "As bases do EMMY e do Golden Globe foram tratadas de forma a apresentar a mesma estrutura com os campos: year, category, winner e seriesName."
   ]
  },
  {
   "cell_type": "markdown",
   "metadata": {},
   "source": [
    "#### Número de categorias ao longo dos anos\n",
    "Ambas as premiações apresentam diversas categorias de premiação. Vamos verificar como a quantidade de categorias diferentes variou ao longo dos anos. Lembrando que as bases aqui trabalhadas podem apresentar categorias além das destinadas somente à séries:"
   ]
  },
  {
   "cell_type": "code",
   "execution_count": 46,
   "metadata": {
    "scrolled": false
   },
   "outputs": [
    {
     "data": {
      "image/png": "[encoded data removed]",
      "text/plain": [
       "<matplotlib.figure.Figure at 0x253f49cf4e0>"
      ]
     },
     "metadata": {},
     "output_type": "display_data"
    }
   ],
   "source": [
    "def showCategoriesOverTheYears(df):\n",
    "    df  = df.groupby('year').category.nunique().to_frame(name = 'num_categories').reset_index()\n",
    "    plt.figure(figsize=(20,7))\n",
    "    chart = sns.barplot(x='year', y='num_categories', data=df)\n",
    "    chart.set_xticklabels(chart.get_xticklabels(), rotation=45)\n",
    "    plt.show()\n",
    "\n",
    "showCategoriesOverTheYears(emmy_df)\n"
   ]
  },
  {
   "cell_type": "code",
   "execution_count": 47,
   "metadata": {},
   "outputs": [
    {
     "data": {
      "image/png": "[encoded data removed]",
      "text/plain": [
       "<matplotlib.figure.Figure at 0x253b2899208>"
      ]
     },
     "metadata": {},
     "output_type": "display_data"
    }
   ],
   "source": [
    "showCategoriesOverTheYears(gg_df)"
   ]
  },
  {
   "cell_type": "markdown",
   "metadata": {},
   "source": [
    "Vemos que o Emmy apresenta um número máximo de categorias bem maior, quase 4 vezes maior, que o Golden Globe. Além disso:\n",
    "- para o dataset do EMMY: as categorias aparecem desde o ano de 1949 até o ano de 2017 e, apesar de variarem consideravelmente em alguns anos, apresentam tendência de crescimento. 1965 é um ano que se destaca com o menor número de categorias. Pesquisando, encontramos a informação que nesse ano a estrutura da cerimônia bem diferente dos anos anteriores. As categorias foram simplificadas para que houvesse apenas quatro categorias principais (o ano anterior tinha 20 categorias principais). Como resultado, apenas cinco shows ganharam um prêmio. O novo formato foi descartado, e no ano seguinte o Emmy voltou ao formato tradicional.\n",
    "- para o dataset do Golden Globe: as categorias aparecem no intervalo desde o ano de 1944 até o ano de 2011. Regra geral a tendência também é de crescimento do número de categorias mas com intervalos de estabilização.\n"
   ]
  },
  {
   "cell_type": "markdown",
   "metadata": {},
   "source": [
    "#### Obtendo número de nomeações e prêmios por série"
   ]
  },
  {
   "cell_type": "code",
   "execution_count": 48,
   "metadata": {},
   "outputs": [
    {
     "name": "stdout",
     "output_type": "stream",
     "text": [
      "Mais premiados: \n",
      "     seriesName  nominees  prizes\n",
      "2745    Frasier       103      37\n",
      "Mais nomeados: \n",
      "               seriesName  nominees  prizes\n",
      "1248  Saturday Night Live       131      27\n",
      "Mais premiados: \n",
      "                  seriesName  nominees  prizes\n",
      "2032                 M*a*S*H        26       9\n",
      "2341  The Carol Burnett Show        29       9\n",
      "Mais nomeados: \n",
      "     seriesName  nominees  prizes\n",
      "1339     Cheers        32       6\n"
     ]
    }
   ],
   "source": [
    "#Agrupar por nome da série para obter em um mesmo dataframe o número de nomeações e de premiações de uma série \n",
    "#no EMMY e no GG.\n",
    "\n",
    "def groupBySeriesNomineesAndPrizes(df):\n",
    "    # agrupa pelo nome da série\n",
    "    grp = df.groupby('seriesName', sort=False)\n",
    "    prizes_df = pd.DataFrame({'prizes': grp['winner'].sum(),\n",
    "                               'nominees':  grp.size()}).reset_index()\n",
    "    print(\"Mais premiados: \")\n",
    "    print(prizes_df[prizes_df.prizes == prizes_df.prizes.max()])\n",
    "    print(\"Mais nomeados: \")\n",
    "    print(prizes_df[prizes_df.nominees == prizes_df.nominees.max()])\n",
    "    return prizes_df\n",
    "\n",
    "prizes_nominees_emmy = groupBySeriesNomineesAndPrizes(emmy_df)\n",
    "prizes_nominees_gg = groupBySeriesNomineesAndPrizes(gg_df)\n",
    "\n"
   ]
  },
  {
   "cell_type": "markdown",
   "metadata": {},
   "source": [
    "Vamos agora fazer a junção dos datasets de premiação:"
   ]
  },
  {
   "cell_type": "code",
   "execution_count": 49,
   "metadata": {},
   "outputs": [
    {
     "name": "stdout",
     "output_type": "stream",
     "text": [
      "Mais premiados em ambas as premiações: \n",
      "      Unnamed: 0 seriesName  nominees_EMMY  prizes_EMMY  nominees_GG  \\\n",
      "2746        2746    Frasier          103.0         37.0         24.0   \n",
      "\n",
      "      prizes_GG  total_nominees  total_prizes  \n",
      "2746        2.0           127.0          39.0  \n",
      "Mais nomeados em ambos as nomeações: \n",
      "      Unnamed: 0           seriesName  nominees_EMMY  prizes_EMMY  \\\n",
      "1249        1249  Saturday Night Live          131.0         27.0   \n",
      "\n",
      "      nominees_GG  prizes_GG  total_nominees  total_prizes  \n",
      "1249          0.0        0.0           131.0          27.0  \n"
     ]
    }
   ],
   "source": [
    "# o merge já foi gerado no notebook 5\n",
    "prizes_nominees_path = '../bases_tratadas/prizes_nominees_df.csv';\n",
    "prizes_nominees_df =pd.read_csv(prizes_nominees_path)\n",
    "\n",
    "print(\"Mais premiados em ambas as premiações: \")\n",
    "print(prizes_nominees_df[prizes_nominees_df.total_prizes == prizes_nominees_df.total_prizes.max()])\n",
    "print(\"Mais nomeados em ambos as nomeações: \")\n",
    "print(prizes_nominees_df[prizes_nominees_df.total_nominees == prizes_nominees_df.total_nominees.max()])\n",
    "\n"
   ]
  },
  {
   "cell_type": "markdown",
   "metadata": {},
   "source": [
    "## Junção de dataset agrupado de premiações por série com dataset de séries\n",
    "\n",
    "Com essa junção estamos restringindo os registros de nomeação e de premiações a séries que existam na base construída a partir do TMDB e IMDB."
   ]
  },
  {
   "cell_type": "code",
   "execution_count": 50,
   "metadata": {},
   "outputs": [
    {
     "name": "stdout",
     "output_type": "stream",
     "text": [
      "Número de séries com nomeação ou prêmio - data frames EMMY e GG: 10563\n",
      "Número de séries no arquivo de séries: 242090\n",
      "Número de séries com nomeação ou prêmio no dataframe final - JOINED: \n",
      "3731\n"
     ]
    }
   ],
   "source": [
    "series_prizes_nominees_df =  pd.merge(series_df, prizes_nominees_df, how='left', left_on=['name'],\n",
    "                                    right_on =['seriesName'])\n",
    "\n",
    "\n",
    "print(\"Número de séries com nomeação ou prêmio - data frames EMMY e GG: \" + str(len(prizes_nominees_df)))\n",
    "print(\"Número de séries no arquivo de séries: \" + str(len(series_df)))\n",
    "\n",
    "print(\"Número de séries com nomeação ou prêmio no dataframe final - JOINED: \")\n",
    "print(str(len(series_prizes_nominees_df.loc[series_prizes_nominees_df['total_nominees'].notnull()])))"
   ]
  },
  {
   "cell_type": "markdown",
   "metadata": {},
   "source": [
    "Como a junção das bases foi feita com base no valor exato do nome da série, podemos ter perdido algumas combinações de registros. No entanto vamos optar por trabalhar com esses registros de cuja combinação temos maior certeza. Vamos salvar a base para posterior trabalho de classificação:"
   ]
  },
  {
   "cell_type": "code",
   "execution_count": 51,
   "metadata": {},
   "outputs": [],
   "source": [
    "series_prizes_nominees_df.to_csv('../bases_tratadas/series_prizes_nominees_df.csv')\n"
   ]
  },
  {
   "cell_type": "code",
   "execution_count": 52,
   "metadata": {},
   "outputs": [
    {
     "name": "stdout",
     "output_type": "stream",
     "text": [
      "             column_name  missing_count  filling_factor\n",
      "41          total_prizes         238359        1.541162\n",
      "39             prizes_GG         238359        1.541162\n",
      "38           nominees_GG         238359        1.541162\n",
      "37           prizes_EMMY         238359        1.541162\n",
      "36         nominees_EMMY         238359        1.541162\n",
      "35            seriesName         238359        1.541162\n",
      "34          Unnamed: 0_y         238359        1.541162\n",
      "40        total_nominees         238359        1.541162\n",
      "1               homepage         219691        9.252344\n",
      "10           poster_path         206284       14.790367\n",
      "8               overview         192102       20.648519\n",
      "15        startMonthTMDB         189624       21.672105\n",
      "6         origin_country         186068       23.140981\n",
      "7      original_language         159004       34.320294\n",
      "19         endSeriesYear         150111       37.993721\n",
      "20       startSeriesYear          34836       85.610310\n",
      "16             titleType              0      100.000000\n",
      "2              languages              0      100.000000\n",
      "3                   name              0      100.000000\n",
      "4     number_of_episodes              0      100.000000\n",
      "5      number_of_seasons              0      100.000000\n",
      "9             popularity              0      100.000000\n",
      "11                status              0      100.000000\n",
      "33        ehDocumentario              0      100.000000\n",
      "32               ehDrama              0      100.000000\n",
      "31             ehComedia              0      100.000000\n",
      "30             ehYouTube              0      100.000000\n",
      "29                 ehNBC              0      100.000000\n",
      "28                 ehABC              0      100.000000\n",
      "27         ehSimonFuller              0      100.000000\n",
      "26           ehJohnDeMol              0      100.000000\n",
      "25             ehABS_CBN              0      100.000000\n",
      "24           ehUniversal              0      100.000000\n",
      "23              ehWarner              0      100.000000\n",
      "22                 ehBBC              0      100.000000\n",
      "21  episodeRuntimeSeries              0      100.000000\n",
      "12                  type              0      100.000000\n",
      "13     averageRatingTMDB              0      100.000000\n",
      "18          numVotesIMDB              0      100.000000\n",
      "17     averageRatingIMDB              0      100.000000\n",
      "14          numVotesTMDB              0      100.000000\n",
      "0           Unnamed: 0_x              0      100.000000\n"
     ]
    }
   ],
   "source": [
    "missingValuesSnapshot(series_prizes_nominees_df)"
   ]
  },
  {
   "cell_type": "markdown",
   "metadata": {},
   "source": [
    "### Análise dos nomes das séries nas diferentes bases\n",
    "\n",
    "Será analisada a nuvem de palavras que ilustra a recorrência de termos nos títulos das séries em geral e das séries que tiveram nomeações, no EMMY e no GOLDEN GLOBE."
   ]
  },
  {
   "cell_type": "code",
   "execution_count": 53,
   "metadata": {},
   "outputs": [
    {
     "data": {
      "image/png": "[encoded data removed]",
      "text/plain": [
       "<matplotlib.figure.Figure at 0x253c0d196a0>"
      ]
     },
     "metadata": {},
     "output_type": "display_data"
    }
   ],
   "source": [
    "def wordCloudOfAColumn(df, columnName):\n",
    "    df[columnName] = df[columnName].astype('str')\n",
    "    corpus = ' '.join(df[columnName])\n",
    "    title_wordcloud = WordCloud(stopwords=STOPWORDS, background_color='white', height=2000, width=4000).generate(corpus)\n",
    "    plt.figure(figsize=(16,8))\n",
    "    plt.imshow(title_wordcloud)\n",
    "    plt.axis('off')\n",
    "    plt.show()\n",
    "\n",
    "\n",
    "#Título geral\n",
    "wordCloudOfAColumn(series_prizes_nominees_df, 'name')\n"
   ]
  },
  {
   "cell_type": "code",
   "execution_count": 57,
   "metadata": {},
   "outputs": [
    {
     "name": "stderr",
     "output_type": "stream",
     "text": [
      "C:\\Users\\babut\\Anaconda3\\lib\\site-packages\\ipykernel_launcher.py:2: SettingWithCopyWarning: \n",
      "A value is trying to be set on a copy of a slice from a DataFrame.\n",
      "Try using .loc[row_indexer,col_indexer] = value instead\n",
      "\n",
      "See the caveats in the documentation: http://pandas.pydata.org/pandas-docs/stable/indexing.html#indexing-view-versus-copy\n",
      "  \n"
     ]
    },
    {
     "data": {
      "image/png": "[encoded data removed]",
      "text/plain": [
       "<matplotlib.figure.Figure at 0x253ba440b38>"
      ]
     },
     "metadata": {},
     "output_type": "display_data"
    }
   ],
   "source": [
    "#Título No EMMY ou Golden Globe que não seja nulo\n",
    "df_tmp = series_prizes_nominees_df[pd.notnull(series_prizes_nominees_df.seriesName)]\n",
    "#print(df_tmp)\n",
    "wordCloudOfAColumn(df_tmp, 'seriesName')\n",
    "\n"
   ]
  },
  {
   "cell_type": "markdown",
   "metadata": {},
   "source": [
    "A nuvem de palavras de séries em geral mostra termos bem recorrentes nos nomes de programas de tv (TV, Show, Live, Life, Love, New, World, etc). Já nuvem de palavras de séries que foram pelo menos nomeadas ao Emmy ou ao Golden Globe também apresenta algumas dessas palavras em destaque (Show, World) mas apresenta forte recorrência nas palavras (American, Family, Special, War). Tais palavras estão presentes em títulos de séries nomeados nos eventos Emmy e Golden Globe. Nessa nuvem também é possível ler títulos inteiros de séries, como “Sherlock Holmes”."
   ]
  },
  {
   "cell_type": "code",
   "execution_count": null,
   "metadata": {},
   "outputs": [],
   "source": []
  }
 ],
 "metadata": {
  "kernelspec": {
   "display_name": "Python 3",
   "language": "python",
   "name": "python3"
  },
  "language_info": {
   "codemirror_mode": {
    "name": "ipython",
    "version": 3
   },
   "file_extension": ".py",
   "mimetype": "text/x-python",
   "name": "python",
   "nbconvert_exporter": "python",
   "pygments_lexer": "ipython3",
   "version": "3.8.2"
  }
 },
 "nbformat": 4,
 "nbformat_minor": 2
}
