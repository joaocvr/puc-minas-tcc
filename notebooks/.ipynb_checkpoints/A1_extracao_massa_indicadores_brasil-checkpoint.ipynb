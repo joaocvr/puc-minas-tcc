{
 "cells": [
  {
   "cell_type": "markdown",
   "metadata": {},
   "source": [
    "# Auxiliar 1: Encontrar identificadores com maior frequência de valores preenchidos para o Brasil, entre 1998 a 2013."
   ]
  },
  {
   "cell_type": "markdown",
   "metadata": {},
   "source": [
    "## 1. Importando libs"
   ]
  },
  {
   "cell_type": "code",
   "execution_count": 14,
   "metadata": {},
   "outputs": [],
   "source": [
    "import pandas as pd\n",
    "import zipfile\n",
    "import numpy as np"
   ]
  },
  {
   "cell_type": "markdown",
   "metadata": {},
   "source": [
    "## 2. Carregando o dataframe com todos os dados de todos os países e da faixa temporal de anos."
   ]
  },
  {
   "cell_type": "code",
   "execution_count": 16,
   "metadata": {},
   "outputs": [
    {
     "name": "stdout",
     "output_type": "stream",
     "text": [
      "Abrindo o arquivo EdStatsData.csv\n",
      "Arquivo 'EdStatsData.csv' carregado com sucesso.\n"
     ]
    }
   ],
   "source": [
    "zf = zipfile.ZipFile('../data/Edstats_csv.zip')\n",
    "text_files = zf.infolist()\n",
    "df_todos_paises = pd.DataFrame()\n",
    "for csv_file in text_files:        \n",
    "    if csv_file.filename == 'EdStatsData.csv':\n",
    "        print(\"Abrindo o arquivo\",csv_file.filename)\n",
    "        df_todos_paises = pd.read_csv(zf.open(csv_file.filename))\n",
    "        break\n",
    "\n",
    "if df_todos_paises.empty:\n",
    "    exit(\"Erro ao ler o arquivo 'EdStatsData.csv' que fica dentro do 'Edstats_csv.zip' na pasta 'data'.\")\n",
    "else:\n",
    "    print(\"Arquivo 'EdStatsData.csv' carregado com sucesso.\")"
   ]
  },
  {
   "cell_type": "markdown",
   "metadata": {},
   "source": [
    "## 3. Separando dados referentes ao Brasil.\n",
    "O Brasil será o país selecionado, no trabalho de conclusão de curso, como referência para comparações, análises e previsões. Logo, é pertinente que uma faixa temporal seja escolhida de acordo com os seus dados."
   ]
  },
  {
   "cell_type": "code",
   "execution_count": 61,
   "metadata": {},
   "outputs": [],
   "source": [
    "df_brasil = df_todos_paises.loc[df_todos_paises['Country Name'].isin(['Brazil'])]\n",
    "\n",
    "df_todos_paises_lista_colunas = df_brasil.columns.tolist()\n",
    "ultima_coluna_lixo_massa = df_todos_paises_lista_colunas[len(df_todos_paises_lista_colunas)-1]\n",
    "df_brasil = df_brasil.drop([ultima_coluna_lixo_massa], axis=1)\n",
    "\n",
    "df_brasil.index = range(df_brasil.shape[0])"
   ]
  },
  {
   "cell_type": "markdown",
   "metadata": {},
   "source": [
    "## 4. Selecionar as linhas referentes aos anos de 1998 a 2013 e encontrar os indicadores com mais de 60% de taxa de preenchimento."
   ]
  },
  {
   "cell_type": "code",
   "execution_count": 80,
   "metadata": {
    "scrolled": true
   },
   "outputs": [
    {
     "data": {
      "text/html": [
       "<div>\n",
       "<style scoped>\n",
       "    .dataframe tbody tr th:only-of-type {\n",
       "        vertical-align: middle;\n",
       "    }\n",
       "\n",
       "    .dataframe tbody tr th {\n",
       "        vertical-align: top;\n",
       "    }\n",
       "\n",
       "    .dataframe thead th {\n",
       "        text-align: right;\n",
       "    }\n",
       "</style>\n",
       "<table border=\"1\" class=\"dataframe\">\n",
       "  <thead>\n",
       "    <tr style=\"text-align: right;\">\n",
       "      <th></th>\n",
       "      <th>Indicador</th>\n",
       "    </tr>\n",
       "  </thead>\n",
       "  <tbody>\n",
       "    <tr>\n",
       "      <th>0</th>\n",
       "      <td>Adjusted net enrolment rate, primary, both sex...</td>\n",
       "    </tr>\n",
       "    <tr>\n",
       "      <th>1</th>\n",
       "      <td>Adjusted net intake rate to Grade 1 of primary...</td>\n",
       "    </tr>\n",
       "    <tr>\n",
       "      <th>2</th>\n",
       "      <td>Adult illiterate population, 15+ years, both s...</td>\n",
       "    </tr>\n",
       "    <tr>\n",
       "      <th>3</th>\n",
       "      <td>Adult illiterate population, 15+ years, female...</td>\n",
       "    </tr>\n",
       "    <tr>\n",
       "      <th>4</th>\n",
       "      <td>Adult illiterate population, 15+ years, male (...</td>\n",
       "    </tr>\n",
       "    <tr>\n",
       "      <th>...</th>\n",
       "      <td>...</td>\n",
       "    </tr>\n",
       "    <tr>\n",
       "      <th>589</th>\n",
       "      <td>Youth illiterate population, 15-24 years, fema...</td>\n",
       "    </tr>\n",
       "    <tr>\n",
       "      <th>590</th>\n",
       "      <td>Youth illiterate population, 15-24 years, male...</td>\n",
       "    </tr>\n",
       "    <tr>\n",
       "      <th>591</th>\n",
       "      <td>Youth literacy rate, population 15-24 years, b...</td>\n",
       "    </tr>\n",
       "    <tr>\n",
       "      <th>592</th>\n",
       "      <td>Youth literacy rate, population 15-24 years, f...</td>\n",
       "    </tr>\n",
       "    <tr>\n",
       "      <th>593</th>\n",
       "      <td>Youth literacy rate, population 15-24 years, m...</td>\n",
       "    </tr>\n",
       "  </tbody>\n",
       "</table>\n",
       "<p>594 rows × 1 columns</p>\n",
       "</div>"
      ],
      "text/plain": [
       "                                             Indicador\n",
       "0    Adjusted net enrolment rate, primary, both sex...\n",
       "1    Adjusted net intake rate to Grade 1 of primary...\n",
       "2    Adult illiterate population, 15+ years, both s...\n",
       "3    Adult illiterate population, 15+ years, female...\n",
       "4    Adult illiterate population, 15+ years, male (...\n",
       "..                                                 ...\n",
       "589  Youth illiterate population, 15-24 years, fema...\n",
       "590  Youth illiterate population, 15-24 years, male...\n",
       "591  Youth literacy rate, population 15-24 years, b...\n",
       "592  Youth literacy rate, population 15-24 years, f...\n",
       "593  Youth literacy rate, population 15-24 years, m...\n",
       "\n",
       "[594 rows x 1 columns]"
      ]
     },
     "execution_count": 80,
     "metadata": {},
     "output_type": "execute_result"
    }
   ],
   "source": [
    "for c in df_brasil.columns:\n",
    "    if(df_brasil[c].dtype == np.float64):\n",
    "        coluna_numerica = pd.to_numeric(df_brasil[c].name, errors='coerce')\n",
    "        \n",
    "        if(coluna_numerica < 1998 or coluna_numerica > 2013):\n",
    "            del df_brasil[str(coluna_numerica)]\n",
    "\n",
    "df_brasil = df_brasil.fillna(0)\n",
    "\n",
    "df_brasil = df_brasil.round({'1998':2, '1999':2, '2000':2, '2000':2, '2001':2, '2002':2,\n",
    "                             '2003':2, '2004':2, '2005':2, '2006':2, '2007':2, '2008':2,\n",
    "                             '2009':2, '2010':2, '2011':2, '2012':2, '2013':2})\n",
    "\n",
    "df_massa_selecionada = df_brasil.drop(['Country Code', 'Country Name', 'Indicator Code'], axis = 1)\n",
    "\n",
    "indicadores_relevantes = []\n",
    "for indicador in df_massa_selecionada['Indicator Name']:\n",
    "    df_por_indicador = df_massa_selecionada.loc[df_massa_selecionada['Indicator Name'] == indicador]\n",
    "    df_por_indicador = df_por_indicador.drop(['Indicator Name'], axis = 1)\n",
    "    media_valores = df_por_indicador.iloc[0].mean()    \n",
    "    if media_valores >= 60:\n",
    "        indicadores_relevantes.append(indicador + ';' + str(qtd_zeros))\n",
    "\n",
    "df_indicadores_relevantes = pd.DataFrame(indicadores_relevantes, columns=['Indicador;%'], )\n",
    "df_indicadores_relevantes.to_csv('../data/brasil_relevancia_indicadores.csv', sep=';',index = False)"
   ]
  }
 ],
 "metadata": {
  "kernelspec": {
   "display_name": "Python 3",
   "language": "python",
   "name": "python3"
  },
  "language_info": {
   "codemirror_mode": {
    "name": "ipython",
    "version": 3
   },
   "file_extension": ".py",
   "mimetype": "text/x-python",
   "name": "python",
   "nbconvert_exporter": "python",
   "pygments_lexer": "ipython3",
   "version": "3.8.2"
  }
 },
 "nbformat": 4,
 "nbformat_minor": 4
}
