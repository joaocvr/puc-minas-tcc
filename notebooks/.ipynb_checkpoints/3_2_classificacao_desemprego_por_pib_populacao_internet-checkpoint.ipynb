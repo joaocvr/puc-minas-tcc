{
 "cells": [
  {
   "cell_type": "markdown",
   "metadata": {},
   "source": [
    "# 3 Classificação\n",
    "\n",
    "## 3.3) O aumento do PIB, o crescimento populacional e a quantidade de usuários de internet influencia no taxa de desemprego?"
   ]
  },
  {
   "cell_type": "markdown",
   "metadata": {},
   "source": [
    "### Instalando e importando as bibliotecas utlizadas nesse notebook."
   ]
  },
  {
   "cell_type": "code",
   "execution_count": 1,
   "metadata": {},
   "outputs": [
    {
     "name": "stdout",
     "output_type": "stream",
     "text": [
      "Requirement already satisfied: pandas in /home/joca/.local/lib/python3.8/site-packages (1.0.5)\n",
      "Requirement already satisfied: pytz>=2017.2 in /usr/lib/python3/dist-packages (from pandas) (2019.3)\n",
      "Requirement already satisfied: python-dateutil>=2.6.1 in /usr/lib/python3/dist-packages (from pandas) (2.7.3)\n",
      "Requirement already satisfied: numpy>=1.13.3 in /home/joca/.local/lib/python3.8/site-packages (from pandas) (1.19.0)\n",
      "Requirement already satisfied: numpy in /home/joca/.local/lib/python3.8/site-packages (1.19.0)\n",
      "Requirement already satisfied: sklearn in /home/joca/.local/lib/python3.8/site-packages (0.0)\n",
      "Requirement already satisfied: scikit-learn in /home/joca/.local/lib/python3.8/site-packages (from sklearn) (0.23.1)\n",
      "Requirement already satisfied: threadpoolctl>=2.0.0 in /home/joca/.local/lib/python3.8/site-packages (from scikit-learn->sklearn) (2.1.0)\n",
      "Requirement already satisfied: scipy>=0.19.1 in /home/joca/.local/lib/python3.8/site-packages (from scikit-learn->sklearn) (1.5.1)\n",
      "Requirement already satisfied: joblib>=0.11 in /home/joca/.local/lib/python3.8/site-packages (from scikit-learn->sklearn) (0.16.0)\n",
      "Requirement already satisfied: numpy>=1.13.3 in /home/joca/.local/lib/python3.8/site-packages (from scikit-learn->sklearn) (1.19.0)\n"
     ]
    }
   ],
   "source": [
    "!pip3 install pandas\n",
    "!pip3 install numpy\n",
    "!pip3 install sklearn"
   ]
  },
  {
   "cell_type": "code",
   "execution_count": 2,
   "metadata": {},
   "outputs": [],
   "source": [
    "import pandas as pd\n",
    "from sklearn.model_selection import train_test_split\n",
    "from sklearn.svm import SVC\n",
    "from sklearn.tree import DecisionTreeClassifier\n",
    "from sklearn.dummy import DummyClassifier\n",
    "from sklearn.naive_bayes import GaussianNB\n",
    "from sklearn.metrics import accuracy_score, classification_report, confusion_matrix, f1_score\n",
    "from sklearn.preprocessing import StandardScaler\n",
    "import numpy as np"
   ]
  },
  {
   "cell_type": "markdown",
   "metadata": {},
   "source": [
    "## 3.1.1) Carga e transformação da massa bruta de todos os indicadores e países."
   ]
  },
  {
   "cell_type": "markdown",
   "metadata": {},
   "source": [
    "#### Nessa etapa é carregado o dataset \"massa_bruta_pais_por_indicadores.csv\" (resultado do notebook \"2_extracao_transformacao_massa_indicadores_todos_paises\") para usar os dados de países e seus respectivos indicadores."
   ]
  },
  {
   "cell_type": "code",
   "execution_count": 3,
   "metadata": {},
   "outputs": [],
   "source": [
    "massa_bruta_pais_por_indicadores = pd.read_csv('../data/massa_bruta_pais_por_indicadores.csv')"
   ]
  },
  {
   "cell_type": "markdown",
   "metadata": {},
   "source": [
    "#### Após essa carga, são selecionados as colunas dos anos de 1998 a 2013 (esse intervalo foi identificado no notebook \"1_extracao_faixa_temporal_melhor_distribuicao_valores\") e as linhas dos indicadores de desemprego e seus relacionados.\n",
    "\n",
    "- 'SL.UEM.TOTL.ZS': taxa de desemprego.\n",
    "- 'NY.GDP.MKTP.CD': Produto Interno Bruto em dólares (US$).\n",
    "- 'SP.POP.GROW': taxa de crescimento populacional.\n",
    "- 'IT.NET.USER.P2': quantidade de usuário de internet por 100 pessoas."
   ]
  },
  {
   "cell_type": "code",
   "execution_count": 4,
   "metadata": {},
   "outputs": [],
   "source": [
    "anos = ['1998', '1999', '2000', '2001', '2002', '2003', '2004', '2005', \n",
    "        '2006', '2007', '2008', '2009', '2010', '2011', '2012', '2013']\n",
    "\n",
    "indicadores = ['SL.UEM.TOTL.ZS', 'NY.GDP.MKTP.CD', 'SP.POP.GROW', 'IT.NET.USER.P2']\n",
    "\n",
    "indicador_desemprego = ['SL.UEM.TOTL.ZS']\n",
    "\n",
    "indicadores_relacionados = ['NY.GDP.MKTP.CD', 'SP.POP.GROW', 'IT.NET.USER.P2']"
   ]
  },
  {
   "cell_type": "markdown",
   "metadata": {},
   "source": [
    "#### Aqui há extração dos nomes dos países (extraídos do dataset \"massa_bruta_pais_por_indicadores.csv\", através da filtragem de valores únicos). Em seguida, os dados desse dataset são filtrados pelos indicadores (especificados na célula acima, \"indicadores\")."
   ]
  },
  {
   "cell_type": "code",
   "execution_count": 5,
   "metadata": {},
   "outputs": [],
   "source": [
    "paises = massa_bruta_pais_por_indicadores['Country Name'].unique()\n",
    "\n",
    "df_massa_bruta_por_indicador = massa_bruta_pais_por_indicadores.loc[massa_bruta_pais_por_indicadores['Indicator Code'].isin(indicadores)]\n",
    "\n",
    "colunas_transformacao = ['Pais', 'Indicador', '1998', '1999', '2000', '2001', '2002', '2003', \n",
    "                         '2004', '2005', '2006', '2007', '2008', '2009', '2010', '2011', '2012']\n"
   ]
  },
  {
   "cell_type": "markdown",
   "metadata": {},
   "source": [
    "#### O passo abaixo processará os dados filtrados pelos indicadores de desemprego e seus relacionados para:\n",
    "- Trocar o valor das linhas do indicador de educação por zero ou um (um quando houver aumento de um ano para o outro e zero não);\n",
    "- Preencher o dataframe \"df_resultado_transformacao\" com o resultado disso;\n",
    "- Substituir os valores em branco por zero;\n",
    "- Ordernar \"df_resultado_transformacao\" pelo nome do país; e\n",
    "- Ajustar os índices de \"df_resultado_transformacao\".\n",
    "\n",
    "#### Os dados no dataframe \"df_resultado_transformacao\" estarão agrupados por país e indicadores.\n",
    "#### Os valores de zero ou um nas linhas referentes ao indicador de desemprego mostram se, em cada ano, houve um aumento ou não da taxa de desemprego."
   ]
  },
  {
   "cell_type": "code",
   "execution_count": 6,
   "metadata": {},
   "outputs": [
    {
     "data": {
      "text/html": [
       "<div>\n",
       "<style scoped>\n",
       "    .dataframe tbody tr th:only-of-type {\n",
       "        vertical-align: middle;\n",
       "    }\n",
       "\n",
       "    .dataframe tbody tr th {\n",
       "        vertical-align: top;\n",
       "    }\n",
       "\n",
       "    .dataframe thead th {\n",
       "        text-align: right;\n",
       "    }\n",
       "</style>\n",
       "<table border=\"1\" class=\"dataframe\">\n",
       "  <thead>\n",
       "    <tr style=\"text-align: right;\">\n",
       "      <th></th>\n",
       "      <th>Pais</th>\n",
       "      <th>Indicador</th>\n",
       "      <th>1998</th>\n",
       "      <th>1999</th>\n",
       "      <th>2000</th>\n",
       "      <th>2001</th>\n",
       "      <th>2002</th>\n",
       "      <th>2003</th>\n",
       "      <th>2004</th>\n",
       "      <th>2005</th>\n",
       "      <th>2006</th>\n",
       "      <th>2007</th>\n",
       "      <th>2008</th>\n",
       "      <th>2009</th>\n",
       "      <th>2010</th>\n",
       "      <th>2011</th>\n",
       "      <th>2012</th>\n",
       "    </tr>\n",
       "  </thead>\n",
       "  <tbody>\n",
       "    <tr>\n",
       "      <th>0</th>\n",
       "      <td>Afghanistan</td>\n",
       "      <td>NY.GDP.MKTP.CD</td>\n",
       "      <td>0.000000e+00</td>\n",
       "      <td>0.000000e+00</td>\n",
       "      <td>0.000000e+00</td>\n",
       "      <td>2.461666e+09</td>\n",
       "      <td>4.128821e+09</td>\n",
       "      <td>4.583644e+09</td>\n",
       "      <td>5.285466e+09</td>\n",
       "      <td>6.275074e+09</td>\n",
       "      <td>7.057598e+09</td>\n",
       "      <td>9.843842e+09</td>\n",
       "      <td>1.019053e+10</td>\n",
       "      <td>1.248694e+10</td>\n",
       "      <td>1.593680e+10</td>\n",
       "      <td>1.793024e+10</td>\n",
       "      <td>2.053654e+10</td>\n",
       "    </tr>\n",
       "    <tr>\n",
       "      <th>1</th>\n",
       "      <td>Afghanistan</td>\n",
       "      <td>SL.UEM.TOTL.ZS</td>\n",
       "      <td>0.000000e+00</td>\n",
       "      <td>0.000000e+00</td>\n",
       "      <td>1.000000e+00</td>\n",
       "      <td>1.000000e+00</td>\n",
       "      <td>1.000000e+00</td>\n",
       "      <td>0.000000e+00</td>\n",
       "      <td>1.000000e+00</td>\n",
       "      <td>0.000000e+00</td>\n",
       "      <td>0.000000e+00</td>\n",
       "      <td>0.000000e+00</td>\n",
       "      <td>0.000000e+00</td>\n",
       "      <td>0.000000e+00</td>\n",
       "      <td>1.000000e+00</td>\n",
       "      <td>0.000000e+00</td>\n",
       "      <td>1.000000e+00</td>\n",
       "    </tr>\n",
       "    <tr>\n",
       "      <th>2</th>\n",
       "      <td>Afghanistan</td>\n",
       "      <td>IT.NET.USER.P2</td>\n",
       "      <td>0.000000e+00</td>\n",
       "      <td>0.000000e+00</td>\n",
       "      <td>0.000000e+00</td>\n",
       "      <td>0.000000e+00</td>\n",
       "      <td>0.000000e+00</td>\n",
       "      <td>9.000000e-02</td>\n",
       "      <td>1.100000e-01</td>\n",
       "      <td>1.220000e+00</td>\n",
       "      <td>2.110000e+00</td>\n",
       "      <td>1.900000e+00</td>\n",
       "      <td>1.840000e+00</td>\n",
       "      <td>3.550000e+00</td>\n",
       "      <td>4.000000e+00</td>\n",
       "      <td>5.000000e+00</td>\n",
       "      <td>5.450000e+00</td>\n",
       "    </tr>\n",
       "    <tr>\n",
       "      <th>3</th>\n",
       "      <td>Afghanistan</td>\n",
       "      <td>SP.POP.GROW</td>\n",
       "      <td>2.590000e+00</td>\n",
       "      <td>2.820000e+00</td>\n",
       "      <td>3.490000e+00</td>\n",
       "      <td>4.250000e+00</td>\n",
       "      <td>4.720000e+00</td>\n",
       "      <td>4.820000e+00</td>\n",
       "      <td>4.470000e+00</td>\n",
       "      <td>3.870000e+00</td>\n",
       "      <td>3.230000e+00</td>\n",
       "      <td>2.760000e+00</td>\n",
       "      <td>2.510000e+00</td>\n",
       "      <td>2.570000e+00</td>\n",
       "      <td>2.810000e+00</td>\n",
       "      <td>3.100000e+00</td>\n",
       "      <td>3.270000e+00</td>\n",
       "    </tr>\n",
       "    <tr>\n",
       "      <th>4</th>\n",
       "      <td>Albania</td>\n",
       "      <td>SL.UEM.TOTL.ZS</td>\n",
       "      <td>1.000000e+00</td>\n",
       "      <td>0.000000e+00</td>\n",
       "      <td>1.000000e+00</td>\n",
       "      <td>0.000000e+00</td>\n",
       "      <td>0.000000e+00</td>\n",
       "      <td>0.000000e+00</td>\n",
       "      <td>0.000000e+00</td>\n",
       "      <td>0.000000e+00</td>\n",
       "      <td>1.000000e+00</td>\n",
       "      <td>0.000000e+00</td>\n",
       "      <td>1.000000e+00</td>\n",
       "      <td>1.000000e+00</td>\n",
       "      <td>0.000000e+00</td>\n",
       "      <td>0.000000e+00</td>\n",
       "      <td>1.000000e+00</td>\n",
       "    </tr>\n",
       "    <tr>\n",
       "      <th>5</th>\n",
       "      <td>Albania</td>\n",
       "      <td>NY.GDP.MKTP.CD</td>\n",
       "      <td>2.707124e+09</td>\n",
       "      <td>3.414761e+09</td>\n",
       "      <td>3.632044e+09</td>\n",
       "      <td>4.060759e+09</td>\n",
       "      <td>4.435079e+09</td>\n",
       "      <td>5.746946e+09</td>\n",
       "      <td>7.314865e+09</td>\n",
       "      <td>8.158549e+09</td>\n",
       "      <td>8.992642e+09</td>\n",
       "      <td>1.070101e+10</td>\n",
       "      <td>1.288135e+10</td>\n",
       "      <td>1.204421e+10</td>\n",
       "      <td>1.192695e+10</td>\n",
       "      <td>1.289087e+10</td>\n",
       "      <td>1.231978e+10</td>\n",
       "    </tr>\n",
       "  </tbody>\n",
       "</table>\n",
       "</div>"
      ],
      "text/plain": [
       "          Pais       Indicador          1998          1999          2000  \\\n",
       "0  Afghanistan  NY.GDP.MKTP.CD  0.000000e+00  0.000000e+00  0.000000e+00   \n",
       "1  Afghanistan  SL.UEM.TOTL.ZS  0.000000e+00  0.000000e+00  1.000000e+00   \n",
       "2  Afghanistan  IT.NET.USER.P2  0.000000e+00  0.000000e+00  0.000000e+00   \n",
       "3  Afghanistan     SP.POP.GROW  2.590000e+00  2.820000e+00  3.490000e+00   \n",
       "4      Albania  SL.UEM.TOTL.ZS  1.000000e+00  0.000000e+00  1.000000e+00   \n",
       "5      Albania  NY.GDP.MKTP.CD  2.707124e+09  3.414761e+09  3.632044e+09   \n",
       "\n",
       "           2001          2002          2003          2004          2005  \\\n",
       "0  2.461666e+09  4.128821e+09  4.583644e+09  5.285466e+09  6.275074e+09   \n",
       "1  1.000000e+00  1.000000e+00  0.000000e+00  1.000000e+00  0.000000e+00   \n",
       "2  0.000000e+00  0.000000e+00  9.000000e-02  1.100000e-01  1.220000e+00   \n",
       "3  4.250000e+00  4.720000e+00  4.820000e+00  4.470000e+00  3.870000e+00   \n",
       "4  0.000000e+00  0.000000e+00  0.000000e+00  0.000000e+00  0.000000e+00   \n",
       "5  4.060759e+09  4.435079e+09  5.746946e+09  7.314865e+09  8.158549e+09   \n",
       "\n",
       "           2006          2007          2008          2009          2010  \\\n",
       "0  7.057598e+09  9.843842e+09  1.019053e+10  1.248694e+10  1.593680e+10   \n",
       "1  0.000000e+00  0.000000e+00  0.000000e+00  0.000000e+00  1.000000e+00   \n",
       "2  2.110000e+00  1.900000e+00  1.840000e+00  3.550000e+00  4.000000e+00   \n",
       "3  3.230000e+00  2.760000e+00  2.510000e+00  2.570000e+00  2.810000e+00   \n",
       "4  1.000000e+00  0.000000e+00  1.000000e+00  1.000000e+00  0.000000e+00   \n",
       "5  8.992642e+09  1.070101e+10  1.288135e+10  1.204421e+10  1.192695e+10   \n",
       "\n",
       "           2011          2012  \n",
       "0  1.793024e+10  2.053654e+10  \n",
       "1  0.000000e+00  1.000000e+00  \n",
       "2  5.000000e+00  5.450000e+00  \n",
       "3  3.100000e+00  3.270000e+00  \n",
       "4  0.000000e+00  1.000000e+00  \n",
       "5  1.289087e+10  1.231978e+10  "
      ]
     },
     "execution_count": 6,
     "metadata": {},
     "output_type": "execute_result"
    }
   ],
   "source": [
    "df_resultado_transformacao = pd.DataFrame(columns=colunas_transformacao)\n",
    "\n",
    "for pais in paises:\n",
    "    df_pais = df_massa_bruta_por_indicador.loc[df_massa_bruta_por_indicador['Country Name'] == pais]\n",
    "\n",
    "    df_1998_a_2013 = df_pais.iloc[:, 2:18]\n",
    "    df_1998_a_2013.index = range(df_1998_a_2013.shape[0])\n",
    "    df_1998_a_2013 = df_1998_a_2013.fillna(0)\n",
    "   \n",
    "    indicador = df_pais['Indicator Code']\n",
    "    indicador.index = range(indicador.shape[0])\n",
    "    \n",
    "    for index, indicador in indicador.items():\n",
    "        \n",
    "        if indicador in indicador_desemprego:\n",
    "            valor_1998_1999 = 1 if df_1998_a_2013['1999'].iloc[index] - df_1998_a_2013['1998'].iloc[index] > 0 else 0\n",
    "            valor_1999_2000 = 1 if df_1998_a_2013['2000'].iloc[index] - df_1998_a_2013['1999'].iloc[index] > 0 else 0\n",
    "            valor_2000_2001 = 1 if df_1998_a_2013['2001'].iloc[index] - df_1998_a_2013['2000'].iloc[index] > 0 else 0\n",
    "            valor_2001_2002 = 1 if df_1998_a_2013['2002'].iloc[index] - df_1998_a_2013['2001'].iloc[index] > 0 else 0\n",
    "            valor_2002_2003 = 1 if df_1998_a_2013['2003'].iloc[index] - df_1998_a_2013['2002'].iloc[index] > 0 else 0\n",
    "            valor_2003_2004 = 1 if df_1998_a_2013['2004'].iloc[index] - df_1998_a_2013['2003'].iloc[index] > 0 else 0\n",
    "            valor_2004_2005 = 1 if df_1998_a_2013['2005'].iloc[index] - df_1998_a_2013['2004'].iloc[index] > 0 else 0\n",
    "            valor_2005_2006 = 1 if df_1998_a_2013['2006'].iloc[index] - df_1998_a_2013['2005'].iloc[index] > 0 else 0\n",
    "            valor_2006_2007 = 1 if df_1998_a_2013['2007'].iloc[index] - df_1998_a_2013['2006'].iloc[index] > 0 else 0\n",
    "            valor_2007_2008 = 1 if df_1998_a_2013['2008'].iloc[index] - df_1998_a_2013['2007'].iloc[index] > 0 else 0\n",
    "            valor_2008_2009 = 1 if df_1998_a_2013['2009'].iloc[index] - df_1998_a_2013['2008'].iloc[index] > 0 else 0\n",
    "            valor_2009_2010 = 1 if df_1998_a_2013['2010'].iloc[index] - df_1998_a_2013['2009'].iloc[index] > 0 else 0\n",
    "            valor_2010_2011 = 1 if df_1998_a_2013['2011'].iloc[index] - df_1998_a_2013['2010'].iloc[index] > 0 else 0\n",
    "            valor_2011_2012 = 1 if df_1998_a_2013['2012'].iloc[index] - df_1998_a_2013['2011'].iloc[index] > 0 else 0\n",
    "            valor_2012_2013 = 1 if df_1998_a_2013['2013'].iloc[index] - df_1998_a_2013['2012'].iloc[index] > 0 else 0\n",
    "\n",
    "            valores = [pais, indicador, valor_1998_1999, valor_1999_2000, valor_2000_2001, valor_2001_2002, \n",
    "                       valor_2002_2003, valor_2003_2004, valor_2004_2005, valor_2005_2006, valor_2006_2007, \n",
    "                       valor_2007_2008, valor_2008_2009, valor_2009_2010, valor_2010_2011, valor_2011_2012,\n",
    "                       valor_2012_2013]\n",
    "\n",
    "            df_auxiliar = pd.DataFrame([valores], columns=colunas_transformacao)\n",
    "            df_auxiliar.index = range(df_auxiliar.shape[0])\n",
    "            df_resultado_transformacao = pd.concat([df_auxiliar, df_resultado_transformacao])\n",
    "\n",
    "        elif indicador in indicadores_relacionados:\n",
    "            valores = [pais, indicador]\n",
    "            valores.extend(df_1998_a_2013.drop(columns=['2013']).iloc[index].values.tolist())\n",
    "            df_auxiliar = pd.DataFrame([valores], columns=colunas_transformacao)\n",
    "            df_auxiliar.index = range(df_auxiliar.shape[0])\n",
    "            df_resultado_transformacao = pd.concat([df_auxiliar, df_resultado_transformacao])\n",
    "\n",
    "            \n",
    "df_resultado_transformacao = df_resultado_transformacao.sort_values(['Pais'], ascending=[True])\n",
    "df_resultado_transformacao.index = range(df_resultado_transformacao.shape[0])\n",
    "df_resultado_transformacao.head(6)"
   ]
  },
  {
   "cell_type": "markdown",
   "metadata": {},
   "source": [
    "#### Transforma todos os dados dos indicadores em colunas. Isso será útil para as etapas de análise e classificação. Também renomeia as colunas para facilitar o entendimento."
   ]
  },
  {
   "cell_type": "code",
   "execution_count": 7,
   "metadata": {},
   "outputs": [
    {
     "data": {
      "text/html": [
       "<div>\n",
       "<style scoped>\n",
       "    .dataframe tbody tr th:only-of-type {\n",
       "        vertical-align: middle;\n",
       "    }\n",
       "\n",
       "    .dataframe tbody tr th {\n",
       "        vertical-align: top;\n",
       "    }\n",
       "\n",
       "    .dataframe thead th {\n",
       "        text-align: right;\n",
       "    }\n",
       "</style>\n",
       "<table border=\"1\" class=\"dataframe\">\n",
       "  <thead>\n",
       "    <tr style=\"text-align: right;\">\n",
       "      <th></th>\n",
       "      <th>Desemprego</th>\n",
       "      <th>PIB</th>\n",
       "      <th>Crescimento Populacional</th>\n",
       "      <th>Usuários Internet</th>\n",
       "    </tr>\n",
       "  </thead>\n",
       "  <tbody>\n",
       "    <tr>\n",
       "      <th>0</th>\n",
       "      <td>0.0</td>\n",
       "      <td>0.000000e+00</td>\n",
       "      <td>2.59</td>\n",
       "      <td>0.0</td>\n",
       "    </tr>\n",
       "    <tr>\n",
       "      <th>1</th>\n",
       "      <td>0.0</td>\n",
       "      <td>0.000000e+00</td>\n",
       "      <td>2.82</td>\n",
       "      <td>0.0</td>\n",
       "    </tr>\n",
       "    <tr>\n",
       "      <th>2</th>\n",
       "      <td>1.0</td>\n",
       "      <td>0.000000e+00</td>\n",
       "      <td>3.49</td>\n",
       "      <td>0.0</td>\n",
       "    </tr>\n",
       "    <tr>\n",
       "      <th>3</th>\n",
       "      <td>1.0</td>\n",
       "      <td>2.461666e+09</td>\n",
       "      <td>4.25</td>\n",
       "      <td>0.0</td>\n",
       "    </tr>\n",
       "    <tr>\n",
       "      <th>4</th>\n",
       "      <td>1.0</td>\n",
       "      <td>4.128821e+09</td>\n",
       "      <td>4.72</td>\n",
       "      <td>0.0</td>\n",
       "    </tr>\n",
       "  </tbody>\n",
       "</table>\n",
       "</div>"
      ],
      "text/plain": [
       "   Desemprego           PIB  Crescimento Populacional  Usuários Internet\n",
       "0         0.0  0.000000e+00                      2.59                0.0\n",
       "1         0.0  0.000000e+00                      2.82                0.0\n",
       "2         1.0  0.000000e+00                      3.49                0.0\n",
       "3         1.0  2.461666e+09                      4.25                0.0\n",
       "4         1.0  4.128821e+09                      4.72                0.0"
      ]
     },
     "execution_count": 7,
     "metadata": {},
     "output_type": "execute_result"
    }
   ],
   "source": [
    "df_desemprego_relacionados = pd.DataFrame()\n",
    "\n",
    "for indicador in indicadores:\n",
    "    df_indicador = df_resultado_transformacao.loc[df_resultado_transformacao['Indicador'] == indicador]\n",
    "    df_indicador.index = range(df_indicador.shape[0])\n",
    "    df_periodos_indicador = df_indicador.drop(['Pais', 'Indicador'], axis=1)    \n",
    "    df_periodos_indicador = df_periodos_indicador.stack()\n",
    "    df_periodos_indicador.index = range(df_periodos_indicador.shape[0])\n",
    "    df_desemprego_relacionados[indicador] = df_periodos_indicador.tolist()\n",
    "\n",
    "nomes_colunas = {'SL.UEM.TOTL.ZS': 'Desemprego', \n",
    "                 'NY.GDP.MKTP.CD': 'PIB',\n",
    "                 'SP.POP.GROW': 'Crescimento Populacional',\n",
    "                 'IT.NET.USER.P2': 'Usuários Internet'}\n",
    "\n",
    "df_desemprego_relacionados = df_desemprego_relacionados.rename(columns = nomes_colunas)\n",
    "df_desemprego_relacionados.head()"
   ]
  },
  {
   "cell_type": "markdown",
   "metadata": {},
   "source": [
    "#### Antes de começar a etapa de classificação, verifica-se se a coluna \"Desemprego\" possui alta taxa de preenchimento ou boa distribuição de valores."
   ]
  },
  {
   "cell_type": "code",
   "execution_count": 8,
   "metadata": {},
   "outputs": [
    {
     "name": "stdout",
     "output_type": "stream",
     "text": [
      "Quantidade de valores não preenchidos para a coluna de desemprego anos: 14.29%\n"
     ]
    }
   ],
   "source": [
    "## Extrai os dados originais da coluna referente ao indicador de desemprego. ##\n",
    "\n",
    "df_analise_desemprego = pd.DataFrame(columns=colunas_transformacao)\n",
    "\n",
    "for pais in paises:\n",
    "    df_pais = df_massa_bruta_por_indicador.loc[df_massa_bruta_por_indicador['Country Name'] == pais]\n",
    "\n",
    "    df_1998_a_2013 = df_pais.iloc[:, 2:18]\n",
    "    df_1998_a_2013.index = range(df_1998_a_2013.shape[0])\n",
    "    df_1998_a_2013 = df_1998_a_2013.fillna(0)\n",
    "   \n",
    "    indicador = df_pais['Indicator Code']\n",
    "    indicador.index = range(indicador.shape[0])\n",
    "    \n",
    "    for index, indicador in indicador.items():        \n",
    "        if indicador in indicador_desemprego:\n",
    "            valores = [pais, indicador]\n",
    "            valores.extend(df_1998_a_2013.drop(columns=['2013']).iloc[index].values.tolist())\n",
    "            df_auxiliar = pd.DataFrame([valores], columns=colunas_transformacao)\n",
    "            df_auxiliar.index = range(df_auxiliar.shape[0])\n",
    "            df_analise_desemprego = pd.concat([df_auxiliar, df_analise_desemprego])\n",
    "            \n",
    "df_analise_desemprego = df_analise_desemprego.sort_values(['Pais'], ascending=[True])\n",
    "df_analise_desemprego.index = range(df_analise_desemprego.shape[0])\n",
    "## Fim da extração ##\n",
    "\n",
    "\n",
    "# Agora os dados da coluna de desemprego de todos os países para os anos de 1998 a 2012 \n",
    "# serão empilhados em uma única coluna.\n",
    "df_1998_a_2013 = df_analise_desemprego.iloc[:, 2:18]\n",
    "df_1998_a_2013.index = range(df_1998_a_2013.shape[0])\n",
    "df_periodos_indicador = df_1998_a_2013.stack()\n",
    "df_periodos_indicador.index = range(df_periodos_indicador.shape[0])\n",
    "df_analise_tx_desemp = pd.DataFrame()\n",
    "df_analise_tx_desemp['Desemprego'] = df_periodos_indicador.tolist()\n",
    "\n",
    "\n",
    "# Os dados originais de desemprego são descritos e é contada a quantidade valores não preenchidos.\n",
    "qtd_zeros = df_analise_tx_desemp['Desemprego'].isin(['0']).mean()*100\n",
    "print(\"Quantidade de valores não preenchidos para a coluna de desemprego anos: %.2f%%\" % qtd_zeros)\n",
    "\n",
    "# Ao realizar uma descrição dos dados de desemprego percebe-se que há uma\n",
    "# grande incidência de campos com valor igual a zero."
   ]
  },
  {
   "cell_type": "markdown",
   "metadata": {},
   "source": [
    "#### Remove as linhas cujos valores não foram preenchidos, ou seja, toda linha com os valores zerados para todos os indicadores serão excluídas."
   ]
  },
  {
   "cell_type": "code",
   "execution_count": 9,
   "metadata": {},
   "outputs": [
    {
     "data": {
      "text/html": [
       "<div>\n",
       "<style scoped>\n",
       "    .dataframe tbody tr th:only-of-type {\n",
       "        vertical-align: middle;\n",
       "    }\n",
       "\n",
       "    .dataframe tbody tr th {\n",
       "        vertical-align: top;\n",
       "    }\n",
       "\n",
       "    .dataframe thead th {\n",
       "        text-align: right;\n",
       "    }\n",
       "</style>\n",
       "<table border=\"1\" class=\"dataframe\">\n",
       "  <thead>\n",
       "    <tr style=\"text-align: right;\">\n",
       "      <th></th>\n",
       "      <th>Desemprego</th>\n",
       "      <th>PIB</th>\n",
       "      <th>Crescimento Populacional</th>\n",
       "      <th>Usuários Internet</th>\n",
       "    </tr>\n",
       "  </thead>\n",
       "  <tbody>\n",
       "    <tr>\n",
       "      <th>count</th>\n",
       "      <td>3223.00000</td>\n",
       "      <td>3.223000e+03</td>\n",
       "      <td>3223.000000</td>\n",
       "      <td>3223.000000</td>\n",
       "    </tr>\n",
       "    <tr>\n",
       "      <th>mean</th>\n",
       "      <td>0.32175</td>\n",
       "      <td>2.282529e+11</td>\n",
       "      <td>1.463453</td>\n",
       "      <td>19.821132</td>\n",
       "    </tr>\n",
       "    <tr>\n",
       "      <th>std</th>\n",
       "      <td>0.46722</td>\n",
       "      <td>1.042335e+12</td>\n",
       "      <td>1.594697</td>\n",
       "      <td>24.473127</td>\n",
       "    </tr>\n",
       "    <tr>\n",
       "      <th>min</th>\n",
       "      <td>0.00000</td>\n",
       "      <td>0.000000e+00</td>\n",
       "      <td>-10.960000</td>\n",
       "      <td>0.000000</td>\n",
       "    </tr>\n",
       "    <tr>\n",
       "      <th>25%</th>\n",
       "      <td>0.00000</td>\n",
       "      <td>1.915288e+09</td>\n",
       "      <td>0.490000</td>\n",
       "      <td>1.000000</td>\n",
       "    </tr>\n",
       "    <tr>\n",
       "      <th>50%</th>\n",
       "      <td>0.00000</td>\n",
       "      <td>1.036881e+10</td>\n",
       "      <td>1.300000</td>\n",
       "      <td>7.490000</td>\n",
       "    </tr>\n",
       "    <tr>\n",
       "      <th>75%</th>\n",
       "      <td>1.00000</td>\n",
       "      <td>7.575417e+10</td>\n",
       "      <td>2.350000</td>\n",
       "      <td>32.755000</td>\n",
       "    </tr>\n",
       "    <tr>\n",
       "      <th>max</th>\n",
       "      <td>1.00000</td>\n",
       "      <td>1.615526e+13</td>\n",
       "      <td>16.330000</td>\n",
       "      <td>96.210000</td>\n",
       "    </tr>\n",
       "  </tbody>\n",
       "</table>\n",
       "</div>"
      ],
      "text/plain": [
       "       Desemprego           PIB  Crescimento Populacional  Usuários Internet\n",
       "count  3223.00000  3.223000e+03               3223.000000        3223.000000\n",
       "mean      0.32175  2.282529e+11                  1.463453          19.821132\n",
       "std       0.46722  1.042335e+12                  1.594697          24.473127\n",
       "min       0.00000  0.000000e+00                -10.960000           0.000000\n",
       "25%       0.00000  1.915288e+09                  0.490000           1.000000\n",
       "50%       0.00000  1.036881e+10                  1.300000           7.490000\n",
       "75%       1.00000  7.575417e+10                  2.350000          32.755000\n",
       "max       1.00000  1.615526e+13                 16.330000          96.210000"
      ]
     },
     "execution_count": 9,
     "metadata": {},
     "output_type": "execute_result"
    }
   ],
   "source": [
    "df_desemprego_relacionados = df_desemprego_relacionados.loc[(df_desemprego_relacionados!=0).any(1)]\n",
    "df_desemprego_relacionados.index = range(df_desemprego_relacionados.shape[0])\n",
    "\n",
    "df_desemprego_relacionados.describe()"
   ]
  },
  {
   "cell_type": "markdown",
   "metadata": {},
   "source": [
    "Ao analisar a descrição acima, percebe-se que esse dataset selecionado para relacionar alguns indicadores socioeconômicos com o desemprego de pessoas possui grandes diferenças na distribuição de valores."
   ]
  },
  {
   "cell_type": "markdown",
   "metadata": {},
   "source": [
    "#### A função \"classificar\" objetiva analisar o resultado de um modelo de classificação. Além disso, imprime interpretações das previsões."
   ]
  },
  {
   "cell_type": "code",
   "execution_count": 10,
   "metadata": {},
   "outputs": [],
   "source": [
    "def classificar(modelo, treino_x, teste_x, treino_y, teste_y, nome_modelo):\n",
    "    modelo.fit(treino_x, treino_y)\n",
    "    print(\"*********  \" + nome_modelo + \"  *********\")\n",
    "    print(\"Acurácia treinamento: %.2f%%\" % (modelo.score(treino_x, treino_y)*100))\n",
    "    previsoes = modelo.predict(teste_x)\n",
    "    print(\"Acurácia previsão: %.2f%%\" % (accuracy_score(teste_y, previsoes)*100))\n",
    "    print(\"\")\n",
    "    print(\"<< Matriz de confusão >>\")\n",
    "    matriz_confusao = confusion_matrix(teste_y, previsoes)\n",
    "    print(pd.crosstab(teste_y, previsoes, rownames=['Real'], colnames=['Predito'], margins=True))\n",
    "    print(\"\")\n",
    "    print(\"<< Relatório de classificação >>\")\n",
    "    print(classification_report(teste_y, previsoes))"
   ]
  },
  {
   "cell_type": "markdown",
   "metadata": {},
   "source": [
    "#### Aplicação do \"Dummy Classifier\" e sua respectiva acurácia."
   ]
  },
  {
   "cell_type": "code",
   "execution_count": 11,
   "metadata": {},
   "outputs": [
    {
     "name": "stdout",
     "output_type": "stream",
     "text": [
      "*********  Dummy  *********\n",
      "Acurácia treinamento: 57.59%\n",
      "Acurácia previsão: 55.96%\n",
      "\n",
      "<< Matriz de confusão >>\n",
      "Predito  0.0  1.0  All\n",
      "Real                  \n",
      "0.0      377  170  547\n",
      "1.0      185   74  259\n",
      "All      562  244  806\n",
      "\n",
      "<< Relatório de classificação >>\n",
      "              precision    recall  f1-score   support\n",
      "\n",
      "         0.0       0.67      0.69      0.68       547\n",
      "         1.0       0.30      0.29      0.29       259\n",
      "\n",
      "    accuracy                           0.56       806\n",
      "   macro avg       0.49      0.49      0.49       806\n",
      "weighted avg       0.55      0.56      0.56       806\n",
      "\n"
     ]
    }
   ],
   "source": [
    "x = df_desemprego_relacionados[['PIB', 'Crescimento Populacional', 'Usuários Internet']]\n",
    "y = df_desemprego_relacionados['Desemprego']\n",
    "\n",
    "#Define a ordem dos números aleatórios e tetira a aleatoriedade da separação dos dados de treino e teste.\n",
    "SEED = 5\n",
    "np.random.seed(SEED)\n",
    "\n",
    "treino_x_bruto_dm, teste_x_bruto_dm, treino_y_dm, teste_y_dm = train_test_split(x, y, random_state = SEED, test_size=0.25, stratify=y)\n",
    "#O parâmetro \"stratify=y\" orienta o algoritmo a estratificar (separar proporcionalmente) os dados de acordo com o \"y\".\n",
    "\n",
    "classificar(DummyClassifier(strategy='stratified'), treino_x_bruto_dm, teste_x_bruto_dm, treino_y_dm, teste_y_dm, \"Dummy\")"
   ]
  },
  {
   "cell_type": "markdown",
   "metadata": {},
   "source": [
    "#### Aplicação do \"SVC\" e sua acurácia."
   ]
  },
  {
   "cell_type": "code",
   "execution_count": 12,
   "metadata": {},
   "outputs": [
    {
     "name": "stdout",
     "output_type": "stream",
     "text": [
      "*********  SVC  *********\n",
      "Acurácia treinamento: 68.02%\n",
      "Acurácia previsão: 67.74%\n",
      "\n",
      "<< Matriz de confusão >>\n",
      "Predito  0.0  1.0  All\n",
      "Real                  \n",
      "0.0      545    2  547\n",
      "1.0      258    1  259\n",
      "All      803    3  806\n",
      "\n",
      "<< Relatório de classificação >>\n",
      "              precision    recall  f1-score   support\n",
      "\n",
      "         0.0       0.68      1.00      0.81       547\n",
      "         1.0       0.33      0.00      0.01       259\n",
      "\n",
      "    accuracy                           0.68       806\n",
      "   macro avg       0.51      0.50      0.41       806\n",
      "weighted avg       0.57      0.68      0.55       806\n",
      "\n"
     ]
    }
   ],
   "source": [
    "# Utilização do modelo \"SVC\"\n",
    "\n",
    "x = df_desemprego_relacionados[['PIB', 'Crescimento Populacional', 'Usuários Internet']]\n",
    "y = df_desemprego_relacionados['Desemprego']\n",
    "\n",
    "#Define a ordem dos números aleatórios e retira a aleatoriedade da separação dos dados de treino e teste.\n",
    "SEED = 5\n",
    "np.random.seed(SEED)\n",
    "\n",
    "treino_x_bruto_svc, teste_x_bruto_svc, treino_y_svc, teste_y_svc = train_test_split(x, y, random_state = SEED, test_size=0.25, stratify=y)\n",
    "#O parâmetro \"stratify=y\" orienta o algoritmo a estratificar (separar proporcionalmente) os dados de acordo com o \"y\".\n",
    "\n",
    "#Reescalando os dados para uma faixa similar a todos.\n",
    "scaler = StandardScaler()\n",
    "scaler.fit(treino_x_bruto_svc)\n",
    "treino_x = scaler.transform(treino_x_bruto_svc)\n",
    "teste_x = scaler.transform(teste_x_bruto_svc)\n",
    "\n",
    "classificar(SVC(), treino_x_bruto_svc, teste_x_bruto_svc, treino_y_svc, teste_y_svc, \"SVC\")"
   ]
  },
  {
   "cell_type": "markdown",
   "metadata": {},
   "source": [
    "#### Aplicação do \"Gaussian Naive Bayes\" e sua respectiva acurácia."
   ]
  },
  {
   "cell_type": "code",
   "execution_count": 13,
   "metadata": {},
   "outputs": [
    {
     "name": "stdout",
     "output_type": "stream",
     "text": [
      "*********  Gaussian Naive Bayes  *********\n",
      "Acurácia treinamento: 67.36%\n",
      "Acurácia previsão: 67.74%\n",
      "\n",
      "<< Matriz de confusão >>\n",
      "Predito  0.0  1.0  All\n",
      "Real                  \n",
      "0.0      541    6  547\n",
      "1.0      254    5  259\n",
      "All      795   11  806\n",
      "\n",
      "<< Relatório de classificação >>\n",
      "              precision    recall  f1-score   support\n",
      "\n",
      "         0.0       0.68      0.99      0.81       547\n",
      "         1.0       0.45      0.02      0.04       259\n",
      "\n",
      "    accuracy                           0.68       806\n",
      "   macro avg       0.57      0.50      0.42       806\n",
      "weighted avg       0.61      0.68      0.56       806\n",
      "\n"
     ]
    }
   ],
   "source": [
    "x = df_desemprego_relacionados[['PIB', 'Crescimento Populacional', 'Usuários Internet']]\n",
    "y = df_desemprego_relacionados['Desemprego']\n",
    "\n",
    "#Define a ordem dos números aleatórios e tetira a aleatoriedade da separação dos dados de treino e teste.\n",
    "SEED = 20\n",
    "np.random.seed(SEED)\n",
    "\n",
    "treino_x_bruto_nb, teste_x_bruto_nb, treino_y_nb, teste_y_nb = train_test_split(x, y, random_state = SEED, test_size=0.25, stratify=y)\n",
    "#O parâmetro \"stratify=y\" orienta o algoritmo a estratificar (separar proporcionalmente) os dados de acordo com o \"y\".\n",
    "\n",
    "classificar(GaussianNB(), treino_x_bruto_nb, teste_x_bruto_nb, treino_y_nb, teste_y_nb, \"Gaussian Naive Bayes\")"
   ]
  },
  {
   "cell_type": "markdown",
   "metadata": {},
   "source": [
    "#### Aplicação do \"Decision Tree Classifier\" e sua respectiva acurácia. Além disso, é exibido um gráfico para a análise das decisões tomadas pelo algoritmo."
   ]
  },
  {
   "cell_type": "code",
   "execution_count": 14,
   "metadata": {},
   "outputs": [
    {
     "name": "stdout",
     "output_type": "stream",
     "text": [
      "*********  DecisionTreeClassifier  *********\n",
      "Acurácia treinamento: 68.43%\n",
      "Acurácia previsão: 65.38%\n",
      "\n",
      "<< Matriz de confusão >>\n",
      "Predito  0.0  1.0  All\n",
      "Real                  \n",
      "0.0      493   54  547\n",
      "1.0      225   34  259\n",
      "All      718   88  806\n",
      "\n",
      "<< Relatório de classificação >>\n",
      "              precision    recall  f1-score   support\n",
      "\n",
      "         0.0       0.69      0.90      0.78       547\n",
      "         1.0       0.39      0.13      0.20       259\n",
      "\n",
      "    accuracy                           0.65       806\n",
      "   macro avg       0.54      0.52      0.49       806\n",
      "weighted avg       0.59      0.65      0.59       806\n",
      "\n"
     ]
    }
   ],
   "source": [
    "x = df_desemprego_relacionados[['PIB', 'Crescimento Populacional', 'Usuários Internet']]\n",
    "y = df_desemprego_relacionados['Desemprego']\n",
    "\n",
    "#Define a ordem dos números aleatórios e tetira a aleatoriedade da separação dos dados de treino e teste.\n",
    "SEED = 20\n",
    "np.random.seed(SEED)\n",
    "\n",
    "treino_x_bruto_dtc, teste_x_bruto_dtc, treino_y_dtc, teste_y_dtc = train_test_split(x, y, random_state = SEED, test_size=0.25, stratify=y)\n",
    "#O parâmetro \"stratify=y\" orienta o algoritmo a estratificar (separar proporcionalmente) os dados de acordo com o \"y\".\n",
    "\n",
    "modelo = DecisionTreeClassifier(max_depth=5)\n",
    "\n",
    "classificar(DecisionTreeClassifier(max_depth=5), treino_x_bruto_dtc, teste_x_bruto_dtc, treino_y_dtc, teste_y_dtc, \"DecisionTreeClassifier\")"
   ]
  },
  {
   "cell_type": "markdown",
   "metadata": {},
   "source": [
    "#### Essa lógica calcula qual a média de zeros do indicador de desemprego \"NY.GDP.MKTP.CD\" (coluna a ser usada na classificação binária)."
   ]
  },
  {
   "cell_type": "code",
   "execution_count": 15,
   "metadata": {},
   "outputs": [
    {
     "name": "stdout",
     "output_type": "stream",
     "text": [
      "A média de valores não preenchidos (que receberão o valor zero) é de 7.26%\n"
     ]
    }
   ],
   "source": [
    "df = df_massa_bruta_por_indicador.loc[df_massa_bruta_por_indicador['Indicator Code'] == 'NY.GDP.MKTP.CD']\n",
    "df.index = range(df.shape[0])\n",
    "df = df.iloc[:, 2:18]\n",
    "print(\"A média de valores não preenchidos (que receberão o valor zero) é de %.2f%%\" % (df.isna().mean().mean() * 100))"
   ]
  }
 ],
 "metadata": {
  "kernelspec": {
   "display_name": "Python 3",
   "language": "python",
   "name": "python3"
  },
  "language_info": {
   "codemirror_mode": {
    "name": "ipython",
    "version": 3
   },
   "file_extension": ".py",
   "mimetype": "text/x-python",
   "name": "python",
   "nbconvert_exporter": "python",
   "pygments_lexer": "ipython3",
   "version": "3.8.2"
  }
 },
 "nbformat": 4,
 "nbformat_minor": 4
}
