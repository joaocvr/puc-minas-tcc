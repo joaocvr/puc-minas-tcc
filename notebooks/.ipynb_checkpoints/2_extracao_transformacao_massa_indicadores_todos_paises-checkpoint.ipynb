{
 "cells": [
  {
   "cell_type": "markdown",
   "metadata": {},
   "source": [
    "# Extração e transformação para alcançar a massa de indicadores relevantes no período de tempo entre 1998 a 2013."
   ]
  },
  {
   "cell_type": "markdown",
   "metadata": {},
   "source": [
    "## 1. Importando libs"
   ]
  },
  {
   "cell_type": "code",
   "execution_count": 35,
   "metadata": {},
   "outputs": [],
   "source": [
    "import pandas as pd\n",
    "import numpy as np\n",
    "import zipfile"
   ]
  },
  {
   "cell_type": "markdown",
   "metadata": {},
   "source": [
    "## 2. Carregando o dataframe com todos os dados de todos os países e da faixa temporal de anos."
   ]
  },
  {
   "cell_type": "code",
   "execution_count": 6,
   "metadata": {},
   "outputs": [
    {
     "name": "stdout",
     "output_type": "stream",
     "text": [
      "Abrindo o arquivo EdStatsData.csv\n",
      "Arquivo 'EdStatsData.csv' carregado com sucesso.\n"
     ]
    }
   ],
   "source": [
    "zf = zipfile.ZipFile('../data/Edstats_csv.zip')\n",
    "text_files = zf.infolist()\n",
    "df_todos_paises = pd.DataFrame()\n",
    "for csv_file in text_files:        \n",
    "    if csv_file.filename == 'EdStatsData.csv':\n",
    "        print(\"Abrindo o arquivo\",csv_file.filename)\n",
    "        df_todos_paises = pd.read_csv(zf.open(csv_file.filename))\n",
    "        break\n",
    "\n",
    "if df_todos_paises.empty:\n",
    "    exit(\"Erro ao ler o arquivo 'EdStatsData.csv' que fica dentro do 'Edstats_csv.zip' na pasta 'data'.\")\n",
    "else:\n",
    "    print(\"Arquivo 'EdStatsData.csv' carregado com sucesso.\")"
   ]
  },
  {
   "cell_type": "markdown",
   "metadata": {},
   "source": [
    "## 3. Organizando nome de países definidos em \"lista_suja_paises\"."
   ]
  },
  {
   "cell_type": "code",
   "execution_count": 20,
   "metadata": {},
   "outputs": [],
   "source": [
    "df_lista_suja_paises = pd.read_csv('../data/lista_suja_paises.csv', sep = ';')\n",
    "\n",
    "df_lista_paises = df_lista_suja_paises.drop_duplicates()\n",
    "\n",
    "df_lista_paises.index = range(df_lista_paises.shape[0])\n",
    "\n",
    "df_lista_paises.to_csv('../data/lista_paises.csv', index = False)"
   ]
  },
  {
   "cell_type": "markdown",
   "metadata": {},
   "source": [
    "## 4. Extraindo e transformando dados referentes ao países definidos em \"lista_paises.csv\"."
   ]
  },
  {
   "cell_type": "code",
   "execution_count": 156,
   "metadata": {},
   "outputs": [],
   "source": [
    "df_todos_paises_lista_colunas = df_todos_paises.columns.tolist()\n",
    "ultima_coluna_lixo_massa = df_todos_paises_lista_colunas[len(df_todos_paises_lista_colunas)-1]\n",
    "df_todos_paises = df_todos_paises.drop([ultima_coluna_lixo_massa], axis=1)\n",
    "\n",
    "df_paises_filtrados = df_todos_paises.loc[df_todos_paises['Country Name'].isin(df_lista_paises['Country Name'])]\n",
    "\n",
    "df_lista_indicadores = pd.read_csv('../data/codigos_indicadores_relevantes.csv')\n",
    "\n",
    "df_paises_filtrados = df_todos_paises.loc[df_todos_paises['Indicator Code'].isin(df_lista_indicadores['Indicator Code'])]\n",
    "\n",
    "df_lista_anos = pd.read_csv('../data/lista_anos.csv')\n",
    "\n",
    "menor_ano = df_lista_anos.min()\n",
    "maior_ano = df_lista_anos.max()\n",
    "\n",
    "for c in df_paises_filtrados.columns:\n",
    "    if(df_paises_filtrados[c].dtype == np.float64):\n",
    "        coluna_numerica = pd.to_numeric(df_paises_filtrados[c].name, errors='coerce')\n",
    "        \n",
    "        if(coluna_numerica < menor_ano[0] or coluna_numerica > maior_ano[0]):            \n",
    "            del df_paises_filtrados[str(coluna_numerica)]\n",
    "\n",
    "df_paises_filtrados.index = range(df_paises_filtrados.shape[0])"
   ]
  },
  {
   "cell_type": "markdown",
   "metadata": {},
   "source": [
    "## 5. Seleção de países com 70% dos valores (na faixa temporal) válidos."
   ]
  },
  {
   "cell_type": "code",
   "execution_count": 173,
   "metadata": {},
   "outputs": [],
   "source": [
    "df_massa_selecionada = df_paises_filtrados.fillna(0)\n",
    "\n",
    "# Remover países com muitos valores zerados nas colunas entre 1998 a 2013\n",
    "\n",
    "paises_com_maioria_dos_campos_preenchidos = []\n",
    "for pais in df_lista_paises['Country Name']:\n",
    "    df_por_pais = df_massa_a_transformar.loc[df_massa_a_transformar['Country Name'] == pais]\n",
    "    df_por_pais = df_por_pais.drop(['Country Name', 'Country Code', 'Indicator Name', 'Indicator Code'], axis = 1)\n",
    "    df_por_pais.index = range(df_por_pais.shape[0])\n",
    "    qtd_zeros = (df_por_pais == 0).sum(1)\n",
    "    qtd_zeros = qtd_zeros.sum()\n",
    "    # Num total de 944 campos (59 indicadores * 16 anos), será aceitável, pelo menos, 30% de valores zerados.\n",
    "    if qtd_zeros <= 283:\n",
    "        paises_com_maioria_dos_campos_preenchidos.append(pais)\n",
    "\n",
    "df_massa_selecionada = df_massa_selecionada.loc[df_massa_selecionada['Country Name'].isin(paises_com_maioria_dos_campos_preenchidos)]\n",
    "\n",
    "df_massa_selecionada.index = range(df_massa_selecionada.shape[0])"
   ]
  },
  {
   "cell_type": "markdown",
   "metadata": {},
   "source": [
    "## 6. Transformação de valores da faixa temporal."
   ]
  },
  {
   "cell_type": "code",
   "execution_count": 176,
   "metadata": {},
   "outputs": [],
   "source": [
    "#df_massa_selecionada\n",
    "\n",
    "#Transformar valores zerados no total da média\n",
    "campo_series.fillna(campo_series.mean*() #preenche com a média dos valores preenchidos\n",
    "                    \n",
    "#Arredondar valores para duas casas decimais\n",
    "round(2)"
   ]
  },
  {
   "cell_type": "markdown",
   "metadata": {},
   "source": [
    "## 7. Exportar versão final do arquivo análisado e transformado."
   ]
  }
 ],
 "metadata": {
  "kernelspec": {
   "display_name": "Python 3",
   "language": "python",
   "name": "python3"
  },
  "language_info": {
   "codemirror_mode": {
    "name": "ipython",
    "version": 3
   },
   "file_extension": ".py",
   "mimetype": "text/x-python",
   "name": "python",
   "nbconvert_exporter": "python",
   "pygments_lexer": "ipython3",
   "version": "3.8.2"
  }
 },
 "nbformat": 4,
 "nbformat_minor": 4
}
