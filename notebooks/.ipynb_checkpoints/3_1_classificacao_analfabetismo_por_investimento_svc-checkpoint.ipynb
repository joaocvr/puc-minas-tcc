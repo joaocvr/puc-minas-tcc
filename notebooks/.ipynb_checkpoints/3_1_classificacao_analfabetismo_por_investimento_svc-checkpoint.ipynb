{
 "cells": [
  {
   "cell_type": "markdown",
   "metadata": {},
   "source": [
    "# 3 Classificação e previsão \n",
    "## 3.1) Quão maior os gastos e investimentos com a educação, menor será a taxa de analfabetismo?"
   ]
  },
  {
   "cell_type": "code",
   "execution_count": null,
   "metadata": {},
   "outputs": [],
   "source": [
    "!pip3 install pandas\n",
    "!pip3 install numpy\n",
    "!pip3 install sklearn"
   ]
  },
  {
   "cell_type": "code",
   "execution_count": 18,
   "metadata": {},
   "outputs": [],
   "source": [
    "import pandas as pd\n",
    "from sklearn.model_selection import train_test_split\n",
    "from sklearn.svm import SVC\n",
    "from sklearn.metrics import accuracy_score\n",
    "from sklearn.preprocessing import StandardScaler\n",
    "import numpy as np"
   ]
  },
  {
   "cell_type": "markdown",
   "metadata": {},
   "source": [
    "## 3.1.1) Carga e transformação da massa bruta de todos os indicadores e países."
   ]
  },
  {
   "cell_type": "code",
   "execution_count": 13,
   "metadata": {},
   "outputs": [],
   "source": [
    "massa_bruta_pais_por_indicadores = pd.read_csv('../data/massa_bruta_pais_por_indicadores.csv')\n",
    "\n",
    "anos = ['1998', '1999', '2000', '2001', '2002', '2003', '2004', '2005', \n",
    "        '2006', '2007', '2008', '2009', '2010', '2011', '2012', '2013']\n",
    "\n",
    "indicadores = ['UIS.LP.AG15T24', 'UIS.ILLPOP.AG25T64', 'UIS.LP.AG65',\n",
    "               'UIS.XSPENDP.FDPUB.FNS', 'UIS.XSPENDP.FDPUB.FNCAP', 'UIS.XSPENDP.FDPUB.FNNONS', \n",
    "               'UIS.XGDP.FSGOV.FDINSTADM.FFD', 'SE.XPD.TOTL.GD.ZS']\n",
    "\n",
    "indicadores_analfabetismo = ['UIS.LP.AG15T24', 'UIS.ILLPOP.AG25T64', 'UIS.LP.AG65']\n",
    "indicadores_gastos_educacao = ['UIS.XSPENDP.FDPUB.FNS', 'UIS.XSPENDP.FDPUB.FNCAP', 'UIS.XSPENDP.FDPUB.FNNONS', \n",
    "                               'UIS.XGDP.FSGOV.FDINSTADM.FFD', 'SE.XPD.TOTL.GD.ZS']\n",
    "\n",
    "paises = massa_bruta_pais_por_indicadores['Country Name'].unique()\n",
    "\n",
    "df_massa_bruta_por_indicador = massa_bruta_pais_por_indicadores.loc[massa_bruta_pais_por_indicadores['Indicator Code'].isin(indicadores)]\n",
    "\n",
    "colunas_transformacao = ['Pais', 'Indicador', '1998', '1999', '2000', '2001', '2002', '2003', \n",
    "                         '2004', '2005', '2006', '2007', '2008', '2009', '2010', '2011', '2012']\n",
    "df_resultado_transformacao = pd.DataFrame(columns=colunas_transformacao)\n",
    "\n",
    "for pais in paises:\n",
    "    df_pais = df_massa_bruta_por_indicador.loc[df_massa_bruta_por_indicador['Country Name'] == pais]\n",
    "\n",
    "    df_1998_a_2013 = df_pais.iloc[:, 2:18]\n",
    "    df_1998_a_2013.index = range(df_1998_a_2013.shape[0])\n",
    "    df_1998_a_2013 = df_1998_a_2013.fillna(0)\n",
    "   \n",
    "    indicador = df_pais['Indicator Code']\n",
    "    indicador.index = range(indicador.shape[0])\n",
    "    \n",
    "    for index, indicador in indicador.items():\n",
    "        \n",
    "        if indicador in indicadores_analfabetismo:\n",
    "            valor_1998_1999 = 1 if df_1998_a_2013['1999'].iloc[index] - df_1998_a_2013['1998'].iloc[index] > 0 else 0\n",
    "            valor_1999_2000 = 1 if df_1998_a_2013['2000'].iloc[index] - df_1998_a_2013['1999'].iloc[index] > 0 else 0\n",
    "            valor_2000_2001 = 1 if df_1998_a_2013['2001'].iloc[index] - df_1998_a_2013['2000'].iloc[index] > 0 else 0\n",
    "            valor_2001_2002 = 1 if df_1998_a_2013['2002'].iloc[index] - df_1998_a_2013['2001'].iloc[index] > 0 else 0\n",
    "            valor_2002_2003 = 1 if df_1998_a_2013['2003'].iloc[index] - df_1998_a_2013['2002'].iloc[index] > 0 else 0\n",
    "            valor_2003_2004 = 1 if df_1998_a_2013['2004'].iloc[index] - df_1998_a_2013['2003'].iloc[index] > 0 else 0\n",
    "            valor_2004_2005 = 1 if df_1998_a_2013['2005'].iloc[index] - df_1998_a_2013['2004'].iloc[index] > 0 else 0\n",
    "            valor_2005_2006 = 1 if df_1998_a_2013['2006'].iloc[index] - df_1998_a_2013['2005'].iloc[index] > 0 else 0\n",
    "            valor_2006_2007 = 1 if df_1998_a_2013['2007'].iloc[index] - df_1998_a_2013['2006'].iloc[index] > 0 else 0\n",
    "            valor_2007_2008 = 1 if df_1998_a_2013['2008'].iloc[index] - df_1998_a_2013['2007'].iloc[index] > 0 else 0\n",
    "            valor_2008_2009 = 1 if df_1998_a_2013['2009'].iloc[index] - df_1998_a_2013['2008'].iloc[index] > 0 else 0\n",
    "            valor_2009_2010 = 1 if df_1998_a_2013['2010'].iloc[index] - df_1998_a_2013['2009'].iloc[index] > 0 else 0\n",
    "            valor_2010_2011 = 1 if df_1998_a_2013['2011'].iloc[index] - df_1998_a_2013['2010'].iloc[index] > 0 else 0\n",
    "            valor_2011_2012 = 1 if df_1998_a_2013['2012'].iloc[index] - df_1998_a_2013['2011'].iloc[index] > 0 else 0\n",
    "            valor_2012_2013 = 1 if df_1998_a_2013['2013'].iloc[index] - df_1998_a_2013['2012'].iloc[index] > 0 else 0\n",
    "\n",
    "            valores = [pais, indicador, valor_1998_1999, valor_1999_2000, valor_2000_2001, valor_2001_2002, \n",
    "                       valor_2002_2003, valor_2003_2004, valor_2004_2005, valor_2005_2006, valor_2006_2007, \n",
    "                       valor_2007_2008, valor_2008_2009, valor_2009_2010, valor_2010_2011, valor_2011_2012,\n",
    "                       valor_2012_2013]\n",
    "\n",
    "            df_auxiliar = pd.DataFrame([valores], columns=colunas_transformacao)\n",
    "            df_auxiliar.index = range(df_auxiliar.shape[0])\n",
    "            df_resultado_transformacao = pd.concat([df_auxiliar, df_resultado_transformacao])\n",
    "\n",
    "        elif indicador in indicadores_gastos_educacao:\n",
    "            valores = [pais, indicador]\n",
    "            valores.extend(df_1998_a_2013.drop(columns=['2013']).iloc[index].values.tolist())\n",
    "            df_auxiliar = pd.DataFrame([valores], columns=colunas_transformacao)\n",
    "            df_auxiliar.index = range(df_auxiliar.shape[0])\n",
    "            df_resultado_transformacao = pd.concat([df_auxiliar, df_resultado_transformacao])\n",
    "\n",
    "            \n",
    "df_resultado_transformacao = df_resultado_transformacao.sort_values(['Pais'], ascending=[True])\n",
    "df_resultado_transformacao.index = range(df_resultado_transformacao.shape[0])"
   ]
  },
  {
   "cell_type": "markdown",
   "metadata": {},
   "source": [
    "## 3.1.2) Transformação e seleção para o indicador de analfabetismo entre 15 a 24 anos."
   ]
  },
  {
   "cell_type": "markdown",
   "metadata": {},
   "source": [
    "#### Transforma os indicadores em colunas."
   ]
  },
  {
   "cell_type": "code",
   "execution_count": 14,
   "metadata": {},
   "outputs": [],
   "source": [
    "indicadores_15_a_24 = ['UIS.LP.AG15T24', 'UIS.XSPENDP.FDPUB.FNS', 'UIS.XSPENDP.FDPUB.FNCAP', \n",
    "                       'UIS.XSPENDP.FDPUB.FNNONS', 'UIS.XGDP.FSGOV.FDINSTADM.FFD', 'SE.XPD.TOTL.GD.ZS']\n",
    "\n",
    "df_analfabetismo_15_a_24 = pd.DataFrame()\n",
    "\n",
    "for indicador in indicadores_15_a_24:\n",
    "    df_indicador = df_resultado_transformacao.loc[df_resultado_transformacao['Indicador'] == indicador]\n",
    "    df_periodos_indicador = df_indicador.drop(['Pais', 'Indicador'], axis=1)\n",
    "    df_periodos_indicador.index = range(df_periodos_indicador.shape[0])\n",
    "    df_periodos_indicador = df_periodos_indicador.stack()\n",
    "    df_periodos_indicador.index = range(df_periodos_indicador.shape[0])\n",
    "    df_analfabetismo_15_a_24[indicador] = df_periodos_indicador.tolist()\n",
    "\n",
    "nomes_colunas = {'UIS.LP.AG15T24': 'Analfabetismo 15 a 24', \n",
    "                 'UIS.ILLPOP.AG25T64': 'Analfabetismo 25 a 64', \n",
    "                 'UIS.LP.AG65': 'Analfabetismo 65+', \n",
    "                 'UIS.XSPENDP.FDPUB.FNS': 'Gastos Pessoas',\n",
    "                 'UIS.XSPENDP.FDPUB.FNCAP': 'Gastos Totais', \n",
    "                 'UIS.XSPENDP.FDPUB.FNNONS': 'Gastos Logística',\n",
    "                 'UIS.XGDP.FSGOV.FDINSTADM.FFD': 'Gastos Infraestrutura', \n",
    "                 'SE.XPD.TOTL.GD.ZS': 'Gastos Governo'}\n",
    "\n",
    "df_analfabetismo_15_a_24 = df_analfabetismo_15_a_24.rename(columns = nomes_colunas)"
   ]
  },
  {
   "cell_type": "markdown",
   "metadata": {},
   "source": [
    "### Análise e previsão dos dados para a taxa de analfabetismo de 15 a 24 anos."
   ]
  },
  {
   "cell_type": "markdown",
   "metadata": {},
   "source": [
    "##### 1. Testes replicáveis, estratificação e lendo dados da internet"
   ]
  },
  {
   "cell_type": "code",
   "execution_count": 17,
   "metadata": {},
   "outputs": [
    {
     "name": "stdout",
     "output_type": "stream",
     "text": [
      "2441 elementos serão usados para treino e 814 elementos para teste\n",
      "A acurácia foi de 88.94%\n"
     ]
    }
   ],
   "source": [
    "# Utilização do modelo \"SVC\"\n",
    "\n",
    "x = df_analfabetismo_15_a_24[['Gastos Pessoas', 'Gastos Totais', 'Gastos Logística', 'Gastos Infraestrutura', 'Gastos Governo']]\n",
    "y = df_analfabetismo_15_a_24['Analfabetismo 15 a 24']\n",
    "\n",
    "#Define a ordem dos números aleatórios e tetira a aleatoriedade da separação dos dados de treino e teste.\n",
    "SEED = 20\n",
    "np.random.seed(SEED)\n",
    "\n",
    "treino_x_bruto, teste_x_bruto, treino_y, teste_y = train_test_split(x, y, random_state = SEED, test_size=0.25, stratify=y)\n",
    "#O parâmetro \"stratify=y\" orienta o algoritmo a estratificar (separar proporcionalmente) os dados de acordo com o \"y\".\n",
    "\n",
    "print(\"%d elementos serão usados para treino e %d elementos para teste\" % (len(treino_x_bruto), len(teste_x_bruto)))\n",
    "\n",
    "#Reescalando os dados para uma faixa similar a todos.\n",
    "scaler = StandardScaler()\n",
    "scaler.fit(treino_x_bruto)\n",
    "treino_x = scaler.transform(treino_x_bruto)\n",
    "teste_x = scaler.transform(teste_x_bruto)\n",
    "\n",
    "modelo = SVC()\n",
    "modelo.fit(treino_x, treino_y)\n",
    "previsoes = modelo.predict(teste_x)\n",
    "acuracia = accuracy_score(teste_y, previsoes)\n",
    "print(\"A acurácia foi de %.2f%%\" % (acuracia * 100))"
   ]
  },
  {
   "cell_type": "markdown",
   "metadata": {},
   "source": [
    "## 3.1.3) Transformação e seleção para o indicador de analfabetismo entre 25 a 64 anos."
   ]
  },
  {
   "cell_type": "code",
   "execution_count": null,
   "metadata": {},
   "outputs": [],
   "source": [
    "indicadores_25_a_64 = ['UIS.ILLPOP.AG25T64', 'UIS.XSPENDP.FDPUB.FNS', 'UIS.XSPENDP.FDPUB.FNCAP', \n",
    "                       'UIS.XSPENDP.FDPUB.FNNONS', 'UIS.XGDP.FSGOV.FDINSTADM.FFD', 'SE.XPD.TOTL.GD.ZS']\n",
    "\n",
    "df_analfabetismo_25_a_64 = pd.DataFrame()"
   ]
  },
  {
   "cell_type": "markdown",
   "metadata": {},
   "source": [
    "## 3.1.4) Transformação e seleção para o indicador de analfabetismo para 65 anos ou mais."
   ]
  },
  {
   "cell_type": "code",
   "execution_count": null,
   "metadata": {},
   "outputs": [],
   "source": [
    "indicadores_65 = ['UIS.LP.AG65', 'UIS.XSPENDP.FDPUB.FNS', 'UIS.XSPENDP.FDPUB.FNCAP', \n",
    "                  'UIS.XSPENDP.FDPUB.FNNONS', 'UIS.XGDP.FSGOV.FDINSTADM.FFD', 'SE.XPD.TOTL.GD.ZS']\n",
    "\n",
    "df_analfabetismo_65 = pd.DataFrame()"
   ]
  }
 ],
 "metadata": {
  "kernelspec": {
   "display_name": "Python 3",
   "language": "python",
   "name": "python3"
  },
  "language_info": {
   "codemirror_mode": {
    "name": "ipython",
    "version": 3
   },
   "file_extension": ".py",
   "mimetype": "text/x-python",
   "name": "python",
   "nbconvert_exporter": "python",
   "pygments_lexer": "ipython3",
   "version": "3.8.2"
  }
 },
 "nbformat": 4,
 "nbformat_minor": 4
}
