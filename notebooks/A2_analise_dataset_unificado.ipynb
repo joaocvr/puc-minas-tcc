{
 "cells": [
  {
   "cell_type": "markdown",
   "metadata": {},
   "source": [
    "# Análise do dataset resultante da transformação e unificação dos dados (\"Etapa 4\")."
   ]
  },
  {
   "cell_type": "markdown",
   "metadata": {},
   "source": [
    "## 1. Instalando e importando as bibliotecas utlizadas nesse notebook."
   ]
  },
  {
   "cell_type": "code",
   "execution_count": 156,
   "metadata": {},
   "outputs": [
    {
     "name": "stdout",
     "output_type": "stream",
     "text": [
      "Requirement already satisfied: pandas in /home/joca/.local/lib/python3.8/site-packages (1.0.5)\n",
      "Requirement already satisfied: python-dateutil>=2.6.1 in /usr/lib/python3/dist-packages (from pandas) (2.7.3)\n",
      "Requirement already satisfied: pytz>=2017.2 in /usr/lib/python3/dist-packages (from pandas) (2019.3)\n",
      "Requirement already satisfied: numpy>=1.13.3 in /home/joca/.local/lib/python3.8/site-packages (from pandas) (1.19.0)\n",
      "Requirement already satisfied: numpy in /home/joca/.local/lib/python3.8/site-packages (1.19.0)\n",
      "Requirement already satisfied: matplotlib in /home/joca/.local/lib/python3.8/site-packages (3.2.2)\n",
      "Requirement already satisfied: numpy>=1.11 in /home/joca/.local/lib/python3.8/site-packages (from matplotlib) (1.19.0)\n",
      "Requirement already satisfied: python-dateutil>=2.1 in /usr/lib/python3/dist-packages (from matplotlib) (2.7.3)\n",
      "Requirement already satisfied: cycler>=0.10 in /home/joca/.local/lib/python3.8/site-packages (from matplotlib) (0.10.0)\n",
      "Requirement already satisfied: pyparsing!=2.0.4,!=2.1.2,!=2.1.6,>=2.0.1 in /usr/lib/python3/dist-packages (from matplotlib) (2.4.6)\n",
      "Requirement already satisfied: kiwisolver>=1.0.1 in /home/joca/.local/lib/python3.8/site-packages (from matplotlib) (1.2.0)\n",
      "Requirement already satisfied: six in /usr/lib/python3/dist-packages (from cycler>=0.10->matplotlib) (1.14.0)\n",
      "Requirement already satisfied: seaborn in /home/joca/.local/lib/python3.8/site-packages (0.9.0)\n",
      "Requirement already satisfied: numpy>=1.9.3 in /home/joca/.local/lib/python3.8/site-packages (from seaborn) (1.19.0)\n",
      "Requirement already satisfied: matplotlib>=1.4.3 in /home/joca/.local/lib/python3.8/site-packages (from seaborn) (3.2.2)\n",
      "Requirement already satisfied: pandas>=0.15.2 in /home/joca/.local/lib/python3.8/site-packages (from seaborn) (1.0.5)\n",
      "Requirement already satisfied: scipy>=0.14.0 in /home/joca/.local/lib/python3.8/site-packages (from seaborn) (1.5.1)\n",
      "Requirement already satisfied: pyparsing!=2.0.4,!=2.1.2,!=2.1.6,>=2.0.1 in /usr/lib/python3/dist-packages (from matplotlib>=1.4.3->seaborn) (2.4.6)\n",
      "Requirement already satisfied: kiwisolver>=1.0.1 in /home/joca/.local/lib/python3.8/site-packages (from matplotlib>=1.4.3->seaborn) (1.2.0)\n",
      "Requirement already satisfied: python-dateutil>=2.1 in /usr/lib/python3/dist-packages (from matplotlib>=1.4.3->seaborn) (2.7.3)\n",
      "Requirement already satisfied: cycler>=0.10 in /home/joca/.local/lib/python3.8/site-packages (from matplotlib>=1.4.3->seaborn) (0.10.0)\n",
      "Requirement already satisfied: pytz>=2017.2 in /usr/lib/python3/dist-packages (from pandas>=0.15.2->seaborn) (2019.3)\n",
      "Requirement already satisfied: six in /usr/lib/python3/dist-packages (from cycler>=0.10->matplotlib>=1.4.3->seaborn) (1.14.0)\n"
     ]
    }
   ],
   "source": [
    "!pip3 install pandas\n",
    "!pip3 install numpy\n",
    "!pip3 install matplotlib\n",
    "!pip3 install seaborn"
   ]
  },
  {
   "cell_type": "code",
   "execution_count": 1,
   "metadata": {},
   "outputs": [],
   "source": [
    "import pandas as pd\n",
    "import numpy as np\n",
    "from matplotlib import pyplot as plt\n",
    "import seaborn as sns"
   ]
  },
  {
   "cell_type": "markdown",
   "metadata": {},
   "source": [
    "## 2. Carga do dataset a ser utilizado para ser analisado."
   ]
  },
  {
   "cell_type": "markdown",
   "metadata": {},
   "source": [
    "#### Nessa etapa serão carregados os datasets:\n",
    "- \"final_transformacao_dados_unificados_aids_indicadores.csv\": resultado do notebook \"4_transformacao_unificacao_datasets\".\n",
    "- \"massa_bruta_pais_por_indicadores_aids.csv\": resultado do notebook \"2_extracao_transformacao_massa_indicadores_todos_paises_aids\"."
   ]
  },
  {
   "cell_type": "code",
   "execution_count": 2,
   "metadata": {},
   "outputs": [
    {
     "data": {
      "text/html": [
       "<div>\n",
       "<style scoped>\n",
       "    .dataframe tbody tr th:only-of-type {\n",
       "        vertical-align: middle;\n",
       "    }\n",
       "\n",
       "    .dataframe tbody tr th {\n",
       "        vertical-align: top;\n",
       "    }\n",
       "\n",
       "    .dataframe thead th {\n",
       "        text-align: right;\n",
       "    }\n",
       "</style>\n",
       "<table border=\"1\" class=\"dataframe\">\n",
       "  <thead>\n",
       "    <tr style=\"text-align: right;\">\n",
       "      <th></th>\n",
       "      <th>AIDS</th>\n",
       "      <th>PIB</th>\n",
       "      <th>Usuários Internet</th>\n",
       "      <th>Crescimento Populacional</th>\n",
       "      <th>Desemprego</th>\n",
       "      <th>Investimentos Educação</th>\n",
       "      <th>Analfabetismo 15 e 24</th>\n",
       "      <th>Analfabetismo 25 e 64</th>\n",
       "      <th>Qtd Professores EF</th>\n",
       "      <th>Crianças Fora Escola</th>\n",
       "      <th>Qtd Alunos por professor</th>\n",
       "      <th>Qtd Alunos EF</th>\n",
       "    </tr>\n",
       "  </thead>\n",
       "  <tbody>\n",
       "    <tr>\n",
       "      <th>0</th>\n",
       "      <td>1.0</td>\n",
       "      <td>15.94</td>\n",
       "      <td>4.00</td>\n",
       "      <td>2.81</td>\n",
       "      <td>8.1</td>\n",
       "      <td>3.46</td>\n",
       "      <td>2947366.0</td>\n",
       "      <td>6844551.6</td>\n",
       "      <td>118858.0</td>\n",
       "      <td>8.97</td>\n",
       "      <td>44.42</td>\n",
       "      <td>91.03</td>\n",
       "    </tr>\n",
       "    <tr>\n",
       "      <th>1</th>\n",
       "      <td>1.0</td>\n",
       "      <td>17.93</td>\n",
       "      <td>5.00</td>\n",
       "      <td>3.10</td>\n",
       "      <td>8.2</td>\n",
       "      <td>3.44</td>\n",
       "      <td>2947366.0</td>\n",
       "      <td>6844551.6</td>\n",
       "      <td>121593.0</td>\n",
       "      <td>8.97</td>\n",
       "      <td>43.52</td>\n",
       "      <td>91.03</td>\n",
       "    </tr>\n",
       "    <tr>\n",
       "      <th>2</th>\n",
       "      <td>1.0</td>\n",
       "      <td>20.54</td>\n",
       "      <td>5.45</td>\n",
       "      <td>3.27</td>\n",
       "      <td>8.0</td>\n",
       "      <td>2.53</td>\n",
       "      <td>2947366.0</td>\n",
       "      <td>6844551.6</td>\n",
       "      <td>129093.0</td>\n",
       "      <td>8.97</td>\n",
       "      <td>44.68</td>\n",
       "      <td>91.03</td>\n",
       "    </tr>\n",
       "    <tr>\n",
       "      <th>3</th>\n",
       "      <td>1.0</td>\n",
       "      <td>20.05</td>\n",
       "      <td>5.90</td>\n",
       "      <td>3.32</td>\n",
       "      <td>8.4</td>\n",
       "      <td>3.48</td>\n",
       "      <td>2947366.0</td>\n",
       "      <td>6844551.6</td>\n",
       "      <td>130957.0</td>\n",
       "      <td>8.97</td>\n",
       "      <td>45.71</td>\n",
       "      <td>91.03</td>\n",
       "    </tr>\n",
       "    <tr>\n",
       "      <th>4</th>\n",
       "      <td>1.0</td>\n",
       "      <td>20.05</td>\n",
       "      <td>7.00</td>\n",
       "      <td>3.18</td>\n",
       "      <td>8.6</td>\n",
       "      <td>3.78</td>\n",
       "      <td>2947366.0</td>\n",
       "      <td>6844551.6</td>\n",
       "      <td>130957.0</td>\n",
       "      <td>8.97</td>\n",
       "      <td>45.71</td>\n",
       "      <td>91.03</td>\n",
       "    </tr>\n",
       "  </tbody>\n",
       "</table>\n",
       "</div>"
      ],
      "text/plain": [
       "   AIDS    PIB  Usuários Internet  Crescimento Populacional  Desemprego  \\\n",
       "0   1.0  15.94               4.00                      2.81         8.1   \n",
       "1   1.0  17.93               5.00                      3.10         8.2   \n",
       "2   1.0  20.54               5.45                      3.27         8.0   \n",
       "3   1.0  20.05               5.90                      3.32         8.4   \n",
       "4   1.0  20.05               7.00                      3.18         8.6   \n",
       "\n",
       "   Investimentos Educação  Analfabetismo 15 e 24  Analfabetismo 25 e 64  \\\n",
       "0                    3.46              2947366.0              6844551.6   \n",
       "1                    3.44              2947366.0              6844551.6   \n",
       "2                    2.53              2947366.0              6844551.6   \n",
       "3                    3.48              2947366.0              6844551.6   \n",
       "4                    3.78              2947366.0              6844551.6   \n",
       "\n",
       "   Qtd Professores EF  Crianças Fora Escola  Qtd Alunos por professor  \\\n",
       "0            118858.0                  8.97                     44.42   \n",
       "1            121593.0                  8.97                     43.52   \n",
       "2            129093.0                  8.97                     44.68   \n",
       "3            130957.0                  8.97                     45.71   \n",
       "4            130957.0                  8.97                     45.71   \n",
       "\n",
       "   Qtd Alunos EF  \n",
       "0          91.03  \n",
       "1          91.03  \n",
       "2          91.03  \n",
       "3          91.03  \n",
       "4          91.03  "
      ]
     },
     "execution_count": 2,
     "metadata": {},
     "output_type": "execute_result"
    }
   ],
   "source": [
    "df_analise = pd.read_csv('../data/final_transformacao_dados_unificados_aids_indicadores.csv')\n",
    "\n",
    "df_analise.head()"
   ]
  },
  {
   "cell_type": "code",
   "execution_count": 3,
   "metadata": {},
   "outputs": [
    {
     "data": {
      "text/html": [
       "<div>\n",
       "<style scoped>\n",
       "    .dataframe tbody tr th:only-of-type {\n",
       "        vertical-align: middle;\n",
       "    }\n",
       "\n",
       "    .dataframe tbody tr th {\n",
       "        vertical-align: top;\n",
       "    }\n",
       "\n",
       "    .dataframe thead th {\n",
       "        text-align: right;\n",
       "    }\n",
       "</style>\n",
       "<table border=\"1\" class=\"dataframe\">\n",
       "  <thead>\n",
       "    <tr style=\"text-align: right;\">\n",
       "      <th></th>\n",
       "      <th>Country Name</th>\n",
       "      <th>Indicator Code</th>\n",
       "      <th>2010</th>\n",
       "      <th>2011</th>\n",
       "      <th>2012</th>\n",
       "      <th>2013</th>\n",
       "      <th>2014</th>\n",
       "      <th>2015</th>\n",
       "      <th>2016</th>\n",
       "    </tr>\n",
       "  </thead>\n",
       "  <tbody>\n",
       "    <tr>\n",
       "      <th>0</th>\n",
       "      <td>Afghanistan</td>\n",
       "      <td>SE.PRM.TENR</td>\n",
       "      <td>0.000000e+00</td>\n",
       "      <td>0.000000e+00</td>\n",
       "      <td>0.000000e+00</td>\n",
       "      <td>0.000000e+00</td>\n",
       "      <td>0.000000e+00</td>\n",
       "      <td>0.000000e+00</td>\n",
       "      <td>0.000000e+00</td>\n",
       "    </tr>\n",
       "    <tr>\n",
       "      <th>1</th>\n",
       "      <td>Afghanistan</td>\n",
       "      <td>NY.GDP.MKTP.CD</td>\n",
       "      <td>1.593680e+10</td>\n",
       "      <td>1.793024e+10</td>\n",
       "      <td>2.053654e+10</td>\n",
       "      <td>2.004633e+10</td>\n",
       "      <td>2.005019e+10</td>\n",
       "      <td>1.921556e+10</td>\n",
       "      <td>1.946902e+10</td>\n",
       "    </tr>\n",
       "    <tr>\n",
       "      <th>2</th>\n",
       "      <td>Afghanistan</td>\n",
       "      <td>SE.XPD.TOTL.GD.ZS</td>\n",
       "      <td>3.460000e+00</td>\n",
       "      <td>3.440000e+00</td>\n",
       "      <td>2.530000e+00</td>\n",
       "      <td>3.480000e+00</td>\n",
       "      <td>3.780000e+00</td>\n",
       "      <td>3.320000e+00</td>\n",
       "      <td>0.000000e+00</td>\n",
       "    </tr>\n",
       "    <tr>\n",
       "      <th>3</th>\n",
       "      <td>Afghanistan</td>\n",
       "      <td>UIS.ILLPOP.AG25T64</td>\n",
       "      <td>0.000000e+00</td>\n",
       "      <td>6.844552e+06</td>\n",
       "      <td>0.000000e+00</td>\n",
       "      <td>0.000000e+00</td>\n",
       "      <td>0.000000e+00</td>\n",
       "      <td>0.000000e+00</td>\n",
       "      <td>0.000000e+00</td>\n",
       "    </tr>\n",
       "    <tr>\n",
       "      <th>4</th>\n",
       "      <td>Afghanistan</td>\n",
       "      <td>IT.NET.USER.P2</td>\n",
       "      <td>4.000000e+00</td>\n",
       "      <td>5.000000e+00</td>\n",
       "      <td>5.450000e+00</td>\n",
       "      <td>5.900000e+00</td>\n",
       "      <td>7.000000e+00</td>\n",
       "      <td>8.260000e+00</td>\n",
       "      <td>1.060000e+01</td>\n",
       "    </tr>\n",
       "  </tbody>\n",
       "</table>\n",
       "</div>"
      ],
      "text/plain": [
       "  Country Name      Indicator Code          2010          2011          2012  \\\n",
       "0  Afghanistan         SE.PRM.TENR  0.000000e+00  0.000000e+00  0.000000e+00   \n",
       "1  Afghanistan      NY.GDP.MKTP.CD  1.593680e+10  1.793024e+10  2.053654e+10   \n",
       "2  Afghanistan   SE.XPD.TOTL.GD.ZS  3.460000e+00  3.440000e+00  2.530000e+00   \n",
       "3  Afghanistan  UIS.ILLPOP.AG25T64  0.000000e+00  6.844552e+06  0.000000e+00   \n",
       "4  Afghanistan      IT.NET.USER.P2  4.000000e+00  5.000000e+00  5.450000e+00   \n",
       "\n",
       "           2013          2014          2015          2016  \n",
       "0  0.000000e+00  0.000000e+00  0.000000e+00  0.000000e+00  \n",
       "1  2.004633e+10  2.005019e+10  1.921556e+10  1.946902e+10  \n",
       "2  3.480000e+00  3.780000e+00  3.320000e+00  0.000000e+00  \n",
       "3  0.000000e+00  0.000000e+00  0.000000e+00  0.000000e+00  \n",
       "4  5.900000e+00  7.000000e+00  8.260000e+00  1.060000e+01  "
      ]
     },
     "execution_count": 3,
     "metadata": {},
     "output_type": "execute_result"
    }
   ],
   "source": [
    "df_analise_indicadores = pd.read_csv('../data/massa_bruta_pais_por_indicadores_aids.csv')\n",
    "\n",
    "df_analise_indicadores.head()"
   ]
  },
  {
   "cell_type": "markdown",
   "metadata": {},
   "source": [
    "## 3. Análise de cada coluna presente no dataset."
   ]
  },
  {
   "cell_type": "markdown",
   "metadata": {},
   "source": [
    "### \"AIDS\""
   ]
  },
  {
   "cell_type": "code",
   "execution_count": 5,
   "metadata": {},
   "outputs": [
    {
     "data": {
      "text/plain": [
       "0.0    499\n",
       "1.0    119\n",
       "Name: AIDS, dtype: int64"
      ]
     },
     "execution_count": 5,
     "metadata": {},
     "output_type": "execute_result"
    }
   ],
   "source": [
    "df_analise['AIDS'].value_counts()"
   ]
  },
  {
   "cell_type": "code",
   "execution_count": 11,
   "metadata": {},
   "outputs": [
    {
     "data": {
      "image/png": "[encoded data removed]",
      "text/plain": [
       "<Figure size 432x288 with 1 Axes>"
      ]
     },
     "metadata": {
      "needs_background": "light"
     },
     "output_type": "display_data"
    }
   ],
   "source": [
    "sns.distplot(df_analise['AIDS'])\n",
    "\n",
    "plt.savefig('../plots/aids.png')"
   ]
  },
  {
   "cell_type": "markdown",
   "metadata": {},
   "source": [
    "### PIB do país"
   ]
  },
  {
   "cell_type": "code",
   "execution_count": 172,
   "metadata": {},
   "outputs": [
    {
     "name": "stdout",
     "output_type": "stream",
     "text": [
      "Total de registros com valores vazios 13\n",
      "Países com dados vazios (%) 5.99\n",
      "Países com valores acima da média (%) 14.71\n",
      "Países donos dos 10 maiores PIB: United States, China, Japan, Germany, United Kingdom, France, Brazil, Italy, India, Russian Federation\n"
     ]
    },
    {
     "data": {
      "text/plain": [
       "count     217.00\n",
       "mean       48.56\n",
       "std       201.80\n",
       "min         0.00\n",
       "25%         0.57\n",
       "50%         2.77\n",
       "75%        23.74\n",
       "max      2397.29\n",
       "Name: Media Bi, dtype: float64"
      ]
     },
     "execution_count": 172,
     "metadata": {},
     "output_type": "execute_result"
    }
   ],
   "source": [
    "df_analise_pib = df_analise_indicadores.loc[df_analise_indicadores['Indicator Code'].isin(['NY.GDP.MKTP.CD'])]\n",
    "\n",
    "df_analise_pib = df_analise_pib.drop(columns=['Indicator Code'])\n",
    "\n",
    "df_analise_pib.index = range(df_analise_pib.shape[0])\n",
    "\n",
    "df_analise_pib = df_analise_pib.replace(0, np.nan)\n",
    "\n",
    "df_analise_pib['Media Bi'] = df_analise_pib.loc[: , \"2010\":\"2016\"].mean(axis=1).round(2)\n",
    "\n",
    "df_analise_pib['Media Bi'] = df_analise_pib['Media Bi'].divide(7000000000).round(2)\n",
    "\n",
    "srs_paises = df_analise_pib['Media Bi']\n",
    "\n",
    "qtd_total_paises = srs_paises.size\n",
    "qtd_preenchidos = srs_paises.count()\n",
    "qtd_vazios = (qtd_total_paises - qtd_preenchidos)\n",
    "print(\"Total de registros com valores vazios\", qtd_vazios)\n",
    "print(\"Países com dados vazios (%)\", ((qtd_vazios*100)/qtd_total_paises).round(2))\n",
    "\n",
    "qtd_paises_pib_acima_media = (srs_paises > srs_paises.mean()).sum()\n",
    "print(\"Países com valores acima da média (%)\", round(((qtd_paises_pib_acima_media*100)/srs_paises.count()), 2))\n",
    "\n",
    "paises_maiores_pib = df_analise_pib.sort_values('Media Bi', ascending=False).head(10)['Country Name'].to_list()\n",
    "nomes_paises = ', '.join(paises_maiores_pib)\n",
    "print(\"Países donos dos 10 maiores PIB:\", nomes_paises)\n",
    "\n",
    "df_analise_pib = df_analise_pib['Media Bi'].fillna(0)\n",
    "\n",
    "df_analise_pib.describe().round(2)"
   ]
  },
  {
   "cell_type": "code",
   "execution_count": 173,
   "metadata": {},
   "outputs": [
    {
     "data": {
      "image/png": "[encoded data removed]",
      "text/plain": [
       "<Figure size 432x288 with 1 Axes>"
      ]
     },
     "metadata": {
      "needs_background": "light"
     },
     "output_type": "display_data"
    }
   ],
   "source": [
    "fig, ax = plt.subplots()\n",
    "ax.plot(df_analise_pib)\n",
    "\n",
    "plt.savefig('../plots/pib.png')"
   ]
  },
  {
   "cell_type": "markdown",
   "metadata": {},
   "source": [
    "### Usuários de Internet"
   ]
  },
  {
   "cell_type": "code",
   "execution_count": 4,
   "metadata": {},
   "outputs": [
    {
     "name": "stdout",
     "output_type": "stream",
     "text": [
      "Total de registros com valores vazios 14\n",
      "Países com dados vazios (%) 6.45\n",
      "Países com valores acima da média (%) 50.25\n",
      "Países 10 maiores valores: Iceland, Norway, Luxembourg, Denmark, Bermuda, Sweden, Netherlands, Liechtenstein, Andorra, United Kingdom\n"
     ]
    },
    {
     "data": {
      "text/plain": [
       "count    217.00\n",
       "mean      40.22\n",
       "std       29.13\n",
       "min        0.00\n",
       "25%       13.37\n",
       "50%       39.40\n",
       "75%       64.77\n",
       "max       96.51\n",
       "Name: Media, dtype: float64"
      ]
     },
     "execution_count": 4,
     "metadata": {},
     "output_type": "execute_result"
    }
   ],
   "source": [
    "df_analise_internet = df_analise_indicadores.loc[df_analise_indicadores['Indicator Code'].isin(['IT.NET.USER.P2'])]\n",
    "\n",
    "df_analise_internet = df_analise_internet.drop(columns=['Indicator Code'])\n",
    "\n",
    "df_analise_internet.index = range(df_analise_internet.shape[0])\n",
    "\n",
    "df_analise_internet = df_analise_internet.replace(0, np.nan)\n",
    "\n",
    "df_analise_internet['Media'] = df_analise_internet.loc[: , \"2010\":\"2016\"].mean(axis=1).round(2)\n",
    "\n",
    "srs_paises = df_analise_internet['Media']\n",
    "\n",
    "qtd_total_paises = srs_paises.size\n",
    "qtd_preenchidos = srs_paises.count()\n",
    "qtd_vazios = (qtd_total_paises - qtd_preenchidos)\n",
    "print(\"Total de registros com valores vazios\", qtd_vazios)\n",
    "print(\"Países com dados vazios (%)\", ((qtd_vazios*100)/qtd_total_paises).round(2))\n",
    "\n",
    "qtd_paises_pib_acima_media = (srs_paises > srs_paises.mean()).sum()\n",
    "print(\"Países com valores acima da média (%)\", round(((qtd_paises_pib_acima_media*100)/srs_paises.count()), 2))\n",
    "\n",
    "paises_maiores = df_analise_internet.sort_values('Media', ascending=False).head(10)['Country Name'].to_list()\n",
    "nomes_paises = ', '.join(paises_maiores)\n",
    "print(\"Países 10 maiores valores:\", nomes_paises)\n",
    "\n",
    "df_analise_internet = df_analise_internet['Media'].fillna(0)\n",
    "\n",
    "df_analise_internet.describe().round(2)"
   ]
  },
  {
   "cell_type": "code",
   "execution_count": 5,
   "metadata": {},
   "outputs": [
    {
     "data": {
      "image/png": "[encoded data removed]",
      "text/plain": [
       "<Figure size 432x288 with 1 Axes>"
      ]
     },
     "metadata": {
      "needs_background": "light"
     },
     "output_type": "display_data"
    }
   ],
   "source": [
    "fig, ax = plt.subplots()\n",
    "ax.boxplot(df_analise_internet)\n",
    "\n",
    "plt.savefig('../plots/usuários_internet.png')"
   ]
  },
  {
   "cell_type": "markdown",
   "metadata": {},
   "source": [
    "### Crescimento Populacional Anual"
   ]
  },
  {
   "cell_type": "code",
   "execution_count": 6,
   "metadata": {},
   "outputs": [
    {
     "name": "stdout",
     "output_type": "stream",
     "text": [
      "Total de registros com valores vazios 2\n",
      "Países com dados vazios (%) 0.92\n",
      "Países com valores acima da média (%) 44.65\n",
      "Países 10 maiores valores: Qatar, Oman, Kuwait, Lebanon, Jordan, South Sudan, Equatorial Guinea, Niger, Angola, Uganda\n",
      "Quantidade países com taxa negativa de crescimento populacional 25\n",
      "Nome dos países com taxa negativa de crescimento populacional Albania, American Samoa, Andorra, Bermuda, Bosnia and Herzegovina, Bulgaria, Croatia, Estonia, Georgia, Greece, Greenland, Hungary, Japan, Latvia, Lithuania, Moldova, Northern Mariana Islands, Poland, Portugal, Puerto Rico, Romania, Serbia, Syrian Arab Republic, Ukraine, Virgin Islands (U.S.)\n"
     ]
    },
    {
     "data": {
      "text/plain": [
       "count    217.00\n",
       "mean       1.35\n",
       "std        1.32\n",
       "min       -1.75\n",
       "25%        0.44\n",
       "50%        1.17\n",
       "75%        2.18\n",
       "max        6.85\n",
       "Name: Media, dtype: float64"
      ]
     },
     "execution_count": 6,
     "metadata": {},
     "output_type": "execute_result"
    }
   ],
   "source": [
    "df_analise_pop = df_analise_indicadores.loc[df_analise_indicadores['Indicator Code'].isin(['SP.POP.GROW'])]\n",
    "\n",
    "df_analise_pop = df_analise_pop.drop(columns=['Indicator Code'])\n",
    "\n",
    "df_analise_pop.index = range(df_analise_pop.shape[0])\n",
    "\n",
    "df_analise_pop = df_analise_pop.replace(0, np.nan)\n",
    "\n",
    "df_analise_pop['Media'] = df_analise_pop.loc[: , \"2010\":\"2016\"].mean(axis=1).round(2)\n",
    "\n",
    "srs_paises = df_analise_pop['Media']\n",
    "\n",
    "qtd_total_paises = srs_paises.size\n",
    "qtd_preenchidos = srs_paises.count()\n",
    "qtd_vazios = (qtd_total_paises - qtd_preenchidos)\n",
    "print(\"Total de registros com valores vazios\", qtd_vazios)\n",
    "print(\"Países com dados vazios (%)\", ((qtd_vazios*100)/qtd_total_paises).round(2))\n",
    "\n",
    "qtd_paises_pib_acima_media = (srs_paises > srs_paises.mean()).sum()\n",
    "print(\"Países com valores acima da média (%)\", round(((qtd_paises_pib_acima_media*100)/srs_paises.count()), 2))\n",
    "\n",
    "paises_maiores = df_analise_pop.sort_values('Media', ascending=False).head(10)['Country Name'].to_list()\n",
    "nomes_paises = ', '.join(paises_maiores)\n",
    "print(\"Países 10 maiores valores:\", nomes_paises)\n",
    "\n",
    "df_pop_negativo = df_analise_pop[(df_analise_pop['Media'] < 0)]\n",
    "\n",
    "print(\"Quantidade países com taxa negativa de crescimento populacional\", df_pop_negativo['Country Name'].size)\n",
    "nomes_paises = ', '.join(df_pop_negativo['Country Name'].to_list())\n",
    "print(\"Nome dos países com taxa negativa de crescimento populacional\", nomes_paises)\n",
    "\n",
    "df_analise_pop = df_analise_pop['Media'].fillna(0)\n",
    "\n",
    "df_analise_pop.describe().round(2)"
   ]
  },
  {
   "cell_type": "code",
   "execution_count": 7,
   "metadata": {},
   "outputs": [
    {
     "data": {
      "image/png": "[encoded data removed]",
      "text/plain": [
       "<Figure size 432x288 with 1 Axes>"
      ]
     },
     "metadata": {
      "needs_background": "light"
     },
     "output_type": "display_data"
    }
   ],
   "source": [
    "fig, ax = plt.subplots()\n",
    "ax.boxplot(df_analise_pop)\n",
    "\n",
    "plt.savefig('../plots/crescimento_populacional.png')"
   ]
  },
  {
   "cell_type": "markdown",
   "metadata": {},
   "source": [
    "### Taxa de Desemprego"
   ]
  },
  {
   "cell_type": "code",
   "execution_count": 8,
   "metadata": {},
   "outputs": [
    {
     "name": "stdout",
     "output_type": "stream",
     "text": [
      "Total de registros com valores vazios 31\n",
      "Países com dados vazios (%) 14.29\n",
      "Países com valores acima da média (%) 36.02\n",
      "Países 10 maiores valores: Solomon Islands, Gambia, The, Macedonia, FYR, Bosnia and Herzegovina, Swaziland, Lesotho, South Africa, West Bank and Gaza, Mozambique, Spain\n"
     ]
    },
    {
     "data": {
      "text/plain": [
       "count    217.00\n",
       "mean       7.72\n",
       "std        6.68\n",
       "min        0.00\n",
       "25%        3.10\n",
       "50%        6.19\n",
       "75%       10.70\n",
       "max       31.06\n",
       "Name: Media, dtype: float64"
      ]
     },
     "execution_count": 8,
     "metadata": {},
     "output_type": "execute_result"
    }
   ],
   "source": [
    "df_analise_desemprego = df_analise_indicadores.loc[df_analise_indicadores['Indicator Code'].isin(['SL.UEM.TOTL.ZS'])]\n",
    "\n",
    "df_analise_desemprego = df_analise_desemprego.drop(columns=['Indicator Code'])\n",
    "\n",
    "df_analise_desemprego.index = range(df_analise_desemprego.shape[0])\n",
    "\n",
    "df_analise_desemprego = df_analise_desemprego.replace(0, np.nan)\n",
    "\n",
    "df_analise_desemprego['Media'] = df_analise_desemprego.loc[: , \"2010\":\"2016\"].mean(axis=1).round(2)\n",
    "\n",
    "srs_paises = df_analise_desemprego['Media']\n",
    "\n",
    "qtd_total_paises = srs_paises.size\n",
    "qtd_preenchidos = srs_paises.count()\n",
    "qtd_vazios = (qtd_total_paises - qtd_preenchidos)\n",
    "print(\"Total de registros com valores vazios\", qtd_vazios)\n",
    "print(\"Países com dados vazios (%)\", ((qtd_vazios*100)/qtd_total_paises).round(2))\n",
    "\n",
    "qtd_paises_pib_acima_media = (srs_paises > srs_paises.mean()).sum()\n",
    "print(\"Países com valores acima da média (%)\", round(((qtd_paises_pib_acima_media*100)/srs_paises.count()), 2))\n",
    "\n",
    "paises_maiores_desemprego = df_analise_desemprego.sort_values('Media', ascending=False).head(10)['Country Name'].to_list()\n",
    "nomes_paises = ', '.join(paises_maiores_desemprego)\n",
    "print(\"Países 10 maiores valores:\", nomes_paises)\n",
    "\n",
    "df_analise_desemprego = df_analise_desemprego['Media'].fillna(0)\n",
    "\n",
    "df_analise_desemprego.describe().round(2)"
   ]
  },
  {
   "cell_type": "code",
   "execution_count": 186,
   "metadata": {},
   "outputs": [
    {
     "data": {
      "image/png": "[encoded data removed]",
      "text/plain": [
       "<Figure size 432x288 with 1 Axes>"
      ]
     },
     "metadata": {
      "needs_background": "light"
     },
     "output_type": "display_data"
    }
   ],
   "source": [
    "fig, ax = plt.subplots()\n",
    "ax.boxplot(df_analise_desemprego)\n",
    "\n",
    "plt.savefig('../plots/desemprego.png')"
   ]
  },
  {
   "cell_type": "markdown",
   "metadata": {},
   "source": [
    "### Investimentos do governo na educação"
   ]
  },
  {
   "cell_type": "code",
   "execution_count": 9,
   "metadata": {},
   "outputs": [
    {
     "name": "stdout",
     "output_type": "stream",
     "text": [
      "Total de registros com valores vazios 60\n",
      "Países com dados vazios (%) 27.65\n",
      "Países com valores acima da média (%) 46.5\n",
      "Países 10 maiores valores: Cuba, Micronesia, Fed. Sts., Solomon Islands, Moldova, Namibia, Denmark, Timor-Leste, Iceland, Sweden, Malta\n"
     ]
    },
    {
     "data": {
      "text/plain": [
       "count    217.00\n",
       "mean       3.36\n",
       "std        2.62\n",
       "min        0.00\n",
       "25%        0.00\n",
       "50%        3.54\n",
       "75%        5.19\n",
       "max       12.84\n",
       "Name: Media, dtype: float64"
      ]
     },
     "execution_count": 9,
     "metadata": {},
     "output_type": "execute_result"
    }
   ],
   "source": [
    "df_analise_educacao = df_analise_indicadores.loc[df_analise_indicadores['Indicator Code'].isin(['SE.XPD.TOTL.GD.ZS'])]\n",
    "\n",
    "df_analise_educacao = df_analise_educacao.drop(columns=['Indicator Code'])\n",
    "\n",
    "df_analise_educacao.index = range(df_analise_educacao.shape[0])\n",
    "\n",
    "df_analise_educacao = df_analise_educacao.replace(0, np.nan)\n",
    "\n",
    "df_analise_educacao['Media'] = df_analise_educacao.loc[: , \"2010\":\"2016\"].mean(axis=1).round(2)\n",
    "\n",
    "srs_paises = df_analise_educacao['Media']\n",
    "\n",
    "qtd_total_paises = srs_paises.size\n",
    "qtd_preenchidos = srs_paises.count()\n",
    "qtd_vazios = (qtd_total_paises - qtd_preenchidos)\n",
    "print(\"Total de registros com valores vazios\", qtd_vazios)\n",
    "print(\"Países com dados vazios (%)\", ((qtd_vazios*100)/qtd_total_paises).round(2))\n",
    "\n",
    "qtd_paises_pib_acima_media = (srs_paises > srs_paises.mean()).sum()\n",
    "print(\"Países com valores acima da média (%)\", round(((qtd_paises_pib_acima_media*100)/srs_paises.count()), 2))\n",
    "\n",
    "paises_maiores_educacao = df_analise_educacao.sort_values('Media', ascending=False).head(10)['Country Name'].to_list()\n",
    "nomes_paises = ', '.join(paises_maiores_educacao)\n",
    "print(\"Países 10 maiores valores:\", nomes_paises)\n",
    "\n",
    "df_analise_educacao = df_analise_educacao['Media'].fillna(0)\n",
    "\n",
    "df_analise_educacao.describe().round(2)"
   ]
  },
  {
   "cell_type": "code",
   "execution_count": 195,
   "metadata": {},
   "outputs": [
    {
     "data": {
      "image/png": "[encoded data removed]",
      "text/plain": [
       "<Figure size 432x288 with 1 Axes>"
      ]
     },
     "metadata": {
      "needs_background": "light"
     },
     "output_type": "display_data"
    }
   ],
   "source": [
    "fig, ax = plt.subplots()\n",
    "ax.boxplot(df_analise_educacao)\n",
    "\n",
    "plt.savefig('../plots/investimentos_educação.png')"
   ]
  },
  {
   "cell_type": "markdown",
   "metadata": {},
   "source": [
    "### Taxa de analfabetismo entre 15 e 24 anos"
   ]
  },
  {
   "cell_type": "code",
   "execution_count": 10,
   "metadata": {},
   "outputs": [
    {
     "name": "stdout",
     "output_type": "stream",
     "text": [
      "Total de registros com valores vazios 98\n",
      "Países com dados vazios (%) 45.16\n",
      "Países com valores acima da média (%) 21.85\n",
      "Países 10 maiores valores: India, Pakistan, Bangladesh, Iraq, Afghanistan, Niger, Congo, Dem. Rep., Cote d'Ivoire, Chad, Burkina Faso\n"
     ]
    },
    {
     "data": {
      "text/plain": [
       "count         217.00\n",
       "mean       426692.85\n",
       "std       2397791.58\n",
       "min             0.00\n",
       "25%             0.00\n",
       "50%           460.00\n",
       "75%         59744.00\n",
       "max      32619767.00\n",
       "Name: Media, dtype: float64"
      ]
     },
     "execution_count": 10,
     "metadata": {},
     "output_type": "execute_result"
    }
   ],
   "source": [
    "df_analise_analfabetismo_15a24 = df_analise_indicadores.loc[df_analise_indicadores['Indicator Code'].isin(['UIS.LP.AG15T24'])]\n",
    "\n",
    "df_analise_analfabetismo_15a24 = df_analise_analfabetismo_15a24.drop(columns=['Indicator Code'])\n",
    "\n",
    "df_analise_analfabetismo_15a24.index = range(df_analise_analfabetismo_15a24.shape[0])\n",
    "\n",
    "df_analise_analfabetismo_15a24 = df_analise_analfabetismo_15a24.replace(0, np.nan)\n",
    "\n",
    "df_analise_analfabetismo_15a24['Media'] = df_analise_analfabetismo_15a24.loc[: , \"2010\":\"2016\"].mean(axis=1).round(2)\n",
    "\n",
    "srs_paises = df_analise_analfabetismo_15a24['Media']\n",
    "\n",
    "qtd_total_paises = srs_paises.size\n",
    "qtd_preenchidos = srs_paises.count()\n",
    "qtd_vazios = (qtd_total_paises - qtd_preenchidos)\n",
    "print(\"Total de registros com valores vazios\", qtd_vazios)\n",
    "print(\"Países com dados vazios (%)\", ((qtd_vazios*100)/qtd_total_paises).round(2))\n",
    "\n",
    "qtd_paises_pib_acima_media = (srs_paises > srs_paises.mean()).sum()\n",
    "print(\"Países com valores acima da média (%)\", round(((qtd_paises_pib_acima_media*100)/srs_paises.count()), 2))\n",
    "\n",
    "paises_maiores_analfab_15a24 = df_analise_analfabetismo_15a24.sort_values('Media', ascending=False).head(10)['Country Name'].to_list()\n",
    "nomes_paises = ', '.join(paises_maiores_analfab_15a24)\n",
    "print(\"Países 10 maiores valores:\", nomes_paises)\n",
    "\n",
    "df_analise_analfabetismo_15a24 = df_analise_analfabetismo_15a24['Media'].fillna(0)\n",
    "\n",
    "df_analise_analfabetismo_15a24.describe().round(2)"
   ]
  },
  {
   "cell_type": "code",
   "execution_count": 11,
   "metadata": {},
   "outputs": [
    {
     "data": {
      "image/png": "[encoded data removed]",
      "text/plain": [
       "<Figure size 432x288 with 1 Axes>"
      ]
     },
     "metadata": {
      "needs_background": "light"
     },
     "output_type": "display_data"
    }
   ],
   "source": [
    "fig, ax = plt.subplots()\n",
    "ax.plot(df_analise_analfabetismo_15a24)\n",
    "\n",
    "plt.savefig('../plots/analfabetismo_15a24.png')"
   ]
  },
  {
   "cell_type": "markdown",
   "metadata": {},
   "source": [
    "### Taxa de analfabetismo entre 25 e 64 anos"
   ]
  },
  {
   "cell_type": "code",
   "execution_count": 12,
   "metadata": {
    "scrolled": true
   },
   "outputs": [
    {
     "name": "stdout",
     "output_type": "stream",
     "text": [
      "Total de registros com valores vazios 99\n",
      "Países com dados vazios (%) 45.62\n",
      "Países com valores acima da média (%) 15.25\n",
      "Países 10 maiores valores: India, Pakistan, Bangladesh, China, Egypt, Arab Rep., Brazil, Afghanistan, Myanmar, Iraq, Congo, Dem. Rep.\n"
     ]
    },
    {
     "data": {
      "text/plain": [
       "count    2.170000e+02\n",
       "mean     2.004525e+06\n",
       "std      1.370783e+07\n",
       "min      0.000000e+00\n",
       "25%      0.000000e+00\n",
       "50%      2.305880e+03\n",
       "75%      3.839315e+05\n",
       "max      1.949955e+08\n",
       "Name: Media, dtype: float64"
      ]
     },
     "execution_count": 12,
     "metadata": {},
     "output_type": "execute_result"
    }
   ],
   "source": [
    "df_analise_analfabetismo_25a64 = df_analise_indicadores.loc[df_analise_indicadores['Indicator Code'].isin(['UIS.ILLPOP.AG25T64'])]\n",
    "\n",
    "df_analise_analfabetismo_25a64 = df_analise_analfabetismo_25a64.drop(columns=['Indicator Code'])\n",
    "\n",
    "df_analise_analfabetismo_25a64.index = range(df_analise_analfabetismo_25a64.shape[0])\n",
    "\n",
    "df_analise_analfabetismo_25a64 = df_analise_analfabetismo_25a64.replace(0, np.nan)\n",
    "\n",
    "df_analise_analfabetismo_25a64['Media'] = df_analise_analfabetismo_25a64.loc[: , \"2010\":\"2016\"].mean(axis=1).round(2)\n",
    "\n",
    "srs_paises = df_analise_analfabetismo_25a64['Media']\n",
    "\n",
    "qtd_total_paises = srs_paises.size\n",
    "qtd_preenchidos = srs_paises.count()\n",
    "qtd_vazios = (qtd_total_paises - qtd_preenchidos)\n",
    "print(\"Total de registros com valores vazios\", qtd_vazios)\n",
    "print(\"Países com dados vazios (%)\", ((qtd_vazios*100)/qtd_total_paises).round(2))\n",
    "\n",
    "qtd_paises_pib_acima_media = (srs_paises > srs_paises.mean()).sum()\n",
    "print(\"Países com valores acima da média (%)\", round(((qtd_paises_pib_acima_media*100)/srs_paises.count()), 2))\n",
    "\n",
    "paises_maiores_analfab_25a64 = df_analise_analfabetismo_25a64.sort_values('Media', ascending=False).head(10)['Country Name'].to_list()\n",
    "nomes_paises = ', '.join(paises_maiores_analfab_25a64)\n",
    "print(\"Países 10 maiores valores:\", nomes_paises)\n",
    "\n",
    "df_analise_analfabetismo_25a64 = df_analise_analfabetismo_25a64['Media'].fillna(0)\n",
    "\n",
    "df_analise_analfabetismo_25a64.describe().round(2)"
   ]
  },
  {
   "cell_type": "code",
   "execution_count": 13,
   "metadata": {},
   "outputs": [
    {
     "data": {
      "image/png": "[encoded data removed]",
      "text/plain": [
       "<Figure size 432x288 with 1 Axes>"
      ]
     },
     "metadata": {
      "needs_background": "light"
     },
     "output_type": "display_data"
    }
   ],
   "source": [
    "fig, ax = plt.subplots()\n",
    "ax.plot(df_analise_analfabetismo_25a64)\n",
    "\n",
    "plt.savefig('../plots/analfabetismo_25a64.png')"
   ]
  },
  {
   "cell_type": "markdown",
   "metadata": {},
   "source": [
    "### Quantidade de Professores no Ensino Fundamental"
   ]
  },
  {
   "cell_type": "code",
   "execution_count": 18,
   "metadata": {},
   "outputs": [
    {
     "name": "stdout",
     "output_type": "stream",
     "text": [
      "Total de registros com valores vazios 31\n",
      "Países com dados vazios (%) 14.29\n",
      "Países com valores acima da média (%) 20.43\n",
      "Países 10 maiores valores: China, India, United States, Indonesia, Brazil, Nigeria, Mexico, Philippines, Bangladesh, Egypt, Arab Rep.\n"
     ]
    },
    {
     "data": {
      "text/plain": [
       "count        217.00\n",
       "mean      130331.61\n",
       "std       524375.79\n",
       "min            0.00\n",
       "25%         1090.83\n",
       "50%        20614.33\n",
       "75%        71004.00\n",
       "max      5909928.83\n",
       "Name: Media, dtype: float64"
      ]
     },
     "execution_count": 18,
     "metadata": {},
     "output_type": "execute_result"
    }
   ],
   "source": [
    "df_analise_professores = df_analise_indicadores.loc[df_analise_indicadores['Indicator Code'].isin(['SE.PRM.TCHR'])]\n",
    "\n",
    "df_analise_professores = df_analise_professores.drop(columns=['Indicator Code'])\n",
    "\n",
    "df_analise_professores.index = range(df_analise_professores.shape[0])\n",
    "\n",
    "df_analise_professores = df_analise_professores.replace(0, np.nan)\n",
    "\n",
    "df_analise_professores['Media'] = df_analise_professores.loc[: , \"2010\":\"2016\"].mean(axis=1).round(2)\n",
    "\n",
    "srs_paises = df_analise_professores['Media']\n",
    "\n",
    "qtd_total_paises = srs_paises.size\n",
    "qtd_preenchidos = srs_paises.count()\n",
    "qtd_vazios = (qtd_total_paises - qtd_preenchidos)\n",
    "print(\"Total de registros com valores vazios\", qtd_vazios)\n",
    "print(\"Países com dados vazios (%)\", ((qtd_vazios*100)/qtd_total_paises).round(2))\n",
    "\n",
    "qtd_paises_pib_acima_media = (srs_paises > srs_paises.mean()).sum()\n",
    "print(\"Países com valores acima da média (%)\", round(((qtd_paises_pib_acima_media*100)/srs_paises.count()), 2))\n",
    "\n",
    "paises_maiores_professores = df_analise_professores.sort_values('Media', ascending=False).head(10)['Country Name'].to_list()\n",
    "nomes_paises = ', '.join(paises_maiores_professores)\n",
    "print(\"Países 10 maiores valores:\", nomes_paises)\n",
    "\n",
    "df_analise_professores = df_analise_professores['Media'].fillna(0)\n",
    "\n",
    "df_analise_professores.describe().round(2)"
   ]
  },
  {
   "cell_type": "code",
   "execution_count": 19,
   "metadata": {},
   "outputs": [
    {
     "data": {
      "image/png": "[encoded data removed]",
      "text/plain": [
       "<Figure size 432x288 with 1 Axes>"
      ]
     },
     "metadata": {
      "needs_background": "light"
     },
     "output_type": "display_data"
    }
   ],
   "source": [
    "fig, ax = plt.subplots()\n",
    "ax.plot(df_analise_professores)\n",
    "\n",
    "plt.savefig('../plots/qtd_professores_ef.png')"
   ]
  },
  {
   "cell_type": "markdown",
   "metadata": {},
   "source": [
    "### Crianças com idade para estar no ensino fundamental mas estão fora escola"
   ]
  },
  {
   "cell_type": "code",
   "execution_count": 22,
   "metadata": {},
   "outputs": [
    {
     "name": "stdout",
     "output_type": "stream",
     "text": [
      "Total de registros com valores vazios 42\n",
      "Países com dados vazios (%) 19.35\n",
      "Países com valores acima da média (%) 30.29\n",
      "Países 10 maiores valores: South Sudan, Liberia, Eritrea, Equatorial Guinea, Sudan, Djibouti, Niger, Mali, Nigeria, Burkina Faso\n"
     ]
    },
    {
     "data": {
      "text/plain": [
       "count    217.00\n",
       "mean       7.44\n",
       "std       11.20\n",
       "min        0.00\n",
       "25%        0.64\n",
       "50%        3.16\n",
       "75%        8.91\n",
       "max       64.18\n",
       "Name: Media, dtype: float64"
      ]
     },
     "execution_count": 22,
     "metadata": {},
     "output_type": "execute_result"
    }
   ],
   "source": [
    "df_analise_fora_escola = df_analise_indicadores.loc[df_analise_indicadores['Indicator Code'].isin(['UIS.ROFST.1'])]\n",
    "\n",
    "df_analise_fora_escola = df_analise_fora_escola.drop(columns=['Indicator Code'])\n",
    "\n",
    "df_analise_fora_escola.index = range(df_analise_fora_escola.shape[0])\n",
    "\n",
    "df_analise_fora_escola = df_analise_fora_escola.replace(0, np.nan)\n",
    "\n",
    "df_analise_fora_escola['Media'] = df_analise_fora_escola.loc[: , \"2010\":\"2016\"].mean(axis=1).round(2)\n",
    "\n",
    "srs_paises = df_analise_fora_escola['Media']\n",
    "\n",
    "qtd_total_paises = srs_paises.size\n",
    "qtd_preenchidos = srs_paises.count()\n",
    "qtd_vazios = (qtd_total_paises - qtd_preenchidos)\n",
    "print(\"Total de registros com valores vazios\", qtd_vazios)\n",
    "print(\"Países com dados vazios (%)\", ((qtd_vazios*100)/qtd_total_paises).round(2))\n",
    "\n",
    "qtd_paises_pib_acima_media = (srs_paises > srs_paises.mean()).sum()\n",
    "print(\"Países com valores acima da média (%)\", round(((qtd_paises_pib_acima_media*100)/srs_paises.count()), 2))\n",
    "\n",
    "paises_maiores_fora_escola = df_analise_fora_escola.sort_values('Media', ascending=False).head(10)['Country Name'].to_list()\n",
    "nomes_paises = ', '.join(paises_maiores_fora_escola)\n",
    "print(\"Países 10 maiores valores:\", nomes_paises)\n",
    "\n",
    "df_analise_fora_escola = df_analise_fora_escola['Media'].fillna(0)\n",
    "\n",
    "df_analise_fora_escola.describe().round(2)"
   ]
  },
  {
   "cell_type": "code",
   "execution_count": 34,
   "metadata": {},
   "outputs": [
    {
     "data": {
      "image/png": "[encoded data removed]",
      "text/plain": [
       "<Figure size 432x288 with 1 Axes>"
      ]
     },
     "metadata": {
      "needs_background": "light"
     },
     "output_type": "display_data"
    }
   ],
   "source": [
    "fig, ax = plt.subplots()\n",
    "ax.boxplot(df_analise_fora_escola)\n",
    "\n",
    "plt.savefig('../plots/crianças_fora_escola_ef.png')"
   ]
  },
  {
   "cell_type": "markdown",
   "metadata": {},
   "source": [
    "### Proporção de alunos por professores"
   ]
  },
  {
   "cell_type": "code",
   "execution_count": 28,
   "metadata": {},
   "outputs": [
    {
     "name": "stdout",
     "output_type": "stream",
     "text": [
      "Total de registros com valores vazios 31\n",
      "Países com dados vazios (%) 14.29\n",
      "Países com valores acima da média (%) 39.25\n",
      "Países 10 maiores valores: Central African Republic, Malawi, Chad, Rwanda, Mozambique, Ethiopia, Guinea-Bissau, Zambia, South Sudan, Uganda\n"
     ]
    },
    {
     "data": {
      "text/plain": [
       "count    217.00\n",
       "mean      20.49\n",
       "std       15.10\n",
       "min        0.00\n",
       "25%       11.28\n",
       "50%       17.03\n",
       "75%       28.11\n",
       "max       81.92\n",
       "Name: Media, dtype: float64"
      ]
     },
     "execution_count": 28,
     "metadata": {},
     "output_type": "execute_result"
    }
   ],
   "source": [
    "df_analise_alunos = df_analise_indicadores.loc[df_analise_indicadores['Indicator Code'].isin(['SE.PRM.ENRL.TC.ZS'])]\n",
    "\n",
    "df_analise_alunos = df_analise_alunos.drop(columns=['Indicator Code'])\n",
    "\n",
    "df_analise_alunos.index = range(df_analise_alunos.shape[0])\n",
    "\n",
    "df_analise_alunos = df_analise_alunos.replace(0, np.nan)\n",
    "\n",
    "df_analise_alunos['Media'] = df_analise_alunos.loc[: , \"2010\":\"2016\"].mean(axis=1).round(2)\n",
    "\n",
    "srs_paises = df_analise_alunos['Media']\n",
    "\n",
    "qtd_total_paises = srs_paises.size\n",
    "qtd_preenchidos = srs_paises.count()\n",
    "qtd_vazios = (qtd_total_paises - qtd_preenchidos)\n",
    "print(\"Total de registros com valores vazios\", qtd_vazios)\n",
    "print(\"Países com dados vazios (%)\", ((qtd_vazios*100)/qtd_total_paises).round(2))\n",
    "\n",
    "qtd_paises_acima_media = (srs_paises > srs_paises.mean()).sum()\n",
    "print(\"Países com valores acima da média (%)\", round(((qtd_paises_acima_media*100)/srs_paises.count()), 2))\n",
    "\n",
    "paises_maiores_alunos = df_analise_alunos.sort_values('Media', ascending=False).head(10)['Country Name'].to_list()\n",
    "nomes_paises = ', '.join(paises_maiores_alunos)\n",
    "print(\"Países 10 maiores valores:\", nomes_paises)\n",
    "\n",
    "df_analise_alunos = df_analise_alunos['Media'].fillna(0)\n",
    "\n",
    "df_analise_alunos.describe().round(2)"
   ]
  },
  {
   "cell_type": "code",
   "execution_count": 29,
   "metadata": {},
   "outputs": [
    {
     "data": {
      "image/png": "[encoded data removed]",
      "text/plain": [
       "<Figure size 432x288 with 1 Axes>"
      ]
     },
     "metadata": {
      "needs_background": "light"
     },
     "output_type": "display_data"
    }
   ],
   "source": [
    "fig, ax = plt.subplots()\n",
    "ax.boxplot(df_analise_alunos)\n",
    "\n",
    "plt.savefig('../plots/alunos_por_professor_ef.png')"
   ]
  },
  {
   "cell_type": "markdown",
   "metadata": {},
   "source": [
    "### Quantidade de alunos que se matricularam no ensino fundamental"
   ]
  },
  {
   "cell_type": "code",
   "execution_count": 32,
   "metadata": {},
   "outputs": [
    {
     "name": "stdout",
     "output_type": "stream",
     "text": [
      "Total de registros com valores vazios 42\n",
      "Países com dados vazios (%) 19.35\n",
      "Países com valores acima da média (%) 69.71\n",
      "Países 10 maiores valores: Japan, United Kingdom, Germany, Tunisia, Sweden, Norway, Netherlands, Kazakhstan, Spain, Canada\n"
     ]
    },
    {
     "data": {
      "text/plain": [
       "count    217.00\n",
       "mean      73.20\n",
       "std       37.47\n",
       "min        0.00\n",
       "25%       70.45\n",
       "50%       93.24\n",
       "75%       97.42\n",
       "max       99.95\n",
       "Name: Media, dtype: float64"
      ]
     },
     "execution_count": 32,
     "metadata": {},
     "output_type": "execute_result"
    }
   ],
   "source": [
    "df_analise_matriculados = df_analise_indicadores.loc[df_analise_indicadores['Indicator Code'].isin(['SE.PRM.TENR'])]\n",
    "\n",
    "df_analise_matriculados = df_analise_matriculados.drop(columns=['Indicator Code'])\n",
    "\n",
    "df_analise_matriculados.index = range(df_analise_matriculados.shape[0])\n",
    "\n",
    "df_analise_matriculados = df_analise_matriculados.replace(0, np.nan)\n",
    "\n",
    "df_analise_matriculados['Media'] = df_analise_matriculados.loc[: , \"2010\":\"2016\"].mean(axis=1).round(2)\n",
    "\n",
    "srs_paises = df_analise_matriculados['Media']\n",
    "\n",
    "qtd_total_paises = srs_paises.size\n",
    "qtd_preenchidos = srs_paises.count()\n",
    "qtd_vazios = (qtd_total_paises - qtd_preenchidos)\n",
    "print(\"Total de registros com valores vazios\", qtd_vazios)\n",
    "print(\"Países com dados vazios (%)\", ((qtd_vazios*100)/qtd_total_paises).round(2))\n",
    "\n",
    "qtd_paises_acima_media = (srs_paises > srs_paises.mean()).sum()\n",
    "print(\"Países com valores acima da média (%)\", round(((qtd_paises_acima_media*100)/srs_paises.count()), 2))\n",
    "\n",
    "paises_maiores_alunos = df_analise_matriculados.sort_values('Media', ascending=False).head(10)['Country Name'].to_list()\n",
    "nomes_paises = ', '.join(paises_maiores_alunos)\n",
    "print(\"Países 10 maiores valores:\", nomes_paises)\n",
    "\n",
    "df_analise_matriculados = df_analise_matriculados['Media'].fillna(0)\n",
    "\n",
    "df_analise_matriculados.describe().round(2)"
   ]
  },
  {
   "cell_type": "code",
   "execution_count": 33,
   "metadata": {},
   "outputs": [
    {
     "data": {
      "image/png": "[encoded data removed]",
      "text/plain": [
       "<Figure size 432x288 with 1 Axes>"
      ]
     },
     "metadata": {
      "needs_background": "light"
     },
     "output_type": "display_data"
    }
   ],
   "source": [
    "fig, ax = plt.subplots()\n",
    "ax.boxplot(df_analise_matriculados)\n",
    "\n",
    "plt.savefig('../plots/alunos_matriculados_ef.png')"
   ]
  }
 ],
 "metadata": {
  "kernelspec": {
   "display_name": "Python 3",
   "language": "python",
   "name": "python3"
  },
  "language_info": {
   "codemirror_mode": {
    "name": "ipython",
    "version": 3
   },
   "file_extension": ".py",
   "mimetype": "text/x-python",
   "name": "python",
   "nbconvert_exporter": "python",
   "pygments_lexer": "ipython3",
   "version": "3.8.2"
  }
 },
 "nbformat": 4,
 "nbformat_minor": 4
}
