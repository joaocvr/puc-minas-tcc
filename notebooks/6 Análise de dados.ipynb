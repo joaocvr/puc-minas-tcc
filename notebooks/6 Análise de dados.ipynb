{
 "cells": [
  {
   "cell_type": "markdown",
   "metadata": {},
   "source": [
    "# Análise de Dados"
   ]
  },
  {
   "cell_type": "markdown",
   "metadata": {},
   "source": [
    "Nesse notebook será feita uma análise dos dados das bases já trabalhadas."
   ]
  },
  {
   "cell_type": "code",
   "execution_count": 1,
   "metadata": {
    "scrolled": true
   },
   "outputs": [
    {
     "ename": "ModuleNotFoundError",
     "evalue": "No module named 'wordcloud'",
     "output_type": "error",
     "traceback": [
      "\u001b[0;31m---------------------------------------------------------------------------\u001b[0m",
      "\u001b[0;31mModuleNotFoundError\u001b[0m                       Traceback (most recent call last)",
      "\u001b[0;32m<ipython-input-1-37a16f75c95d>\u001b[0m in \u001b[0;36m<module>\u001b[0;34m\u001b[0m\n\u001b[1;32m      1\u001b[0m \u001b[0;32mimport\u001b[0m \u001b[0mnumpy\u001b[0m \u001b[0;32mas\u001b[0m \u001b[0mnp\u001b[0m\u001b[0;34m\u001b[0m\u001b[0;34m\u001b[0m\u001b[0m\n\u001b[1;32m      2\u001b[0m \u001b[0;32mimport\u001b[0m \u001b[0mpandas\u001b[0m \u001b[0;32mas\u001b[0m \u001b[0mpd\u001b[0m\u001b[0;34m\u001b[0m\u001b[0;34m\u001b[0m\u001b[0m\n\u001b[0;32m----> 3\u001b[0;31m \u001b[0;32mfrom\u001b[0m \u001b[0mwordcloud\u001b[0m \u001b[0;32mimport\u001b[0m \u001b[0mWordCloud\u001b[0m\u001b[0;34m,\u001b[0m \u001b[0mSTOPWORDS\u001b[0m\u001b[0;34m\u001b[0m\u001b[0;34m\u001b[0m\u001b[0m\n\u001b[0m\u001b[1;32m      4\u001b[0m \u001b[0;32mimport\u001b[0m \u001b[0mmatplotlib\u001b[0m\u001b[0;34m.\u001b[0m\u001b[0mpyplot\u001b[0m \u001b[0;32mas\u001b[0m \u001b[0mplt\u001b[0m\u001b[0;34m\u001b[0m\u001b[0;34m\u001b[0m\u001b[0m\n\u001b[1;32m      5\u001b[0m \u001b[0;32mimport\u001b[0m \u001b[0mast\u001b[0m\u001b[0;34m\u001b[0m\u001b[0;34m\u001b[0m\u001b[0m\n",
      "\u001b[0;31mModuleNotFoundError\u001b[0m: No module named 'wordcloud'"
     ]
    }
   ],
   "source": [
    "import numpy as np\n",
    "import pandas as pd\n",
    "from wordcloud import WordCloud, STOPWORDS\n",
    "import matplotlib.pyplot as plt\n",
    "import ast\n",
    "import json\n",
    "import seaborn as sns\n",
    "from IPython.display import Image, HTML\n",
    "\n",
    "  \n",
    "#Função para análise de valores ausentes\n",
    "def missingValuesSnapshot(df):\n",
    "    missing_df = df.isnull().sum(axis=0).reset_index()\n",
    "    missing_df.columns = ['column_name', 'missing_count']\n",
    "    missing_df['filling_factor'] = (df.shape[0] \n",
    "                                - missing_df['missing_count']) / df.shape[0] * 100\n",
    "    missing_df.sort_values('filling_factor', inplace=True)\n",
    "    \n",
    "    print(missing_df)\n",
    "    \n",
    "#Leitura de arquivos\n",
    "\n",
    "#Golden Globe\n",
    "gg_path = \"../bases_tratadas/gg_df.csv\"\n",
    "#codificação  \"ISO-8859-1\"\n",
    "gg_df = pd.read_csv(gg_path, encoding = \"ISO-8859-1\")\n",
    "\n",
    "#EMMY \n",
    "emmy_path = \"../bases_tratadas/emmy_df.csv\"\n",
    "emmy_df = pd.read_csv(emmy_path)\n",
    "\n",
    "# Nomeações e premiações por série\n",
    "prizes_nominees_path = '../bases_tratadas/prizes_nominees_df.csv'\n",
    "prizes_nominees_df = pd.read_csv(prizes_nominees_path)\n",
    "\n",
    "# Séries com dados TMDB e IMDB - união\n",
    "series_path = \"../bases_tratadas/series_imdb_tmdb_df.csv\"\n",
    "series_df = pd.read_csv(series_path)"
   ]
  },
  {
   "cell_type": "markdown",
   "metadata": {},
   "source": [
    "## Dataset de Séries"
   ]
  },
  {
   "cell_type": "markdown",
   "metadata": {},
   "source": [
    "### Análise de métricas - votos e popularidade\n",
    "\n",
    "Será feito um estudo sobre os dados de métricas obtidas por meio da interação dos usuários com as bases do TMDB e IMDB: popularidade, número de votos e média da nota:"
   ]
  },
  {
   "cell_type": "code",
   "execution_count": null,
   "metadata": {},
   "outputs": [],
   "source": [
    "def clean_numeric(x):\n",
    "    try:\n",
    "        return float(x)\n",
    "    except:\n",
    "        return np.nan\n"
   ]
  },
  {
   "cell_type": "code",
   "execution_count": null,
   "metadata": {},
   "outputs": [],
   "source": [
    "series_df['popularity'] = series_df['popularity'].apply(clean_numeric).astype('float')\n",
    "series_df['numVotesTMDB'] = series_df['numVotesTMDB'].apply(clean_numeric).astype('float')\n",
    "series_df['averageRatingTMDB'] = series_df['averageRatingTMDB'].apply(clean_numeric).astype('float')\n",
    "series_df['numVotesIMDB'] = series_df['numVotesIMDB'].apply(clean_numeric).astype('float')\n",
    "series_df['averageRatingIMDB'] = series_df['averageRatingIMDB'].apply(clean_numeric).astype('float')"
   ]
  },
  {
   "cell_type": "markdown",
   "metadata": {},
   "source": [
    "Vamos analisar o resumo estatístico de cada um desses atributos:"
   ]
  },
  {
   "cell_type": "markdown",
   "metadata": {},
   "source": [
    "#### Popularidade\n",
    "É uma métrica do TMDB baseada em vários quesitos: nº de votos no dia, nº de visualizações no dia, nº de usuários que 'favoritaram' a série naquele dia, nº de usuários que adicionaram a série à \"watchlist\" no dia, data de lançamento do próximo ou último episódio, número total de votos, pontuação em dias anteriores.\n",
    "    \n",
    "Vemos que é uma métrica baseada na popularidade do momento atual, pois leva em consideração muitos quesitos referentes ao dia, mais do que quesitos acumulados ao longo do tempo. "
   ]
  },
  {
   "cell_type": "code",
   "execution_count": null,
   "metadata": {
    "scrolled": true
   },
   "outputs": [],
   "source": [
    "series_df['popularity'].describe()"
   ]
  },
  {
   "cell_type": "code",
   "execution_count": null,
   "metadata": {
    "scrolled": true
   },
   "outputs": [],
   "source": [
    "sns.distplot(series_df['popularity'])\n",
    "plt.show()"
   ]
  },
  {
   "cell_type": "markdown",
   "metadata": {},
   "source": [
    "A pontuação de popularidade parece ser uma quantidade extremamente distorcida, com uma média de apenas 0,57, mas valores máximos atingindo 318.6. No entanto, como pode ser visto no gráfico de distribuição, quase todos os filmes têm uma pontuação de popularidade menor que 1 (o 75º percentil está em 0,6). \n",
    "Somente registros provenientes da base do TMDB apresentam valores não zerados de popularidade.\n",
    "Vamos ver as séries mais populares:"
   ]
  },
  {
   "cell_type": "code",
   "execution_count": null,
   "metadata": {
    "scrolled": true
   },
   "outputs": [],
   "source": [
    "# Alterando o caminho do poster para incluir tags HTML\n",
    "series_df['poster_path'] = \"<img src='\" + series_df['poster_path'] + \"' style='height:100px;'>\"\n",
    "\n",
    "pop_top = series_df[['poster_path', 'name', 'popularity', 'startSeriesYear']].sort_values('popularity', ascending=False).head(10)\n",
    "pd.set_option('display.max_colwidth', 100)\n",
    "HTML(pop_top.to_html(escape=False))"
   ]
  },
  {
   "cell_type": "markdown",
   "metadata": {},
   "source": [
    "Dos top 10 em popularidade temos 4 com a temática super herói: The Flash, em primeiro, Arrow, em terceiro lugar, The Boys, em sétimo lugar e Marvel's Agents of S.H.I.E.L.D. em décimo. Temos duas séries de desenho: Family Guy e The Simpsons."
   ]
  },
  {
   "cell_type": "markdown",
   "metadata": {},
   "source": [
    "#### Número de Votos - TMDB e IMDB"
   ]
  },
  {
   "cell_type": "code",
   "execution_count": null,
   "metadata": {},
   "outputs": [],
   "source": [
    "series_df['numVotesIMDB'].describe()"
   ]
  },
  {
   "cell_type": "code",
   "execution_count": null,
   "metadata": {},
   "outputs": [],
   "source": [
    "sns.distplot(series_df['numVotesIMDB'])"
   ]
  },
  {
   "cell_type": "code",
   "execution_count": null,
   "metadata": {},
   "outputs": [],
   "source": [
    "series_df['numVotesTMDB'].describe()"
   ]
  },
  {
   "cell_type": "code",
   "execution_count": null,
   "metadata": {},
   "outputs": [],
   "source": [
    "sns.distplot(series_df['numVotesTMDB'])"
   ]
  },
  {
   "cell_type": "markdown",
   "metadata": {},
   "source": [
    "Observa-se que a quantidade de votos no IMDB é muitas ordens de grandeza maior que a quantidade de votos no TMDB. A base do IMDB é bem mais popular e suas votações bem mais expressivas. Podemos ver também que no TMDB (até o 3º quartil), mas também no IMDB (até o 2º), grande número de séries NÃO receberam votos. Lembrando que esse dataset é a junção (via OUTER join) das duas bases e que essas métricas são específicas de cada base.\n",
    "Vamos verificar quais são as séries mais votadas nos sites:"
   ]
  },
  {
   "cell_type": "code",
   "execution_count": null,
   "metadata": {},
   "outputs": [],
   "source": [
    "vote_top = series_df[['poster_path', 'name', 'numVotesIMDB', 'startSeriesYear']].sort_values('numVotesIMDB', ascending=False).head(10)\n",
    "pd.set_option('display.max_colwidth', 100)\n",
    "HTML(vote_top.to_html(escape=False))"
   ]
  },
  {
   "cell_type": "code",
   "execution_count": null,
   "metadata": {},
   "outputs": [],
   "source": [
    "vote_top = series_df[['poster_path', 'name', 'numVotesTMDB', 'startSeriesYear']].sort_values('numVotesTMDB', ascending=False).head(10)\n",
    "pd.set_option('display.max_colwidth', 100)\n",
    "HTML(vote_top.to_html(escape=False))"
   ]
  },
  {
   "cell_type": "markdown",
   "metadata": {},
   "source": [
    "5 dos top 10 são coincidentes nas duas bases. Game Of Thrones é o mais votado em ambas."
   ]
  },
  {
   "cell_type": "markdown",
   "metadata": {},
   "source": [
    "#### Nota média - TMDB e IMDB"
   ]
  },
  {
   "cell_type": "code",
   "execution_count": null,
   "metadata": {},
   "outputs": [],
   "source": [
    "series_df['averageRatingIMDB'].describe()"
   ]
  },
  {
   "cell_type": "code",
   "execution_count": null,
   "metadata": {},
   "outputs": [],
   "source": [
    "sns.distplot(series_df['averageRatingIMDB'])"
   ]
  },
  {
   "cell_type": "code",
   "execution_count": null,
   "metadata": {},
   "outputs": [],
   "source": [
    "series_df['averageRatingTMDB'].describe()"
   ]
  },
  {
   "cell_type": "code",
   "execution_count": null,
   "metadata": {},
   "outputs": [],
   "source": [
    "sns.distplot(series_df['averageRatingTMDB'])"
   ]
  },
  {
   "cell_type": "markdown",
   "metadata": {},
   "source": [
    "A classificação média dos sites também é baixa e mais alta para o IMDB (0,63 para TMDB e 2.02 no IMDB) pelo motivo já citado anteriormente: a junção das bases ter sido feita no modo OUTER join para trabalharmos com maior número de dados fez com que essas métricas específicas de cada base apresentassem muitos zeros.\n",
    "\n",
    "Ao verificar quais são as 10 séries mais bem avaliadas pela crítica restringiremos a avaliação às séries que tiveram um número mínimo de votos: 1000 no caso do TMDB e 10000 no caso do IMDB, porque ter uma média alta com poucos avaliadores é fácil. "
   ]
  },
  {
   "cell_type": "code",
   "execution_count": null,
   "metadata": {},
   "outputs": [],
   "source": [
    "avg_top = series_df[series_df['numVotesIMDB'] > 10000][['poster_path', 'name', 'averageRatingIMDB', 'numVotesIMDB' ,'averageRatingTMDB', 'numVotesTMDB','original_language','startSeriesYear']].sort_values('averageRatingIMDB', ascending=False).head(10)\n",
    "pd.set_option('display.max_colwidth', 100)\n",
    "HTML(avg_top.to_html(escape=False))"
   ]
  },
  {
   "cell_type": "code",
   "execution_count": null,
   "metadata": {},
   "outputs": [],
   "source": [
    "avg_top = series_df[series_df['numVotesTMDB'] > 1000][['poster_path', 'name', 'averageRatingTMDB', 'numVotesTMDB' ,'averageRatingIMDB', 'numVotesIMDB','original_language','startSeriesYear']].sort_values('averageRatingTMDB', ascending=False).head(10)\n",
    "pd.set_option('display.max_colwidth', 100)\n",
    "HTML(avg_top.to_html(escape=False))"
   ]
  },
  {
   "cell_type": "markdown",
   "metadata": {},
   "source": [
    "Nas tabelas acima as séries foram ranqueadas primeiro pela nota média no IMDB e depois pela nota média do TMDB. Em ambas as tabelas mostramos informações de métricas dos dois sites para comparação. \n",
    "\n",
    "Uma descoberta interessante: observamos que para 4 séries do top 10 nota média do IMDB (com no mínimo 10.000 votos no site) temos uma votação insignificante no site do TMDB. Essas 4 séries (The Ants ou Koombiyo, The Filthy Frank Show,  College Romance e Yeh Meri Family) são asiáticas, duas indianas, o primeiro lugar é do Sri Lanka e o segundo lugar é uma série de um canal de um rapaz japonês no Youtube, algo que não havia sido previsto no início desse trabalho. Diante dessa observação podemos ponderar que o IMDB é uma base divulgada mundialmente, apresentando conteúdo e avaliações que ultrapassam o comum americano e englobam produções extremamente independentes e variadas, tais quais as presentes nos canais do Youtube. Já o TMDB é uma base mais focada em conteúdo americano e produtoras tradicionais."
   ]
  },
  {
   "cell_type": "markdown",
   "metadata": {},
   "source": [
    "### Análise de incidências\n",
    "\n",
    "Primeiro vamos analisar as ocorrências nas colunas que informam gênero, país de origem, línguas, tempo por episódio e temporadas:"
   ]
  },
  {
   "cell_type": "markdown",
   "metadata": {},
   "source": [
    "#### Gêneros"
   ]
  },
  {
   "cell_type": "code",
   "execution_count": null,
   "metadata": {},
   "outputs": [],
   "source": [
    "def countDifferentItemsFromColumnList(df, columnName):\n",
    "    df[columnName] = df[columnName].fillna('[]').apply(ast.literal_eval)\n",
    "    s = df.apply(lambda x: pd.Series(x[columnName]),axis=1).stack().reset_index(level=1, drop=True)\n",
    "    s.name = 'occurrences'\n",
    "    gen_df = series_df.drop(columnName, axis=1).join(s)\n",
    "    print(\"#### \" + columnName + \"  ####\");\n",
    "    print(\"Number of items: \" + str(gen_df['occurrences'].value_counts().shape[0]));\n",
    "    pop_gen = pd.DataFrame(gen_df['occurrences'].value_counts()).reset_index()\n",
    "    pop_gen.columns = ['occurrences', 'series']\n",
    "    print(\"List of occurrences: \")\n",
    "    print(pop_gen)\n",
    "    print(\"Bar chart: \")\n",
    "    plt.figure(figsize=(18,8))\n",
    "    sns.barplot(x='occurrences', y='series', data=pop_gen.head(15))\n",
    "    plt.show()\n",
    "\n",
    "countDifferentItemsFromColumnList(series_df.copy(), 'genres')\n"
   ]
  },
  {
   "cell_type": "markdown",
   "metadata": {},
   "source": [
    "TMDB e IMDB definem 38 denominações diferentes de gêneros. A maior incidência com considerável distância dos demais gêneros é de dramas e comédias. Não sem propósito, nas premiações temos várias categorias exclusivas para premiar séries desses dois gêneros.\n",
    "\n",
    "Vamos aproveitar o momento para tratar os dados de gênero criando os atributos ehComedia, ehDrama e ehDocumentario para substituir o atributo 'genres' e diminuindo os valores ausentes do dataframe:"
   ]
  },
  {
   "cell_type": "code",
   "execution_count": null,
   "metadata": {},
   "outputs": [],
   "source": [
    "#Função para informar se dado value está denstro dos valores de lista\n",
    "def isValuesInStrList(strList, value):\n",
    "    if isinstance(strList, float):\n",
    "        return False\n",
    "    else:\n",
    "        strList = ast.literal_eval(strList)\n",
    "        if isinstance(strList, list):\n",
    "            for s in strList:\n",
    "                if(s == value):\n",
    "                    return True\n",
    "            return False\n",
    "        else:\n",
    "            return False\n",
    "        \n",
    "#- para substituir o atributo genres:  ehComedia, ehDrama e ehDocumentario\n",
    "series_df['ehComedia'] = series_df['genres'].apply(isValuesInStrList, args=('Comedy',))\n",
    "series_df['ehDrama'] = series_df['genres'].apply(isValuesInStrList, args = ('Drama',))\n",
    "series_df['ehDocumentario'] = series_df['genres'].apply(isValuesInStrList, args = ('Documentary',))\n",
    "series_df = series_df.drop('genres', axis=1)\n",
    "missingValuesSnapshot(series_df)"
   ]
  },
  {
   "cell_type": "markdown",
   "metadata": {},
   "source": [
    "#### País de Origem"
   ]
  },
  {
   "cell_type": "code",
   "execution_count": null,
   "metadata": {},
   "outputs": [],
   "source": [
    "countDifferentItemsFromColumnList(series_df.copy(), 'origin_country')"
   ]
  },
  {
   "cell_type": "markdown",
   "metadata": {},
   "source": [
    "130 países de origem diferentes. Maiores representantes EUA, Grão Bretanha e Japão. O Brasil está em 17º lugar, com 494 séries.\n",
    "\n",
    "Levantamos aqui uma hipótese: o número expresivo de séries japonesas tem como 'network' o YouTube? Vamos atualizar o notebook  4 para termos um atributo ehYouTube no dataframe e analisar a questão abaixo:"
   ]
  },
  {
   "cell_type": "code",
   "execution_count": null,
   "metadata": {},
   "outputs": [],
   "source": [
    "temp_df = series_df[series_df['origin_country'].apply(isValuesInStrList, args=('JP',))]\n",
    "print(\"Número de registros com país de origem Japão: \" + str(temp_df.shape[0]));\n",
    "temp_df = temp_df[temp_df['ehYouTube']];\n",
    "print(\"Número de registros com país de origem Japão com network Youtube: \" + str(temp_df.shape[0]));"
   ]
  },
  {
   "cell_type": "markdown",
   "metadata": {},
   "source": [
    "Nossa hipótese não se comprovou...rs"
   ]
  },
  {
   "cell_type": "markdown",
   "metadata": {},
   "source": [
    "#### Nº de episódios e Nº de Temporadas\n",
    "\n",
    "Esses dois atributos são relacionados: quanto mais temporadas, mais episódios: existe uma correlação de 0,43. O fato de se ter mais temporadas apresenta um diferencial, pois uma temporada representa um novo ciclo contratual da série, o que é um indicativo de que a série está indo bem, é algo bem significativo. Vejamos o resumo estatístico desses dois atributos:"
   ]
  },
  {
   "cell_type": "code",
   "execution_count": null,
   "metadata": {},
   "outputs": [],
   "source": [
    "series_df['number_of_episodes'].corr(series_df['number_of_seasons'])"
   ]
  },
  {
   "cell_type": "code",
   "execution_count": null,
   "metadata": {},
   "outputs": [],
   "source": [
    "series_df['number_of_episodes'].value_counts().head(10)"
   ]
  },
  {
   "cell_type": "code",
   "execution_count": null,
   "metadata": {},
   "outputs": [],
   "source": [
    "series_df[series_df['number_of_episodes'] > 0][['number_of_episodes', 'name', 'startSeriesYear']].sort_values(by = ['number_of_episodes', 'startSeriesYear'], ascending=False).head(10)"
   ]
  },
  {
   "cell_type": "markdown",
   "metadata": {},
   "source": [
    "Pelo resumo de ocorrências da coluna 'number_of_episodes' vemos que a muitas séries foi atribuído o valor zero de episódios. Zero é o segundo valor mais frequente, sendo o primeiro um valor não inteiro 20.847526 que é o resultado da estratégia de preenchimento de campos nulos que foi aplicada no notebook 4.\n",
    "\n",
    "Os primeiros resultados de séries com maior número de episódios são programas diários. Temos também novelas e shows de perguntas e respostas."
   ]
  },
  {
   "cell_type": "code",
   "execution_count": null,
   "metadata": {},
   "outputs": [],
   "source": [
    "series_df['number_of_seasons'].value_counts().head(10)"
   ]
  },
  {
   "cell_type": "code",
   "execution_count": null,
   "metadata": {},
   "outputs": [],
   "source": [
    "series_df[series_df['number_of_seasons'] > 0][['number_of_seasons', 'name', 'startSeriesYear']].sort_values(by = ['number_of_seasons', 'startSeriesYear'], ascending=False).head(10)"
   ]
  },
  {
   "cell_type": "markdown",
   "metadata": {},
   "source": [
    "Pelo resumo de ocorrências da coluna 'number_of_seasons' vemos que a muitas séries foi atribuído o valor zero ou um0 de temporadas. Zero é o terceiro valor mais frequente, sendo o segundo o valor um e o primeiro um valor não inteiro 1.31833 que é o resultado da estratégia de preenchimento de campos nulos que foi aplicada no notebook 4.\n",
    "\n",
    "Exemplos das séries com mais temporadas:\n",
    "Fitil é uma popular série de curtas-metragens satíricos / comédias de televisão soviética / russa. Alguns dos episódios foram dirigidos a crianças. Cada edição continha os poucos segmentos curtos: documentário, fictício e animado.\n",
    "\n",
    "A Play School é um programa de televisão educacional premiado pela Australian Gold Logie para crianças produzido pela Australian Broadcasting Corporation. É o show infantil de maior duração na Austrália e o segundo show infantil de maior duração do mundo.\n"
   ]
  },
  {
   "cell_type": "markdown",
   "metadata": {},
   "source": [
    "#### Tempo por episódio\n",
    "Vamos analisar o tempo médio por episódio:"
   ]
  },
  {
   "cell_type": "code",
   "execution_count": null,
   "metadata": {},
   "outputs": [],
   "source": [
    "series_df['episodeRuntimeSeries'].value_counts().head(10)"
   ]
  },
  {
   "cell_type": "markdown",
   "metadata": {},
   "source": [
    "O tempo médio mais recorrente é um tempo fracionado, obtido  pela estratégia de preenchimento de campos nulos que foi aplicada no notebook 4. Em seguida temos séries de 30 e 60 minutos e depois de 45 e 25 minutos. Vamos ver se a duração média dos episódios das séries seguiu algum padrão ou apresenta alguma tendência ao longo do tempo:"
   ]
  },
  {
   "cell_type": "code",
   "execution_count": null,
   "metadata": {},
   "outputs": [],
   "source": [
    "series_df['episodeRuntimeSeries'] = series_df['episodeRuntimeSeries'].astype('float')\n",
    "plt.figure(figsize=(18,5))\n",
    "year_runtime = series_df.groupby('startSeriesYear')['episodeRuntimeSeries'].mean()\n",
    "plt.plot(year_runtime.index, year_runtime)\n",
    "plt.xticks(np.arange(1874, 2024, 10.0))\n",
    "plt.show()"
   ]
  },
  {
   "cell_type": "markdown",
   "metadata": {},
   "source": [
    "É possível perceber que demorou um pouco para ocorrer a formação de um padrão na duração média dos episódios das séries, mas que por volta dos anos 60 esse padrão se definiu, entre os 40 e 60 minutos. Vimos que existem muitas séries com episódios curtos de 30 minutos, mas as as séries com mais de 50 minutos são mais numerosas. O início do gráfico, principalmente entre 1924 e 1934, apresenta uma variação bem grande de tempo médio de episódio. \n",
    "\n",
    "Vamos ver as séries com os menores e maiores tempos por episódio:"
   ]
  },
  {
   "cell_type": "code",
   "execution_count": null,
   "metadata": {},
   "outputs": [],
   "source": [
    "series_df[series_df['episodeRuntimeSeries'] > 0][['episodeRuntimeSeries', 'name', 'startSeriesYear']].sort_values(by = ['episodeRuntimeSeries', 'startSeriesYear']).head(10)"
   ]
  },
  {
   "cell_type": "markdown",
   "metadata": {},
   "source": [
    "Existem muitas séries com duração de 1 minuto! Exemplo de série de duração de 1 minuto: Minutos do Bicentenário foi uma série de curtos segmentos educacionais da televisão americana comemorando o bicentenário da Revolução Americana. Snipets era uma série de curtas-metragens de 30 segundos a um minuto para crianças.\n"
   ]
  },
  {
   "cell_type": "code",
   "execution_count": null,
   "metadata": {},
   "outputs": [],
   "source": [
    "series_df[series_df['episodeRuntimeSeries'] > 0][['episodeRuntimeSeries', 'name', 'startSeriesYear']].sort_values(by = ['episodeRuntimeSeries', 'startSeriesYear'], ascending=False).head(10)"
   ]
  },
  {
   "cell_type": "markdown",
   "metadata": {},
   "source": [
    "As séries de episódios mais longos são falhas de interpretação do campo. Por exemplo, no primeiro caso o tempo de execução está 8.400 min, mas esse é referente aos 280 episódios da série e não a cada um. \n",
    "Consideramos a possibilidade de erro de interpretação do campo no momento da junção das bases do TMDB e IMDB. No entanto analisando os casos acima verificamos que nas bases de origem mesmo temos o erro de interpretação. Por vezes o tempo cadastrado se refere a todos os episódios e por vezes se refere a um tempo por episódio. \n",
    "\n",
    "Vamos estimar o tamanho desse problema:"
   ]
  },
  {
   "cell_type": "code",
   "execution_count": null,
   "metadata": {},
   "outputs": [],
   "source": [
    "# linhas em que o tempo por episódio está maior que 240 minutos (4 horas de duração)\n",
    "problems = series_df.apply(lambda x: True if x['episodeRuntimeSeries'] > 240 else False , axis=1)\n",
    " \n",
    "#print(series_df[problems][['episodeRuntimeSeries', 'number_of_episodes', 'name']])    \n",
    "# Count number of True in series\n",
    "numOfRows = len(problems[problems == True].index)\n",
    " \n",
    "print('Number of Rows in dataframe in which episodeRuntimeSeries > 240 : ', numOfRows)\n",
    "\n",
    "# Count number of True in series\n",
    "numOfRows = len(problems[problems == False].index)\n",
    "print('Number of Rows in dataframe in which episodeRuntimeSeries <= 240 : ', numOfRows)"
   ]
  },
  {
   "cell_type": "markdown",
   "metadata": {},
   "source": [
    "Com a estimativa realizada, vemos que esse problema ocorre em menos de 1% dos registros. "
   ]
  },
  {
   "cell_type": "markdown",
   "metadata": {},
   "source": [
    "#### Línguas"
   ]
  },
  {
   "cell_type": "markdown",
   "metadata": {},
   "source": [
    "Vamos analisar o número de línguas faladas em uma série. Vamos aproveitar para tratar o atributo languages da seguinte forma - ele será subtituído pelo número de línguas que apresenta, evitando assim os valores vazios:"
   ]
  },
  {
   "cell_type": "code",
   "execution_count": null,
   "metadata": {},
   "outputs": [],
   "source": [
    "series_df['languages'] = series_df['languages'].fillna('[]').apply(ast.literal_eval).apply(lambda x: len(x) if isinstance(x, list) else np.nan)\n",
    "series_df['languages'].value_counts()\n",
    "\n"
   ]
  },
  {
   "cell_type": "markdown",
   "metadata": {},
   "source": [
    "A maioria das séries com campo preenchido apresenta língua única (46409). A grande maioria não têm essa informação (193845). A série com maior número de línguas tem 17 línguas registradas."
   ]
  },
  {
   "cell_type": "code",
   "execution_count": null,
   "metadata": {},
   "outputs": [],
   "source": [
    "series_df[series_df['languages'] >= 6][['name', 'startSeriesYear', 'languages']].sort_values('languages', ascending=False)"
   ]
  },
  {
   "cell_type": "markdown",
   "metadata": {},
   "source": [
    "A série com mais línguas registradas na base, 17 línguas, é \"Total Drama: Revenge of the Island\" que é a quarta temporada da franquia \"Total Drama\". É um desenho que faz uma paródia de reality shows.\n",
    "\n",
    "A segunda na lista é \"Cold War\": uma série de documentários televisivos de 24 episódios sobre a Guerra Fria que foi ao ar em 1998. Apresenta várias entrevistas e cenas dos eventos que moldaram as relações tensas entre a União Soviética e os Estados Unidos. O caráter global do evento tratado e o fato de ser um documentário repleto de entrevistas justifica a diversidade linguística da série.\n",
    "\n"
   ]
  },
  {
   "cell_type": "markdown",
   "metadata": {},
   "source": [
    "### Séries ao longo dos anos\n",
    "Vamos analisar o lançamento de séries ao longo dos anos:"
   ]
  },
  {
   "cell_type": "code",
   "execution_count": null,
   "metadata": {},
   "outputs": [],
   "source": [
    "year_count = series_df.groupby('startSeriesYear')['name'].count()\n",
    "plt.figure(figsize=(15,3))\n",
    "year_count.plot()"
   ]
  },
  {
   "cell_type": "markdown",
   "metadata": {},
   "source": [
    "O gráfico de distribuição de números de séries produzidas ao longo do tempo mostra a forte tendência de aumento na produção de séries."
   ]
  },
  {
   "cell_type": "code",
   "execution_count": null,
   "metadata": {},
   "outputs": [],
   "source": [
    "series_df[['name', 'startSeriesYear']].sort_values('startSeriesYear').head(10)"
   ]
  },
  {
   "cell_type": "markdown",
   "metadata": {},
   "source": [
    "Analisando a lista de séries mais antigas (de 1897 a 1916) vemos programas diários, shows do Charlie Chaplin e um seriado francês (Judex)."
   ]
  },
  {
   "cell_type": "markdown",
   "metadata": {},
   "source": [
    "### Verificação de colunas categóricas"
   ]
  },
  {
   "cell_type": "markdown",
   "metadata": {},
   "source": [
    "Analisaremos os atributos status, type, titleType e isAdult"
   ]
  },
  {
   "cell_type": "code",
   "execution_count": null,
   "metadata": {},
   "outputs": [],
   "source": [
    "series_df['status'].value_counts()"
   ]
  },
  {
   "cell_type": "code",
   "execution_count": null,
   "metadata": {},
   "outputs": [],
   "source": [
    "series_df['type'].value_counts()"
   ]
  },
  {
   "cell_type": "code",
   "execution_count": null,
   "metadata": {},
   "outputs": [],
   "source": [
    "series_df['titleType'].value_counts()"
   ]
  },
  {
   "cell_type": "code",
   "execution_count": null,
   "metadata": {},
   "outputs": [],
   "source": [
    "series_df['isAdult'].value_counts()"
   ]
  },
  {
   "cell_type": "markdown",
   "metadata": {},
   "source": [
    "Observando a distribuição das séries em relação a esses atributos, é possível notar que:\n",
    "\n",
    "- Seguindo raciocínio lógico, temos mais séries finalizadas do que em andamento.\n",
    "- Em relação ao tipo temos uma forte presença das séries roteirizadas, que contam uma história ao longo de temporadas que vão sendo desenvolvidas ao longo do tempo. Em seguida, séries no formato mini-série, com início e fim pré-determinados. Depois séries de \"reality\" - shows de tv que têm suas temporadas, mas que não contam histórias. Temos também documentários, talk shows, news e video.\n",
    "\n",
    "As colunas isAdult e titleType, provenientes do IMDB, apresentam 79.40% de preenchimento. Já type e status, provenientes do TMDB, apresentam 34.32% de preenchimento. Para futuras análises em que aplicaremos classificadores, vamos:\n",
    "preencher os valores nulos das colunas type, titleType e status com o valor 'unknown'\n",
    "excluir o atributo isAdult, pois este se mostra irrelevante para a análise em questão.\n"
   ]
  },
  {
   "cell_type": "code",
   "execution_count": null,
   "metadata": {},
   "outputs": [],
   "source": [
    "series_df['titleType'] = series_df['titleType'].fillna('unknown')\n",
    "series_df['status'] = series_df['status'].fillna('unknown')\n",
    "series_df['type'] = series_df['type'].fillna('unknown')\n",
    "series_df = series_df.drop('isAdult', axis=1)\n",
    "\n",
    "\n",
    "missingValuesSnapshot(series_df)"
   ]
  },
  {
   "cell_type": "markdown",
   "metadata": {},
   "source": [
    "\n",
    "### Língua original\n",
    "\n",
    "Vamos verificar a diversidade de línguas das séries na base do TMDB e a preponderância do inglês. \n"
   ]
  },
  {
   "cell_type": "code",
   "execution_count": null,
   "metadata": {},
   "outputs": [],
   "source": [
    "series_df['original_language'].drop_duplicates().shape[0]"
   ]
  },
  {
   "cell_type": "code",
   "execution_count": null,
   "metadata": {},
   "outputs": [],
   "source": [
    "lang_df = pd.DataFrame(series_df['original_language'].value_counts())\n",
    "lang_df['language'] = lang_df.index\n",
    "lang_df.columns = ['number', 'language']\n",
    "lang_df.head()"
   ]
  },
  {
   "cell_type": "markdown",
   "metadata": {},
   "source": [
    "Existem 88 línguas de origem diferentes no dataset. Como esperado, o inglês é fortemente dominante. O japonês assume a segunda posição."
   ]
  },
  {
   "cell_type": "markdown",
   "metadata": {},
   "source": [
    "Gráfico abaixo excluindo o inglês para poder perceber melhor a diferença de incidência entre as outras linguagens."
   ]
  },
  {
   "cell_type": "code",
   "execution_count": null,
   "metadata": {},
   "outputs": [],
   "source": [
    "plt.figure(figsize=(12,5))\n",
    "sns.barplot(x='language', y='number', data=lang_df.iloc[1:15])\n",
    "plt.show()"
   ]
  },
  {
   "cell_type": "markdown",
   "metadata": {},
   "source": [
    "O número de séries japonesas realmente é preponderante (desconsiderando o inglês). Vemos dentre alguns exemplos dessas séries japonesas, séries de desenho e super-heróis:"
   ]
  },
  {
   "cell_type": "code",
   "execution_count": null,
   "metadata": {},
   "outputs": [],
   "source": [
    "series_df[series_df['original_language']== 'ja'][['name', 'startSeriesYear']].sort_values('startSeriesYear').head(10)"
   ]
  },
  {
   "cell_type": "markdown",
   "metadata": {},
   "source": [
    "### Análise das bases de premiações\n",
    "\n",
    "As bases do EMMY e do Golden Globe foram tratadas de forma a apresentar a mesma estrutura com os campos: year, category, winner e seriesName."
   ]
  },
  {
   "cell_type": "markdown",
   "metadata": {},
   "source": [
    "#### Número de categorias ao longo dos anos\n",
    "Ambas as premiações apresentam diversas categorias de premiação. Vamos verificar como a quantidade de categorias diferentes variou ao longo dos anos. Lembrando que as bases aqui trabalhadas podem apresentar categorias além das destinadas somente à séries:"
   ]
  },
  {
   "cell_type": "code",
   "execution_count": null,
   "metadata": {
    "scrolled": false
   },
   "outputs": [],
   "source": [
    "def showCategoriesOverTheYears(df):\n",
    "    df  = df.groupby('year').category.nunique().to_frame(name = 'num_categories').reset_index()\n",
    "    plt.figure(figsize=(20,7))\n",
    "    chart = sns.barplot(x='year', y='num_categories', data=df)\n",
    "    chart.set_xticklabels(chart.get_xticklabels(), rotation=45)\n",
    "    plt.show()\n",
    "\n",
    "showCategoriesOverTheYears(emmy_df)\n"
   ]
  },
  {
   "cell_type": "code",
   "execution_count": null,
   "metadata": {},
   "outputs": [],
   "source": [
    "showCategoriesOverTheYears(gg_df)"
   ]
  },
  {
   "cell_type": "markdown",
   "metadata": {},
   "source": [
    "Vemos que o Emmy apresenta um número máximo de categorias bem maior, quase 4 vezes maior, que o Golden Globe. Além disso:\n",
    "- para o dataset do EMMY: as categorias aparecem desde o ano de 1949 até o ano de 2017 e, apesar de variarem consideravelmente em alguns anos, apresentam tendência de crescimento. 1965 é um ano que se destaca com o menor número de categorias. Pesquisando, encontramos a informação que nesse ano a estrutura da cerimônia bem diferente dos anos anteriores. As categorias foram simplificadas para que houvesse apenas quatro categorias principais (o ano anterior tinha 20 categorias principais). Como resultado, apenas cinco shows ganharam um prêmio. O novo formato foi descartado, e no ano seguinte o Emmy voltou ao formato tradicional.\n",
    "- para o dataset do Golden Globe: as categorias aparecem no intervalo desde o ano de 1944 até o ano de 2011. Regra geral a tendência também é de crescimento do número de categorias mas com intervalos de estabilização.\n"
   ]
  },
  {
   "cell_type": "markdown",
   "metadata": {},
   "source": [
    "#### Obtendo número de nomeações e prêmios por série"
   ]
  },
  {
   "cell_type": "code",
   "execution_count": null,
   "metadata": {},
   "outputs": [],
   "source": [
    "#Agrupar por nome da série para obter em um mesmo dataframe o número de nomeações e de premiações de uma série \n",
    "#no EMMY e no GG.\n",
    "\n",
    "def groupBySeriesNomineesAndPrizes(df):\n",
    "    # agrupa pelo nome da série\n",
    "    grp = df.groupby('seriesName', sort=False)\n",
    "    prizes_df = pd.DataFrame({'prizes': grp['winner'].sum(),\n",
    "                               'nominees':  grp.size()}).reset_index()\n",
    "    print(\"Mais premiados: \")\n",
    "    print(prizes_df[prizes_df.prizes == prizes_df.prizes.max()])\n",
    "    print(\"Mais nomeados: \")\n",
    "    print(prizes_df[prizes_df.nominees == prizes_df.nominees.max()])\n",
    "    return prizes_df\n",
    "\n",
    "prizes_nominees_emmy = groupBySeriesNomineesAndPrizes(emmy_df)\n",
    "prizes_nominees_gg = groupBySeriesNomineesAndPrizes(gg_df)\n",
    "\n"
   ]
  },
  {
   "cell_type": "markdown",
   "metadata": {},
   "source": [
    "Vamos agora fazer a junção dos datasets de premiação:"
   ]
  },
  {
   "cell_type": "code",
   "execution_count": null,
   "metadata": {},
   "outputs": [],
   "source": [
    "# o merge já foi gerado no notebook 5\n",
    "prizes_nominees_path = '../bases_tratadas/prizes_nominees_df.csv';\n",
    "prizes_nominees_df =pd.read_csv(prizes_nominees_path)\n",
    "\n",
    "print(\"Mais premiados em ambas as premiações: \")\n",
    "print(prizes_nominees_df[prizes_nominees_df.total_prizes == prizes_nominees_df.total_prizes.max()])\n",
    "print(\"Mais nomeados em ambos as nomeações: \")\n",
    "print(prizes_nominees_df[prizes_nominees_df.total_nominees == prizes_nominees_df.total_nominees.max()])\n",
    "\n"
   ]
  },
  {
   "cell_type": "markdown",
   "metadata": {},
   "source": [
    "## Junção de dataset agrupado de premiações por série com dataset de séries\n",
    "\n",
    "Com essa junção estamos restringindo os registros de nomeação e de premiações a séries que existam na base construída a partir do TMDB e IMDB."
   ]
  },
  {
   "cell_type": "code",
   "execution_count": null,
   "metadata": {},
   "outputs": [],
   "source": [
    "series_prizes_nominees_df =  pd.merge(series_df, prizes_nominees_df, how='left', left_on=['name'],\n",
    "                                    right_on =['seriesName'])\n",
    "\n",
    "\n",
    "print(\"Número de séries com nomeação ou prêmio - data frames EMMY e GG: \" + str(len(prizes_nominees_df)))\n",
    "print(\"Número de séries no arquivo de séries: \" + str(len(series_df)))\n",
    "\n",
    "print(\"Número de séries com nomeação ou prêmio no dataframe final - JOINED: \")\n",
    "print(str(len(series_prizes_nominees_df.loc[series_prizes_nominees_df['total_nominees'].notnull()])))"
   ]
  },
  {
   "cell_type": "markdown",
   "metadata": {},
   "source": [
    "Como a junção das bases foi feita com base no valor exato do nome da série, podemos ter perdido algumas combinações de registros. No entanto vamos optar por trabalhar com esses registros de cuja combinação temos maior certeza. Vamos salvar a base para posterior trabalho de classificação:"
   ]
  },
  {
   "cell_type": "code",
   "execution_count": null,
   "metadata": {},
   "outputs": [],
   "source": [
    "series_prizes_nominees_df.to_csv('../bases_tratadas/series_prizes_nominees_df.csv')\n"
   ]
  },
  {
   "cell_type": "code",
   "execution_count": null,
   "metadata": {},
   "outputs": [],
   "source": [
    "missingValuesSnapshot(series_prizes_nominees_df)"
   ]
  },
  {
   "cell_type": "markdown",
   "metadata": {},
   "source": [
    "### Análise dos nomes das séries nas diferentes bases\n",
    "\n",
    "Será analisada a nuvem de palavras que ilustra a recorrência de termos nos títulos das séries em geral e das séries que tiveram nomeações, no EMMY e no GOLDEN GLOBE."
   ]
  },
  {
   "cell_type": "code",
   "execution_count": null,
   "metadata": {},
   "outputs": [],
   "source": [
    "def wordCloudOfAColumn(df, columnName):\n",
    "    df[columnName] = df[columnName].astype('str')\n",
    "    corpus = ' '.join(df[columnName])\n",
    "    title_wordcloud = WordCloud(stopwords=STOPWORDS, background_color='white', height=2000, width=4000).generate(corpus)\n",
    "    plt.figure(figsize=(16,8))\n",
    "    plt.imshow(title_wordcloud)\n",
    "    plt.axis('off')\n",
    "    plt.show()\n",
    "\n",
    "\n",
    "#Título geral\n",
    "wordCloudOfAColumn(series_prizes_nominees_df, 'name')\n"
   ]
  },
  {
   "cell_type": "code",
   "execution_count": null,
   "metadata": {},
   "outputs": [],
   "source": [
    "#Título No EMMY ou Golden Globe que não seja nulo\n",
    "df_tmp = series_prizes_nominees_df[pd.notnull(series_prizes_nominees_df.seriesName)]\n",
    "#print(df_tmp)\n",
    "wordCloudOfAColumn(df_tmp, 'seriesName')\n",
    "\n"
   ]
  },
  {
   "cell_type": "markdown",
   "metadata": {},
   "source": [
    "A nuvem de palavras de séries em geral mostra termos bem recorrentes nos nomes de programas de tv (TV, Show, Live, Life, Love, New, World, etc). Já nuvem de palavras de séries que foram pelo menos nomeadas ao Emmy ou ao Golden Globe também apresenta algumas dessas palavras em destaque (Show, World) mas apresenta forte recorrência nas palavras (American, Family, Special, War). Tais palavras estão presentes em títulos de séries nomeados nos eventos Emmy e Golden Globe. Nessa nuvem também é possível ler títulos inteiros de séries, como “Sherlock Holmes”."
   ]
  },
  {
   "cell_type": "code",
   "execution_count": null,
   "metadata": {},
   "outputs": [],
   "source": []
  }
 ],
 "metadata": {
  "kernelspec": {
   "display_name": "Python 3",
   "language": "python",
   "name": "python3"
  },
  "language_info": {
   "codemirror_mode": {
    "name": "ipython",
    "version": 3
   },
   "file_extension": ".py",
   "mimetype": "text/x-python",
   "name": "python",
   "nbconvert_exporter": "python",
   "pygments_lexer": "ipython3",
   "version": "3.8.2"
  }
 },
 "nbformat": 4,
 "nbformat_minor": 2
}
